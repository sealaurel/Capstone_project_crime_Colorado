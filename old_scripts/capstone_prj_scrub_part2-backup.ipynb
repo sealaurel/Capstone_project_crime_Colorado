{
 "cells": [
  {
   "cell_type": "markdown",
   "metadata": {},
   "source": [
    "# Data Science Project"
   ]
  },
  {
   "cell_type": "markdown",
   "metadata": {},
   "source": [
    "* Name: Author Name\n",
    "* Email:\n"
   ]
  },
  {
   "cell_type": "markdown",
   "metadata": {},
   "source": [
    "## TABLE OF CONTENTS "
   ]
  },
  {
   "cell_type": "markdown",
   "metadata": {},
   "source": [
    "\n",
    "- **[Introduction](#INTRODUCTION)<br>**\n",
    "- **[OBTAIN](#OBTAIN)**<br>\n",
    "- **[SCRUB](#SCRUB)**<br>\n",
    "- **[EXPLORE](#EXPLORE)**<br>\n",
    "- **[MODEL](#MODEL)**<br>\n",
    "- **[iNTERPRET](#iNTERPRET)**<br>\n",
    "- **[Conclusions/Recommendations](#CONCLUSIONS-&-RECOMMENDATIONS)<br>**\n",
    "___"
   ]
  },
  {
   "cell_type": "markdown",
   "metadata": {},
   "source": [
    "# INTRODUCTION"
   ]
  },
  {
   "cell_type": "markdown",
   "metadata": {},
   "source": [
    "> Explain the point of your project and what question you are trying to answer with your modeling.\n",
    "\n"
   ]
  },
  {
   "cell_type": "code",
   "execution_count": null,
   "metadata": {
    "ExecuteTime": {
     "end_time": "2021-07-07T17:53:37.240301Z",
     "start_time": "2021-07-07T17:53:35.679948Z"
    }
   },
   "outputs": [],
   "source": [
    "# Importing packages\n",
    "import pandas as pd\n",
    "from pandasql import sqldf\n",
    "import numpy as np\n",
    "import matplotlib.pyplot as plt\n",
    "import seaborn as sns\n",
    "import pickle\n",
    "import gzip\n",
    "import shutil\n",
    "import os\n",
    "import sqlite3\n",
    "import db_to_sqlite\n",
    "from sqlite3 import Error\n",
    "import csv\n",
    "from pathlib import Path\n",
    "import subprocess\n",
    "import io\n",
    "from icecream import ic\n",
    "import warnings\n",
    "warnings.filterwarnings(action='ignore', category=FutureWarning)\n",
    "\n",
    "\n",
    "%matplotlib inline"
   ]
  },
  {
   "cell_type": "code",
   "execution_count": null,
   "metadata": {
    "ExecuteTime": {
     "end_time": "2021-07-07T17:53:37.256305Z",
     "start_time": "2021-07-07T17:53:37.241302Z"
    }
   },
   "outputs": [],
   "source": [
    "# This function is needed to easily display the dataframe from a csv file with all the columns names\n",
    "\n",
    "def display_csvfileDF(file_name, folder):\n",
    "    \"\"\"Function displays an csv file as a dataframe\n",
    "    Argument:\n",
    "    file name: a file a name, str\n",
    "    folder: a name of a sub-folder in data folder the file is resigning in, str\"\"\"\n",
    "    \n",
    "    df = pd.read_csv('data/'+folder+file_name, header=0, encoding='UTF-8')\n",
    "    return df\n",
    "\n",
    "def table_query(q):\n",
    "    \"\"\" Function executing a query and displaying it as a dataframe\"\n",
    "    Argument: a query statement as a string\"\"\"\n",
    "    \n",
    "    df = pd.DataFrame(cur.execute(q))\n",
    "    df.columns = [x[0] for x in cur.description]\n",
    "    return df\n",
    "\n",
    "def import_data_to_tables(db_path_name, list_of_files, replace_dir_name):\n",
    "    \"\"\"Function uses subprocess to run a sql statement of importing csv files into an sqlite db\n",
    "    Arguments:\n",
    "    db_path_name: full path to a database file from the current repo, str\n",
    "    list_of_files: list of files in to import (with a full path from the current repo)\n",
    "    replace_dir_name: a name of the directory where csv files reside, full path from the current repo, str;\n",
    "    example 'dir/dir1/'\n",
    "    \"\"\"\n",
    "    \n",
    "    db_name = Path(db_path_name).resolve()\n",
    "\n",
    "    for entry in list_of_files:\n",
    "        csv_file = Path(entry).resolve()\n",
    "        result = subprocess.run(['sqlite3',\n",
    "                                 str(db_name),\n",
    "                                 '-cmd',\n",
    "                                 '.mode csv',\n",
    "                                 '.import --skip 1 ' + str(csv_file).replace('\\\\','\\\\\\\\')\n",
    "                                 + ' ' + entry.replace('.csv','').replace(replace_dir_name,'')],\n",
    "                                capture_output=True)\n",
    "    return\n",
    "\n",
    "def create_filelist(dir_name,n=2):\n",
    "    \"\"\"Creates a list of file names in the directory\n",
    "    Arguments:\n",
    "    dir_name: the name of the directory, str\n",
    "    n: the number of files to skip in case there are invisible files in the firectory, default is 2\"\"\"\n",
    "    \n",
    "    files_incidents=[]\n",
    "    files_incidents = os.listdir(dir_name)\n",
    "    files_incidents=files_incidents[n:]\n",
    "    files_incidents=[dir_name + s for s in files_incidents]\n",
    "    return files_incidents\n",
    "\n",
    "def copy_files(file_list, dir_out, dir_in):\n",
    "    \"\"\"Function to copy a list of files from one dir to another:\n",
    "    file_list: file list to copy\n",
    "    dir_out: source folder, str\n",
    "    dir_in:  destination folder, str\"\"\"\n",
    "    \n",
    "    for entry in file_list:\n",
    "        shutil.copyfile(dir_out+entry, dir_in+entry)\n",
    "        \n",
    "def create_new_table(old_table, new_table, list_of_columns_to_leave, drop_rename=False):\n",
    "    \"\"\"Function to create a  new table with select columns only. The reason to make\n",
    "    this function is that sqlite3 below 3.35 does not support DROP COLUMN operation\n",
    "    Arguments:\n",
    "    old_table: the source table, str\n",
    "    new_table: the destination table, str\n",
    "    list_of_columns_to_leave: a list of column names as strings\n",
    "    drop_rename: rename flag, if True, the old table is dropped and the new one is renamed with the old one's name.\n",
    "                default set to False\"\"\"\n",
    "    \n",
    "    statement='CREATE TABLE '+ new_table + ' AS SELECT ' + ', '.join(list_of_columns_to_leave) + ' FROM ' + old_table\n",
    "    cur.execute(statement)\n",
    "    \n",
    "    if drop_rename==True:\n",
    "        \n",
    "        statement1='DROP TABLE '+old_table\n",
    "        statement2='ALTER TABLE '+new_table+' RENAME TO '+old_table\n",
    "        cur.execute(statement1)\n",
    "        cur.execute(statement2)\n",
    "        q='SELECT * FROM ' + old_table\n",
    "        df_temp=table_query(q)\n",
    "        \n",
    "    else:\n",
    "        q='SELECT * FROM ' + new_table\n",
    "        df_temp=table_query(q)\n",
    "        \n",
    "    return df_temp\n",
    "\n",
    "def add_update_clmn(tbl_to_updt, tbl_to_use, clmn_to_add, clmn_tbl1_to_use, clmn_to_join):\n",
    "    \"\"\"Function adds a new column to a table and fills in the values based on the reference table values\n",
    "    Arguments:\n",
    "    tbl_to_updt: table to update, str\n",
    "    tbl_to_use: reference table, str\n",
    "    clmn_to_add: new column, str\n",
    "    clmn_tbl1_to_use: columns in tbl_to_use to use to fill in the values in the new column, str\n",
    "    clmn_to_join: column to use to join two tables, str\n",
    "\n",
    "    \"\"\"\n",
    "    statement1='ALTER TABLE ' + tbl_to_updt + ' ADD COLUMN ' + clmn_to_add\n",
    "    #print(statement1)\n",
    "    cur.execute(statement1)\n",
    "    \n",
    "    statement2='UPDATE '+tbl_to_updt+' SET '+clmn_to_add+'=(SELECT '+clmn_tbl1_to_use+\\\n",
    "    ' FROM '+tbl_to_use+' WHERE '+tbl_to_use+'.'+clmn_to_join+'='+tbl_to_updt+'.'+clmn_to_join+')'\n",
    "    #print(statement2)\n",
    "    cur.execute(statement2)\n",
    "    \n",
    "    q='SELECT * FROM '+tbl_to_updt\n",
    "    #print(q)\n",
    "    df=table_query(q)\n",
    "    return df  \n",
    "\n",
    "def update_value(table, column, old_value, new_value):\n",
    "    \"\"\"Updates values in the column based on the old values\n",
    "    Arguments\n",
    "    table: table to update, string\n",
    "    column: column to update, string\n",
    "    old_value: old value, do not forget to put double quotes around single quotes\n",
    "    new_value: new value, do not forget to put double quotes around single quotes\n",
    "    Example: update_value('victim_main_tmp', 'sex_code', \"'F'\", \"'Female'\")\"\"\"\n",
    "    \n",
    "    statement='UPDATE '+table+' SET '+column+'='+new_value+' WHERE '+column+'='+old_value\n",
    "    #print(statement)\n",
    "    cur.execute(statement)\n",
    "    q='SELECT * FROM '+table\n",
    "    df=table_query(q)\n",
    "    return df\n",
    "\n",
    "def remove_dups(old_table, new_table, conn, drop_rename=False):\n",
    "    \"\"\"Function to remove duplicates from a table\n",
    "    Arguments:\n",
    "    old_table: the source table, str\n",
    "    new_table: the destination table, str\n",
    "    drop_rename: rename flag, if True, the old table is dropped and the new one is renamed with the old one's name.\n",
    "    default set to False\"\"\"\n",
    "    \n",
    "    q='SELECT * from '+old_table\n",
    "    df=table_query(q)\n",
    "    df=df.drop_duplicates()\n",
    "    df.to_sql(name=new_table, con=conn)\n",
    "    \n",
    "    if drop_rename==True:\n",
    "        \n",
    "        statement1='DROP TABLE '+old_table\n",
    "        statement2='ALTER TABLE '+new_table+' RENAME TO '+old_table\n",
    "        cur.execute(statement1)\n",
    "        cur.execute(statement2)\n",
    "        q='SELECT * FROM ' + old_table\n",
    "        df_temp=table_query(q)\n",
    "        \n",
    "    else:\n",
    "        q='SELECT * FROM ' + new_table\n",
    "        df_temp=table_query(q)\n",
    "        \n",
    "    return df_temp"
   ]
  },
  {
   "cell_type": "markdown",
   "metadata": {},
   "source": [
    "# OBTAIN"
   ]
  },
  {
   "cell_type": "markdown",
   "metadata": {},
   "source": [
    "## Data"
   ]
  },
  {
   "cell_type": "markdown",
   "metadata": {},
   "source": [
    "### Data source and data description"
   ]
  },
  {
   "cell_type": "markdown",
   "metadata": {
    "ExecuteTime": {
     "end_time": "2021-06-29T22:51:09.955934Z",
     "start_time": "2021-06-29T22:51:09.915935Z"
    }
   },
   "source": [
    "Data is from FBI Crime Data Explorer\n",
    "[NIBRS data for Colorado from 2009-2019](https://crime-data-explorer.fr.cloud.gov/pages/downloads)\n",
    "\n",
    "The [data dictionary](data/NIBRS_DataDictionary.pdf) is  and a [record descriptiopn](data/NIBRS_Record_Description.pdf) are available.\n"
   ]
  },
  {
   "cell_type": "markdown",
   "metadata": {
    "ExecuteTime": {
     "end_time": "2021-06-29T22:49:22.256999Z",
     "start_time": "2021-06-29T22:49:22.003934Z"
    }
   },
   "source": [
    "The description of the main and reference tables is in data/README.md file.\n",
    "The agency implemented some changes to the files structure in 2016 and removed the sqlite create and load scripts from the zip directories.\n",
    "Another fact worth mentioning is that files 'nibrs_property_desc.csv' from 2014 and 2015 have duplicated nibrs_property_desc_ids (unique identifier in the nibrs_property_desc table) which complicated the loading of the data."
   ]
  },
  {
   "cell_type": "markdown",
   "metadata": {},
   "source": [
    "**All 2016-2019 files need to be cleaned up because FBI changed the file format. There is a YEAR column that needs to be removed as well as the legacy columns from the previous years need to be added up. It's a tedious job and it needs to be done once and the files need to be backed up.**\n",
    "\n",
    "In order to clean the tables up the following needs to be done<br>\n",
    "\n",
    "   1. Remove all **DATA_YEAR** columns from each file, it's the first column<br>\n",
    "   \n",
    "   2. Files that do not need any changes beyond **DATA_YEAR** column removal<br>\n",
    "    \n",
    "> nibrs_arrestee_weapon.csv<br>\n",
    "nibrs_bias_motivation.csv<br>\n",
    "nibrs_criminal_act.csv<br>\n",
    "nibrs_property_desc.csv<br>\n",
    "nibrs_suspect_using.csv<br>\n",
    "nibrs_suspected_drug.csv<br>\n",
    "nibrs_victim_circumstances.csv<br>\n",
    "nibrs_victim_injury.csv<br>\n",
    "nibrs_victim_offender_rel.csv<br>\n",
    "nibrs_victim_offense.csv<br>\n",
    "nibrs_weapon.csv<br>\n",
    "\n",
    "    \n",
    "   3. in **nibrs_arestee.csv file**:<br><br>\n",
    "   a. between **ARRESTEE_SEQ_NUM** and **ARREST_DATE** there should be an **arrest_num column**<br>\n",
    "   b. Between **CLEARANCE_IND** and **AGE_RANGE_LOW_NUM** should be a **ff_line_number** column. <br>\n",
    "\n",
    "4.  in **nibrs_incident** file:<br><br>\n",
    "    a.between **NIBRS_MONTH_ID** and **CARGO_THEFT_FLAG** column **incident_number**<br>\n",
    "    b.between **DATA_HOME** and **ORIG_FORMAT** column **ddocname**<br>\n",
    "    c.between **ORIG_FORMAT** and **DID** column\t**ff_line_number**<br><br>\n",
    "\n",
    "5. in **nibrs_month.csv** file:<br><br>\n",
    "    a.between **REPORT_DATE** and **UPDATE_FLAG** add **prepared_date** column<br>\n",
    "    b.between **ORIG_FORMAT** and **DATA_HOME** column **ff_line_number**<br>\n",
    "    c.column **MONTH_PUB_STATUS** removed<br><br>\n",
    "\n",
    "6. in **nibrs_offender.csv** file:<br><br>\n",
    "     a.between **ETHNICITY_ID** and **AGE_RANGE_LOW_NUM** column **ff_line_number**<br><br>\n",
    "     \n",
    "7. in **nibrs_offense.csv** file:<br><br>\n",
    "     a. the last column **ff_line_number** should be added<br><br>\n",
    "   \n",
    "8. in **nibrs_property.csv** file:<br><br>\n",
    "     a. the last column **ff_line_number** should be added<br><br>\n",
    "\n",
    "9. in **nibrs_victim.csv** file:<br><br>\n",
    "     a. between **RESIDENT_STATUS_CODE** and **AGE_RANGE_LOW_NUM** two columns **agency_data_year** and **ff_line_number** (in that order) should be added\n",
    "    \n"
   ]
  },
  {
   "cell_type": "markdown",
   "metadata": {},
   "source": [
    "### Using an already created sqlite database"
   ]
  },
  {
   "cell_type": "markdown",
   "metadata": {},
   "source": [
    "The notebook with database creation is [here](creating_sqlite_db.ipynb). The referenced database is in ***data/sqlite/db/production1 db***. It takes 2.5 minutes to run the database creation script."
   ]
  },
  {
   "cell_type": "code",
   "execution_count": null,
   "metadata": {
    "ExecuteTime": {
     "end_time": "2021-07-07T17:53:38.774156Z",
     "start_time": "2021-07-07T17:53:37.259306Z"
    }
   },
   "outputs": [],
   "source": [
    "# Uncomment the line below if you are re-running the code part for main tables>>>\n",
    "\n",
    "#!cp data/sqlite/db/production1_backup.db data/sqlite/db/production1.db\n",
    "\n",
    "!cp data/sqlite/db/production1.db data/sqlite/db/production1_backup.db"
   ]
  },
  {
   "cell_type": "code",
   "execution_count": null,
   "metadata": {
    "ExecuteTime": {
     "end_time": "2021-07-07T17:53:39.078224Z",
     "start_time": "2021-07-07T17:53:38.775156Z"
    }
   },
   "outputs": [],
   "source": [
    "# Initiating a cursor\n",
    "conn = sqlite3.connect('data/sqlite/db/production1.db')\n",
    "cur = conn.cursor()"
   ]
  },
  {
   "cell_type": "code",
   "execution_count": null,
   "metadata": {
    "ExecuteTime": {
     "end_time": "2021-07-07T17:53:39.094228Z",
     "start_time": "2021-07-07T17:53:39.079225Z"
    }
   },
   "outputs": [],
   "source": [
    "cur.execute(\"\"\"SELECT name FROM sqlite_master WHERE type='table'\"\"\").fetchall()"
   ]
  },
  {
   "cell_type": "code",
   "execution_count": null,
   "metadata": {
    "ExecuteTime": {
     "end_time": "2021-07-07T17:53:54.326434Z",
     "start_time": "2021-07-07T17:53:39.095229Z"
    }
   },
   "outputs": [],
   "source": [
    "q='SELECT * FROM nibrs_incident'\n",
    "df=table_query(q)"
   ]
  },
  {
   "cell_type": "code",
   "execution_count": null,
   "metadata": {
    "ExecuteTime": {
     "end_time": "2021-07-07T17:53:54.357950Z",
     "start_time": "2021-07-07T17:53:54.328436Z"
    }
   },
   "outputs": [],
   "source": [
    "df.head()"
   ]
  },
  {
   "cell_type": "code",
   "execution_count": null,
   "metadata": {
    "ExecuteTime": {
     "end_time": "2021-07-07T17:53:54.373954Z",
     "start_time": "2021-07-07T17:53:54.359951Z"
    }
   },
   "outputs": [],
   "source": [
    "cur.execute(\"\"\"SELECT name FROM sqlite_master WHERE type='table'\"\"\").fetchall()"
   ]
  },
  {
   "cell_type": "markdown",
   "metadata": {},
   "source": [
    "# SCRUB"
   ]
  },
  {
   "cell_type": "markdown",
   "metadata": {},
   "source": [
    "## SQL/cleaning tables"
   ]
  },
  {
   "cell_type": "markdown",
   "metadata": {},
   "source": [
    "### Main tables"
   ]
  },
  {
   "cell_type": "code",
   "execution_count": null,
   "metadata": {
    "ExecuteTime": {
     "end_time": "2021-07-07T17:53:54.389957Z",
     "start_time": "2021-07-07T17:53:54.374954Z"
    }
   },
   "outputs": [],
   "source": [
    "# df at this point is the main incident table, I am displaying it's info\n",
    "df.info()"
   ]
  },
  {
   "cell_type": "markdown",
   "metadata": {},
   "source": [
    "#### Dropping unneeded tables"
   ]
  },
  {
   "cell_type": "code",
   "execution_count": null,
   "metadata": {
    "ExecuteTime": {
     "end_time": "2021-07-07T17:53:56.800100Z",
     "start_time": "2021-07-07T17:53:54.390957Z"
    }
   },
   "outputs": [],
   "source": [
    "#Dropping the tables irrelavant to modeling and the dashboard\n",
    "\n",
    "table_list_to_drop=['nibrs_month','nibrs_justifiable_force','nibrs_arrest_type',\n",
    "                    'nibrs_drug_measure_type','nibrs_injury','nibrs_suspect_using',\n",
    "                    'nibrs_suspected_drug','nibrs_suspected_drug_type','nibrs_using_list','nibrs_arrestee',\n",
    "                    'nibrs_arrestee_weapon','nibrs_activity_type','nibrs_assignment_type','nibrs_property',\n",
    "                    'nibrs_property_desc','nibrs_prop_loss_type','nibrs_victim_injury','nibrs_prop_desc_type',\n",
    "                    'nibrs_circumstances','nibrs_victim_circumstances','ref_state', 'nibrs_criminal_act',\n",
    "                    'nibrs_criminal_act_type','nibrs_victim_offense']\n",
    "\n",
    "for table in table_list_to_drop:\n",
    "    string=table\n",
    "    statement='DROP TABLE'+' '+string\n",
    "    cur.execute(statement)\n",
    "cur.execute(\"\"\"SELECT name FROM sqlite_master WHERE type='table'\"\"\").fetchall()    "
   ]
  },
  {
   "cell_type": "markdown",
   "metadata": {},
   "source": [
    "#### Incidents table"
   ]
  },
  {
   "cell_type": "code",
   "execution_count": null,
   "metadata": {
    "ExecuteTime": {
     "end_time": "2021-07-07T17:53:56.816104Z",
     "start_time": "2021-07-07T17:53:56.801100Z"
    }
   },
   "outputs": [],
   "source": [
    "#Listing columns in the incidents table\n",
    "\n",
    "df.columns"
   ]
  },
  {
   "cell_type": "code",
   "execution_count": null,
   "metadata": {
    "ExecuteTime": {
     "end_time": "2021-07-07T17:54:03.044417Z",
     "start_time": "2021-07-07T17:53:56.817105Z"
    }
   },
   "outputs": [],
   "source": [
    "# Creating a list of columns to leave in the incidents table\n",
    "\n",
    "incdnt_clmns_to_lv=['agency_id','incident_id','incident_date','incident_hour']\n",
    "\n",
    "# Due to the fact that sqlite has a limitation of not being able to drop columns,\n",
    "# I need to create a new table with only the columns I need.\n",
    "\n",
    "create_new_table('nibrs_incident', 'incident_main', incdnt_clmns_to_lv)"
   ]
  },
  {
   "cell_type": "markdown",
   "metadata": {},
   "source": [
    "#### Offense table"
   ]
  },
  {
   "cell_type": "code",
   "execution_count": null,
   "metadata": {
    "ExecuteTime": {
     "end_time": "2021-07-07T17:54:12.185511Z",
     "start_time": "2021-07-07T17:54:03.045418Z"
    }
   },
   "outputs": [],
   "source": [
    "# Main offense table columns\n",
    "\n",
    "q='SELECT * FROM nibrs_offense'\n",
    "df=table_query(q)\n",
    "df.head()"
   ]
  },
  {
   "cell_type": "code",
   "execution_count": null,
   "metadata": {
    "ExecuteTime": {
     "end_time": "2021-07-07T17:54:19.576198Z",
     "start_time": "2021-07-07T17:54:12.186512Z"
    }
   },
   "outputs": [],
   "source": [
    "# Creating a list with columns to leave in the main offense table\n",
    "\n",
    "offns_clmns_to_lv=['offense_id','incident_id','offense_type_id', 'location_id']\n",
    "\n",
    "# Due to the fact that sqlite has a limitation of not being able to drop columns,\n",
    "# I need to create a new table with only the columns I need.\n",
    "\n",
    "create_new_table('nibrs_offense', 'offense_main', offns_clmns_to_lv)"
   ]
  },
  {
   "cell_type": "markdown",
   "metadata": {},
   "source": [
    "#### Offender table"
   ]
  },
  {
   "cell_type": "code",
   "execution_count": null,
   "metadata": {
    "ExecuteTime": {
     "end_time": "2021-07-07T17:54:30.212138Z",
     "start_time": "2021-07-07T17:54:19.577199Z"
    }
   },
   "outputs": [],
   "source": [
    "# Main offender table columns\n",
    "\n",
    "q='SELECT * FROM nibrs_offender'\n",
    "df=table_query(q)\n",
    "df.columns"
   ]
  },
  {
   "cell_type": "code",
   "execution_count": null,
   "metadata": {
    "ExecuteTime": {
     "end_time": "2021-07-07T17:54:39.088817Z",
     "start_time": "2021-07-07T17:54:30.213139Z"
    }
   },
   "outputs": [],
   "source": [
    "# Creating a list with columns to leave in the main offender table\n",
    "\n",
    "offndr_clmns_to_lv=['offender_id', 'incident_id','age_id', 'age_num','sex_code', 'race_id', 'ethnicity_id']\n",
    "\n",
    "# Due to the fact that sqlite has a limitation of not being able to drop columns,\n",
    "# I need to create a new table with only the columns I need.\n",
    "\n",
    "create_new_table('nibrs_offender', 'offender_main', offndr_clmns_to_lv)"
   ]
  },
  {
   "cell_type": "code",
   "execution_count": null,
   "metadata": {
    "ExecuteTime": {
     "end_time": "2021-07-07T17:55:57.106747Z",
     "start_time": "2021-07-07T17:54:39.089817Z"
    }
   },
   "outputs": [],
   "source": [
    "# Using reference table values in the offender_main table. Replacing codes with values comprehensible to humans.\n",
    "# I am doing it to simplify creating a dashboard later.\n",
    "\n",
    "df=add_update_clmn('offender_main','ref_race', 'race', 'race_desc', 'race_id')\n",
    "\n",
    "df=add_update_clmn('offender_main','nibrs_age', 'age_group', 'age_name', 'age_id')\n",
    "\n",
    "df=add_update_clmn('offender_main','nibrs_ethnicity', 'ethnicity', 'ethnicity_name', 'ethnicity_id')\n",
    "\n",
    "df=update_value('offender_main', 'sex_code', \"'F'\", \"'Female'\")\n",
    "\n",
    "df=update_value('offender_main', 'sex_code', \"'M'\", \"'Male'\")\n",
    "\n",
    "q='SELECT * FROM offender_main'\n",
    "df=table_query(q)\n",
    "df.head()"
   ]
  },
  {
   "cell_type": "code",
   "execution_count": null,
   "metadata": {
    "ExecuteTime": {
     "end_time": "2021-07-07T17:55:57.122257Z",
     "start_time": "2021-07-07T17:55:57.107748Z"
    }
   },
   "outputs": [],
   "source": [
    "df.columns"
   ]
  },
  {
   "cell_type": "code",
   "execution_count": null,
   "metadata": {
    "ExecuteTime": {
     "end_time": "2021-07-07T17:56:08.018225Z",
     "start_time": "2021-07-07T17:55:57.123258Z"
    }
   },
   "outputs": [],
   "source": [
    "# Creating a list with columns to leave in the main offender table. I am dropping all obsolete old columns\n",
    "\n",
    "ofndr_clmns_to_lv=['offender_id', 'incident_id', 'age_num', 'sex_code',\n",
    "       'race', 'age_group', 'ethnicity']\n",
    "\n",
    "# Due to the fact that sqlite has a limitation of not being able to drop columns,\n",
    "# I need to create a new table with only the columns I need, drop the old table and rename the new one.\n",
    "\n",
    "create_new_table('offender_main', 'offender_main_tmp', ofndr_clmns_to_lv, drop_rename=True)"
   ]
  },
  {
   "cell_type": "markdown",
   "metadata": {},
   "source": [
    "#### Victim table"
   ]
  },
  {
   "cell_type": "code",
   "execution_count": null,
   "metadata": {
    "ExecuteTime": {
     "end_time": "2021-07-07T17:56:23.369422Z",
     "start_time": "2021-07-07T17:56:08.019226Z"
    }
   },
   "outputs": [],
   "source": [
    "# Main victim table columns\n",
    "\n",
    "q='SELECT * FROM nibrs_victim'\n",
    "df=table_query(q)\n",
    "df.columns"
   ]
  },
  {
   "cell_type": "code",
   "execution_count": null,
   "metadata": {
    "ExecuteTime": {
     "end_time": "2021-07-07T17:56:34.644791Z",
     "start_time": "2021-07-07T17:56:23.370422Z"
    }
   },
   "outputs": [],
   "source": [
    "# Creating a list with columns to leave in the main victim table\n",
    "\n",
    "vctm_clmns_to_lv=['victim_id', 'incident_id', 'victim_type_id',\n",
    "                  'age_id','age_num', 'sex_code', 'race_id',\n",
    "                  'ethnicity_id','resident_status_code']\n",
    "\n",
    "# Due to the fact that sqlite has a limitation of not being able to drop columns,\n",
    "# I need to create a new table with only the columns I need.\n",
    "\n",
    "create_new_table('nibrs_victim', 'victim_main', vctm_clmns_to_lv)"
   ]
  },
  {
   "cell_type": "code",
   "execution_count": null,
   "metadata": {
    "ExecuteTime": {
     "end_time": "2021-07-07T17:59:03.603411Z",
     "start_time": "2021-07-07T17:56:34.647792Z"
    }
   },
   "outputs": [],
   "source": [
    "# Using reference table values in the victim_main table. Replacing codes with values comprehensible to humans.\n",
    "# I am doing it to simplify creating a dashboard later\n",
    "\n",
    "df=add_update_clmn('victim_main','ref_race', 'race', 'race_desc', 'race_id')\n",
    "\n",
    "df=add_update_clmn('victim_main','nibrs_age', 'age_group', 'age_name', 'age_id')\n",
    "\n",
    "df=add_update_clmn('victim_main','nibrs_ethnicity', 'ethnicity', 'ethnicity_name', 'ethnicity_id')\n",
    "\n",
    "df=add_update_clmn('victim_main','nibrs_victim_type', 'victim_type', 'victim_type_name', 'victim_type_id')\n",
    "\n",
    "df=update_value('victim_main', 'sex_code', \"'F'\", \"'Female'\")\n",
    "\n",
    "df=update_value('victim_main', 'sex_code', \"'M'\", \"'Male'\")\n",
    "\n",
    "df=update_value('victim_main', 'resident_status_code', \"'R'\", \"'Resident'\")\n",
    "\n",
    "df=update_value('victim_main', 'resident_status_code', \"'N'\", \"'Non-resident'\")\n",
    "\n",
    "q='SELECT * FROM victim_main'\n",
    "df=table_query(q)\n",
    "df.head()"
   ]
  },
  {
   "cell_type": "code",
   "execution_count": null,
   "metadata": {
    "ExecuteTime": {
     "end_time": "2021-07-07T17:59:03.618919Z",
     "start_time": "2021-07-07T17:59:03.605412Z"
    }
   },
   "outputs": [],
   "source": [
    "df.columns"
   ]
  },
  {
   "cell_type": "code",
   "execution_count": null,
   "metadata": {
    "ExecuteTime": {
     "end_time": "2021-07-07T17:59:17.722310Z",
     "start_time": "2021-07-07T17:59:03.619919Z"
    }
   },
   "outputs": [],
   "source": [
    "# Creating a list with columns to leave in the main victim table. I am dropping all obsolete old columns.\n",
    "\n",
    "vctm_clmns_to_lv=['victim_id', 'incident_id', 'age_num',\n",
    "       'sex_code', 'resident_status_code', 'race',\n",
    "       'age_group', 'ethnicity', 'victim_type']\n",
    "\n",
    "# Due to the fact that sqlite has a limitation of not being able to drop columns,\n",
    "# I need to create a new table with only the columns I need, drop the old table and rename the new one.\n",
    "\n",
    "create_new_table('victim_main', 'victim_main_tmp', vctm_clmns_to_lv, drop_rename=True)"
   ]
  },
  {
   "cell_type": "markdown",
   "metadata": {},
   "source": [
    "#### Weapon table"
   ]
  },
  {
   "cell_type": "code",
   "execution_count": null,
   "metadata": {
    "ExecuteTime": {
     "end_time": "2021-07-07T17:59:18.569510Z",
     "start_time": "2021-07-07T17:59:17.723310Z"
    }
   },
   "outputs": [],
   "source": [
    "# Main weapon table columns\n",
    "\n",
    "q='SELECT * FROM nibrs_weapon'\n",
    "df=table_query(q)\n",
    "df.columns"
   ]
  },
  {
   "cell_type": "code",
   "execution_count": null,
   "metadata": {
    "ExecuteTime": {
     "end_time": "2021-07-07T17:59:19.383695Z",
     "start_time": "2021-07-07T17:59:18.570510Z"
    }
   },
   "outputs": [],
   "source": [
    "# Creating a list with columns to leave in the main weapon table\n",
    "\n",
    "wpn_clmns_to_lv=['weapon_id', 'offense_id']\n",
    "\n",
    "# Due to the fact that sqlite has a limitation of not being able to drop columns,\n",
    "# I need to create a new table with only the columns I need.\n",
    "\n",
    "create_new_table('nibrs_weapon', 'weapon_main', wpn_clmns_to_lv)"
   ]
  },
  {
   "cell_type": "code",
   "execution_count": null,
   "metadata": {
    "ExecuteTime": {
     "end_time": "2021-07-07T17:59:19.399698Z",
     "start_time": "2021-07-07T17:59:19.384694Z"
    }
   },
   "outputs": [],
   "source": [
    "cur.execute(\"\"\"SELECT name FROM sqlite_master WHERE type='table'\"\"\").fetchall()    "
   ]
  },
  {
   "cell_type": "code",
   "execution_count": null,
   "metadata": {
    "ExecuteTime": {
     "end_time": "2021-07-07T17:59:20.038842Z",
     "start_time": "2021-07-07T17:59:19.400698Z"
    }
   },
   "outputs": [],
   "source": [
    "q='SELECT * FROM weapon_main'\n",
    "df=table_query(q)\n",
    "df.count()"
   ]
  },
  {
   "cell_type": "code",
   "execution_count": null,
   "metadata": {
    "ExecuteTime": {
     "end_time": "2021-07-07T17:59:20.054352Z",
     "start_time": "2021-07-07T17:59:20.039843Z"
    }
   },
   "outputs": [],
   "source": [
    "q='SELECT * FROM nibrs_weapon_type'\n",
    "df=table_query(q)\n",
    "df"
   ]
  },
  {
   "cell_type": "code",
   "execution_count": null,
   "metadata": {
    "ExecuteTime": {
     "end_time": "2021-07-07T17:59:23.424122Z",
     "start_time": "2021-07-07T17:59:20.055352Z"
    }
   },
   "outputs": [],
   "source": [
    "# Intermediatly (to be dropped later) adding 'weapon_name' column to weapon_main table, plus 'weapon' column\n",
    "add_update_clmn('weapon_main','nibrs_weapon_type', 'weapon_name', 'weapon_name', 'weapon_id')\n",
    "cur.execute('ALTER TABLE weapon_main ADD COLUMN weapon')\n",
    "\n",
    "# Making sure the columns are there\n",
    "q='SELECT * FROM weapon_main'\n",
    "df=table_query(q)\n",
    "df.head()"
   ]
  },
  {
   "cell_type": "code",
   "execution_count": null,
   "metadata": {
    "ExecuteTime": {
     "end_time": "2021-07-07T17:59:25.389582Z",
     "start_time": "2021-07-07T17:59:23.425123Z"
    }
   },
   "outputs": [],
   "source": [
    "# A snippet to change weapon_main by adding a weapon_name and a weapon columns based on nibrs_weapon_type table values\n",
    "# the final weapont_main will have only 2 columns offence_id and weapon with 5 unique values 'Unarmed','Unknown',\n",
    "# 'Other weapon','Non-automatic firearm','Automatic firearm'.\n",
    "\n",
    "# Anything with 'automatic' is mapped to 'Automatic firearm'\n",
    "# 'Unknown' - to 'Unknown'\n",
    "# 'Unarned'  or 'None' - to 'Unarmed'\n",
    "# 'Firarm', 'Handgun','Rifle','Shotgun','Personal Weapons' or 'Other Firearm' to 'Non-automatic firearm'\n",
    "# the rest of values are mapped to 'Other weapon'\n",
    "\n",
    "# I could've possibly done it by creating a dataframe, using dictionary to update the values \n",
    "# and kicking it back to the database. \n",
    "\n",
    "statement=\"UPDATE weapon_main SET weapon='Automatic firearm' WHERE weapon_name like ('%Automatic%')\"\n",
    "cur.execute(statement)\n",
    "\n",
    "statement=\"UPDATE weapon_main SET weapon=weapon_name WHERE weapon_name='Unknown'\"\n",
    "cur.execute(statement)\n",
    "\n",
    "statement=\"UPDATE weapon_main SET weapon='Unarmed' WHERE weapon_name in ('None','Unarmed')\"\n",
    "cur.execute(statement)\n",
    "\n",
    "statement=\"UPDATE weapon_main SET weapon='Non-automatic firearm' \\\n",
    "WHERE weapon_name in ('Firarm', 'Handgun','Rifle','Shotgun','Personal Weapons','Other Firearm')\"\n",
    "cur.execute(statement)\n",
    "\n",
    "statement=\"UPDATE weapon_main SET weapon='Other weapon' WHERE weapon is Null\"\n",
    "cur.execute(statement)\n",
    "\n",
    "# Creating a list with columns to leave in the main weapon table.\n",
    "wpn_clmns_to_lv=['offense_id', 'weapon']\n",
    "\n",
    "# Due to the fact that sqlite has a limitation of not being able to drop columns,\n",
    "# I need to create a new table with only the columns I need, drop the old table and rename the new one.\n",
    "df=create_new_table('weapon_main', 'weapon_main_tmp', wpn_clmns_to_lv, drop_rename=True)"
   ]
  },
  {
   "cell_type": "code",
   "execution_count": null,
   "metadata": {
    "ExecuteTime": {
     "end_time": "2021-07-07T17:59:26.204774Z",
     "start_time": "2021-07-07T17:59:25.390583Z"
    }
   },
   "outputs": [],
   "source": [
    "q='SELECT * FROM weapon_main'\n",
    "df=table_query(q)\n",
    "df.groupby('weapon').nunique()"
   ]
  },
  {
   "cell_type": "markdown",
   "metadata": {},
   "source": [
    "#### Dropping unneeded tables"
   ]
  },
  {
   "cell_type": "code",
   "execution_count": null,
   "metadata": {
    "ExecuteTime": {
     "end_time": "2021-07-07T17:59:29.229900Z",
     "start_time": "2021-07-07T17:59:26.205775Z"
    }
   },
   "outputs": [],
   "source": [
    "# Dropping all the original incident, offense, offender, victim and weapon tables\n",
    "\n",
    "table_list_to_drop=['nibrs_victim','nibrs_offense','nibrs_incident','nibrs_weapon','nibrs_offender']\n",
    "\n",
    "for table in table_list_to_drop:\n",
    "    string=table\n",
    "    statement='DROP TABLE'+' '+string\n",
    "    cur.execute(statement)\n",
    "cur.execute(\"\"\"SELECT name FROM sqlite_master WHERE type='table'\"\"\").fetchall()    "
   ]
  },
  {
   "cell_type": "code",
   "execution_count": null,
   "metadata": {
    "ExecuteTime": {
     "end_time": "2021-07-07T17:59:29.244904Z",
     "start_time": "2021-07-07T17:59:29.230902Z"
    }
   },
   "outputs": [],
   "source": [
    "# Dropping all obsolete reference tables\n",
    "table_list_to_drop=['nibrs_age','nibrs_victim_type','nibrs_ethnicity','ref_race', 'nibrs_weapon_type']\n",
    "\n",
    "for table in table_list_to_drop:\n",
    "    string=table\n",
    "    statement='DROP TABLE'+' '+string\n",
    "    cur.execute(statement)\n",
    "cur.execute(\"\"\"SELECT name FROM sqlite_master WHERE type='table'\"\"\").fetchall()    "
   ]
  },
  {
   "cell_type": "markdown",
   "metadata": {},
   "source": [
    "**Uncomment the following 2 cells, run them and comment out again if you want to re-run the code above**."
   ]
  },
  {
   "cell_type": "code",
   "execution_count": null,
   "metadata": {
    "ExecuteTime": {
     "end_time": "2021-07-07T17:59:29.260909Z",
     "start_time": "2021-07-07T17:59:29.245905Z"
    }
   },
   "outputs": [],
   "source": [
    "# cur.close()\n",
    "# conn.commit()\n",
    "# conn.close()"
   ]
  },
  {
   "cell_type": "code",
   "execution_count": null,
   "metadata": {
    "ExecuteTime": {
     "end_time": "2021-07-07T17:59:29.276912Z",
     "start_time": "2021-07-07T17:59:29.261909Z"
    }
   },
   "outputs": [],
   "source": [
    "# !cp data/sqlite/db/production1_backup.db data/sqlite/db/production1.db\n",
    "\n",
    "# !rm data/sqlite/db/production1_backup.db"
   ]
  },
  {
   "cell_type": "markdown",
   "metadata": {},
   "source": [
    "> At this point victim_main, offender_main and weapon_main tables are ready. I am creating an intermediate database to avoid the need to recreate the main one if I make a mistake."
   ]
  },
  {
   "cell_type": "markdown",
   "metadata": {},
   "source": [
    "### Agencies"
   ]
  },
  {
   "cell_type": "code",
   "execution_count": null,
   "metadata": {
    "ExecuteTime": {
     "end_time": "2021-07-07T17:59:29.292916Z",
     "start_time": "2021-07-07T17:59:29.277912Z"
    }
   },
   "outputs": [],
   "source": [
    "# stmnt=\"DROP TABLE table_name\"\n",
    "# cur.execute(stmnt)"
   ]
  },
  {
   "cell_type": "markdown",
   "metadata": {},
   "source": [
    "**The cell below is to close a production1 db/cursor (commit too) and to use production1 db as a spring board moving forward. Uncomment the cell, run it to copy production1 to production2 plus production2 backup and comment it out again**"
   ]
  },
  {
   "cell_type": "code",
   "execution_count": null,
   "metadata": {
    "ExecuteTime": {
     "end_time": "2021-07-07T17:59:29.307919Z",
     "start_time": "2021-07-07T17:59:29.293917Z"
    }
   },
   "outputs": [],
   "source": [
    "# cur.close()\n",
    "# #conn.commit()\n",
    "# conn.close()\n",
    "\n",
    "# !cp data/sqlite/db/production1.db data/sqlite/db/production2.db\n",
    "# !cp data/sqlite/db/production2.db data/sqlite/db/production2_backup.db"
   ]
  },
  {
   "cell_type": "code",
   "execution_count": null,
   "metadata": {
    "ExecuteTime": {
     "end_time": "2021-07-07T17:59:29.323923Z",
     "start_time": "2021-07-07T17:59:29.308919Z"
    }
   },
   "outputs": [],
   "source": [
    "# # Initiating a cursor\n",
    "# conn = sqlite3.connect('data/sqlite/db/production2.db')\n",
    "# cur = conn.cursor()"
   ]
  },
  {
   "cell_type": "code",
   "execution_count": null,
   "metadata": {
    "ExecuteTime": {
     "end_time": "2021-07-07T17:59:30.186620Z",
     "start_time": "2021-07-07T17:59:29.324923Z"
    }
   },
   "outputs": [],
   "source": [
    "# Checking if production1 copied correctly into production2\n",
    "q='SELECT * FROM weapon_main'\n",
    "df=table_query(q)\n",
    "df.groupby('weapon').nunique()"
   ]
  },
  {
   "cell_type": "markdown",
   "metadata": {},
   "source": [
    "#### agencies table"
   ]
  },
  {
   "cell_type": "markdown",
   "metadata": {},
   "source": [
    "> preparing agencies table before comparing it to cde_agencies table"
   ]
  },
  {
   "cell_type": "code",
   "execution_count": null,
   "metadata": {
    "ExecuteTime": {
     "end_time": "2021-07-07T17:59:30.234632Z",
     "start_time": "2021-07-07T17:59:30.187621Z"
    }
   },
   "outputs": [],
   "source": [
    "q='SELECT * from agencies'\n",
    "df=table_query(q)\n",
    "df.columns"
   ]
  },
  {
   "cell_type": "code",
   "execution_count": null,
   "metadata": {
    "ExecuteTime": {
     "end_time": "2021-07-07T17:59:30.250636Z",
     "start_time": "2021-07-07T17:59:30.235632Z"
    }
   },
   "outputs": [],
   "source": [
    "df.head()"
   ]
  },
  {
   "cell_type": "code",
   "execution_count": null,
   "metadata": {
    "ExecuteTime": {
     "end_time": "2021-07-07T17:59:30.266639Z",
     "start_time": "2021-07-07T17:59:30.251636Z"
    }
   },
   "outputs": [],
   "source": [
    "# Dropping all unused columns\n",
    "agncs_to_lv_agnctbl=['agency_id', 'data_year',\n",
    "       'pub_agency_name',\n",
    "        'county_name']\n",
    "\n",
    "df=create_new_table('agencies', 'agencies_tmp', agncs_to_lv_agnctbl, drop_rename=True)"
   ]
  },
  {
   "cell_type": "code",
   "execution_count": null,
   "metadata": {
    "ExecuteTime": {
     "end_time": "2021-07-07T17:59:30.282642Z",
     "start_time": "2021-07-07T17:59:30.267639Z"
    }
   },
   "outputs": [],
   "source": [
    "q='SELECT * from agencies'\n",
    "df=table_query(q)\n",
    "df.head()"
   ]
  },
  {
   "cell_type": "code",
   "execution_count": null,
   "metadata": {
    "ExecuteTime": {
     "end_time": "2021-07-07T17:59:30.298646Z",
     "start_time": "2021-07-07T17:59:30.283642Z"
    }
   },
   "outputs": [],
   "source": [
    "df['agency_id'].nunique()"
   ]
  },
  {
   "cell_type": "markdown",
   "metadata": {},
   "source": [
    "#### cde_agencies table"
   ]
  },
  {
   "cell_type": "markdown",
   "metadata": {},
   "source": [
    "> Preparing cde_agencies table befor comparing it to agencies table"
   ]
  },
  {
   "cell_type": "code",
   "execution_count": null,
   "metadata": {
    "ExecuteTime": {
     "end_time": "2021-07-07T17:59:30.361659Z",
     "start_time": "2021-07-07T17:59:30.299646Z"
    }
   },
   "outputs": [],
   "source": [
    "q='SELECT * from cde_agencies'\n",
    "df=table_query(q)\n",
    "df.head()"
   ]
  },
  {
   "cell_type": "code",
   "execution_count": null,
   "metadata": {
    "ExecuteTime": {
     "end_time": "2021-07-07T17:59:30.377663Z",
     "start_time": "2021-07-07T17:59:30.362660Z"
    }
   },
   "outputs": [],
   "source": [
    "df.columns"
   ]
  },
  {
   "cell_type": "code",
   "execution_count": null,
   "metadata": {
    "ExecuteTime": {
     "end_time": "2021-07-07T17:59:30.393668Z",
     "start_time": "2021-07-07T17:59:30.378664Z"
    }
   },
   "outputs": [],
   "source": [
    "# Dropping all the columns that seem to be irrelevant. Long and lat coordinates are useless due to the fact that they are \n",
    "# either of a center of a zipcode or a center of a county. Either way is't useless\n",
    "\n",
    "agncs_to_lv_cdeagnctbl=['agency_id', 'agency_name', 'short_name',\n",
    "       'primary_county_id',\n",
    "       'primary_county',        \n",
    "       'current_year',\n",
    "       'icpsr_zip']\n",
    "\n",
    "df=create_new_table('cde_agencies', 'cde_agencies_tmp', agncs_to_lv_cdeagnctbl,  drop_rename=True)"
   ]
  },
  {
   "cell_type": "code",
   "execution_count": null,
   "metadata": {
    "ExecuteTime": {
     "end_time": "2021-07-07T17:59:30.409671Z",
     "start_time": "2021-07-07T17:59:30.394668Z"
    }
   },
   "outputs": [],
   "source": [
    "q='SELECT * from cde_agencies'\n",
    "df=table_query(q)\n",
    "df.head()"
   ]
  },
  {
   "cell_type": "markdown",
   "metadata": {},
   "source": [
    "> Comparing cde_agencies and agencies tables to use one of them moving forward"
   ]
  },
  {
   "cell_type": "code",
   "execution_count": null,
   "metadata": {
    "ExecuteTime": {
     "end_time": "2021-07-07T17:59:30.425675Z",
     "start_time": "2021-07-07T17:59:30.410672Z"
    }
   },
   "outputs": [],
   "source": [
    "df['agency_id'].nunique()"
   ]
  },
  {
   "cell_type": "code",
   "execution_count": null,
   "metadata": {
    "ExecuteTime": {
     "end_time": "2021-07-07T17:59:30.441678Z",
     "start_time": "2021-07-07T17:59:30.426675Z"
    }
   },
   "outputs": [],
   "source": [
    "q=\"SELECT distinct(agency_id) FROM agencies where agency_ID not in (SELECT agency_id FROM cde_agencies)\"\n",
    "df=table_query(q)\n",
    "df"
   ]
  },
  {
   "cell_type": "code",
   "execution_count": null,
   "metadata": {
    "ExecuteTime": {
     "end_time": "2021-07-07T17:59:30.457682Z",
     "start_time": "2021-07-07T17:59:30.442680Z"
    }
   },
   "outputs": [],
   "source": [
    "q=\"SELECT * FROM agencies where agency_ID=29074\"\n",
    "df = pd.DataFrame(cur.execute(q))\n",
    "df"
   ]
  },
  {
   "cell_type": "code",
   "execution_count": null,
   "metadata": {
    "ExecuteTime": {
     "end_time": "2021-07-07T17:59:31.240367Z",
     "start_time": "2021-07-07T17:59:30.458684Z"
    }
   },
   "outputs": [],
   "source": [
    "stmnt=\"SELECT distinct(agency_id) FROM incident_main where agency_id not in (SELECT agency_id FROM cde_agencies)\"\n",
    "df = pd.DataFrame(cur.execute(stmnt))\n",
    "df"
   ]
  },
  {
   "cell_type": "code",
   "execution_count": null,
   "metadata": {
    "ExecuteTime": {
     "end_time": "2021-07-07T17:59:31.256370Z",
     "start_time": "2021-07-07T17:59:31.241367Z"
    }
   },
   "outputs": [],
   "source": [
    "clmns_to_lv_cdeagnctbl=['agency_id',\n",
    "                        'primary_county',\n",
    "                        'icpsr_zip']\n",
    "\n",
    "df=create_new_table('cde_agencies', 'cde_agencies_tmp', clmns_to_lv_cdeagnctbl,  drop_rename=True)"
   ]
  },
  {
   "cell_type": "markdown",
   "metadata": {},
   "source": [
    "#### Conclusion"
   ]
  },
  {
   "cell_type": "markdown",
   "metadata": {},
   "source": [
    ">There are more counties (and their names are spelled out rather than merged together) in **cde_agencies**. Also there are zip codes in **cde_agencies**. There are 223 zip codes out of 511 active zip codes in Colorado. \n",
    "* There are 14 agencies that have records in incident_main table but are missing from agencies table while they are present in **cde_agencies**.\n",
    "* There is one agency (agency_id=29074), it is a Division of Gaming Criminal Enforcement in Jefferson county, that is in **agencies** table but is not in **cde_agencies**. However, this agency has no incident records.\n",
    "\n",
    "\n",
    "<span style=\"font-size:1.5em;\">The final conclusion that only **cde_agencies** table will be used moving forward.</span><br>"
   ]
  },
  {
   "cell_type": "markdown",
   "metadata": {},
   "source": [
    "### Other tables"
   ]
  },
  {
   "cell_type": "markdown",
   "metadata": {},
   "source": [
    "There are cleaned-up tables:<br>\n",
    "* cde_agencies\n",
    "* incident_main\n",
    "* offence_main\n",
    "* victim_main\n",
    "* offender_main\n",
    "* weapon_main<br>\n",
    "\n",
    "There are tables that need to be cleaned and joined with the main tables:\n",
    "* nibrs_bias_list\n",
    "* nibrs_location_type\n",
    "* nibrs_offense_type\n",
    "* nibrs_cleared_except\n",
    "* nibrs_relationship\n",
    "* nibrs_bias_motivation\n",
    "* nibrs_victim_offender_rel<br>\n",
    "\n",
    "There are several tables that need to be deleted:\n",
    "* agencies\n",
    "* agency_participation\n",
    "* nibrs_criminal_act\n",
    "* nibrs_criminal_act_type\n",
    "* nibrs_victim_offense\n",
    "> Agencies and agency_participation are being dropped as explained above. \n"
   ]
  },
  {
   "cell_type": "code",
   "execution_count": null,
   "metadata": {
    "ExecuteTime": {
     "end_time": "2021-07-07T17:59:31.287378Z",
     "start_time": "2021-07-07T17:59:31.272374Z"
    }
   },
   "outputs": [],
   "source": [
    "# Deleting the tables above\n",
    "\n",
    "table_list_to_drop=['agencies','agency_participation']\n",
    "\n",
    "for table in table_list_to_drop:\n",
    "    string=table\n",
    "    statement='DROP TABLE'+' '+string\n",
    "    cur.execute(statement)\n",
    "cur.execute(\"\"\"SELECT name FROM sqlite_master WHERE type='table'\"\"\").fetchall()"
   ]
  },
  {
   "cell_type": "markdown",
   "metadata": {},
   "source": [
    "#### Bias table"
   ]
  },
  {
   "cell_type": "markdown",
   "metadata": {},
   "source": [
    "> Adding bias type info to the main bias table"
   ]
  },
  {
   "cell_type": "code",
   "execution_count": null,
   "metadata": {
    "ExecuteTime": {
     "end_time": "2021-07-07T17:59:31.303381Z",
     "start_time": "2021-07-07T17:59:31.288377Z"
    }
   },
   "outputs": [],
   "source": [
    "q=\"SELECT * FROM nibrs_bias_list\"\n",
    "df = table_query(q)\n",
    "df"
   ]
  },
  {
   "cell_type": "code",
   "execution_count": null,
   "metadata": {
    "ExecuteTime": {
     "end_time": "2021-07-07T17:59:51.021279Z",
     "start_time": "2021-07-07T17:59:31.304381Z"
    }
   },
   "outputs": [],
   "source": [
    "# Intermediatly (to be dropped later) adding 'bias_name' column to bias_main table\n",
    "\n",
    "bias_clmns_to_lv=['bias_id', 'offense_id']\n",
    "\n",
    "# Due to the fact that sqlite has a limitation of not being able to drop columns,\n",
    "# I need to create a new table with only the columns I need.\n",
    "\n",
    "create_new_table('nibrs_bias_motivation', 'bias_main', bias_clmns_to_lv)\n",
    "\n",
    "add_update_clmn('bias_main','nibrs_bias_list', 'bias_name', 'bias_name', 'bias_id')"
   ]
  },
  {
   "cell_type": "code",
   "execution_count": null,
   "metadata": {
    "ExecuteTime": {
     "end_time": "2021-07-07T17:59:56.212970Z",
     "start_time": "2021-07-07T17:59:51.022279Z"
    }
   },
   "outputs": [],
   "source": [
    "# Making sure the columns are there\n",
    "q='SELECT * FROM bias_main'\n",
    "df=table_query(q)\n",
    "df.bias_name.unique()"
   ]
  },
  {
   "cell_type": "code",
   "execution_count": null,
   "metadata": {
    "ExecuteTime": {
     "end_time": "2021-07-07T18:00:01.498833Z",
     "start_time": "2021-07-07T17:59:56.213969Z"
    }
   },
   "outputs": [],
   "source": [
    "bias_to_lv_biasmot=['offense_id',\n",
    "       'bias_name']\n",
    "\n",
    "df=create_new_table('bias_main', 'bias_main_tmp', bias_to_lv_biasmot,  drop_rename=True)"
   ]
  },
  {
   "cell_type": "code",
   "execution_count": null,
   "metadata": {
    "ExecuteTime": {
     "end_time": "2021-07-07T18:00:06.420536Z",
     "start_time": "2021-07-07T18:00:01.499835Z"
    }
   },
   "outputs": [],
   "source": [
    "q='SELECT * FROM bias_main'\n",
    "df=table_query(q)\n",
    "df.groupby('bias_name').nunique()"
   ]
  },
  {
   "cell_type": "markdown",
   "metadata": {},
   "source": [
    "#### Location in the offense table"
   ]
  },
  {
   "cell_type": "markdown",
   "metadata": {},
   "source": [
    "> Leaving all location types in. However, I might reconsider later to change to Home/Residence, Other and Unknown only"
   ]
  },
  {
   "cell_type": "code",
   "execution_count": null,
   "metadata": {
    "ExecuteTime": {
     "end_time": "2021-07-07T18:00:31.464354Z",
     "start_time": "2021-07-07T18:00:06.421465Z"
    }
   },
   "outputs": [],
   "source": [
    "# Adding a new column to offense table with location_names\n",
    "\n",
    "add_update_clmn('offense_main','nibrs_location_type', 'location_name', 'location_name', 'location_id')\n",
    "\n",
    "q='SELECT * FROM offense_main'\n",
    "df=table_query(q)\n",
    "df.location_name.unique()"
   ]
  },
  {
   "cell_type": "code",
   "execution_count": null,
   "metadata": {
    "ExecuteTime": {
     "end_time": "2021-07-07T18:00:35.027684Z",
     "start_time": "2021-07-07T18:00:31.465355Z"
    }
   },
   "outputs": [],
   "source": [
    "df.groupby('location_name').nunique()"
   ]
  },
  {
   "cell_type": "code",
   "execution_count": null,
   "metadata": {
    "ExecuteTime": {
     "end_time": "2021-07-07T18:00:36.002410Z",
     "start_time": "2021-07-07T18:00:35.028684Z"
    }
   },
   "outputs": [],
   "source": [
    "df.nunique()"
   ]
  },
  {
   "cell_type": "markdown",
   "metadata": {
    "ExecuteTime": {
     "end_time": "2021-07-06T22:46:41.816699Z",
     "start_time": "2021-07-06T22:46:41.807175Z"
    }
   },
   "source": [
    "#### Offense type in the offense table"
   ]
  },
  {
   "cell_type": "markdown",
   "metadata": {},
   "source": [
    "> Adding offense type info to the main offense table"
   ]
  },
  {
   "cell_type": "code",
   "execution_count": null,
   "metadata": {
    "ExecuteTime": {
     "end_time": "2021-07-07T18:00:36.146442Z",
     "start_time": "2021-07-07T18:00:36.003411Z"
    }
   },
   "outputs": [],
   "source": [
    "q='SELECT * from nibrs_offense_type'\n",
    "df=table_query(q)\n",
    "df"
   ]
  },
  {
   "cell_type": "code",
   "execution_count": null,
   "metadata": {
    "ExecuteTime": {
     "end_time": "2021-07-07T18:01:44.052086Z",
     "start_time": "2021-07-07T18:00:36.147444Z"
    }
   },
   "outputs": [],
   "source": [
    "# Adding a new column to offense table with offence_type name\n",
    "\n",
    "add_update_clmn('offense_main','nibrs_offense_type', 'offense_name', 'offense_name', 'offense_type_id')\n",
    "\n",
    "add_update_clmn('offense_main','nibrs_offense_type', 'crime_against', 'crime_against', 'offense_type_id')\n",
    "\n",
    "add_update_clmn('offense_main','nibrs_offense_type', 'offence_category_name', 'offense_category_name', 'offense_type_id')"
   ]
  },
  {
   "cell_type": "code",
   "execution_count": null,
   "metadata": {
    "ExecuteTime": {
     "end_time": "2021-07-07T18:01:56.578460Z",
     "start_time": "2021-07-07T18:01:44.057088Z"
    }
   },
   "outputs": [],
   "source": [
    "# Dropping all unused columns\n",
    "offns_to_lv_offnstbl=['offense_id', 'incident_id','location_name','offense_name','crime_against','offence_category_name']\n",
    "\n",
    "df=create_new_table('offense_main', 'offense_main_tmp', offns_to_lv_offnstbl, drop_rename=True)"
   ]
  },
  {
   "cell_type": "code",
   "execution_count": null,
   "metadata": {
    "ExecuteTime": {
     "end_time": "2021-07-07T18:02:05.571857Z",
     "start_time": "2021-07-07T18:01:56.580461Z"
    }
   },
   "outputs": [],
   "source": [
    "q='SELECT * from offense_main'\n",
    "df=table_query(q)\n",
    "df.head()"
   ]
  },
  {
   "cell_type": "markdown",
   "metadata": {},
   "source": [
    "#### Victim-offender relationship"
   ]
  },
  {
   "cell_type": "markdown",
   "metadata": {},
   "source": [
    "> Adding victim-offender relationship info to the main victim table"
   ]
  },
  {
   "cell_type": "code",
   "execution_count": null,
   "metadata": {
    "ExecuteTime": {
     "end_time": "2021-07-07T18:02:05.587366Z",
     "start_time": "2021-07-07T18:02:05.572858Z"
    }
   },
   "outputs": [],
   "source": [
    "cur.execute(\"\"\"SELECT name FROM sqlite_master WHERE type='table'\"\"\").fetchall()   "
   ]
  },
  {
   "cell_type": "code",
   "execution_count": null,
   "metadata": {
    "ExecuteTime": {
     "end_time": "2021-07-07T18:02:05.603370Z",
     "start_time": "2021-07-07T18:02:05.588367Z"
    }
   },
   "outputs": [],
   "source": [
    "q='SELECT * from nibrs_relationship'\n",
    "df=table_query(q)\n",
    "df.head()"
   ]
  },
  {
   "cell_type": "code",
   "execution_count": null,
   "metadata": {
    "ExecuteTime": {
     "end_time": "2021-07-07T18:02:07.120722Z",
     "start_time": "2021-07-07T18:02:05.604370Z"
    }
   },
   "outputs": [],
   "source": [
    "q='SELECT * from nibrs_victim_offender_rel'\n",
    "df=table_query(q)\n",
    "df.head()"
   ]
  },
  {
   "cell_type": "code",
   "execution_count": null,
   "metadata": {
    "ExecuteTime": {
     "end_time": "2021-07-07T18:02:11.285702Z",
     "start_time": "2021-07-07T18:02:07.121722Z"
    }
   },
   "outputs": [],
   "source": [
    "add_update_clmn('nibrs_victim_offender_rel','nibrs_relationship', 'relationship_name', 'relationship_name',\n",
    "                'relationship_id')"
   ]
  },
  {
   "cell_type": "code",
   "execution_count": null,
   "metadata": {
    "ExecuteTime": {
     "end_time": "2021-07-07T18:02:13.089849Z",
     "start_time": "2021-07-07T18:02:11.286702Z"
    }
   },
   "outputs": [],
   "source": [
    "# Dropping all unused columns\n",
    "clmns_to_lv_rlshnshptbl=['victim_id', 'offender_id','relationship_name']\n",
    "\n",
    "df=create_new_table('nibrs_victim_offender_rel', 'nibrs_victim_offender_rel_tmp', clmns_to_lv_rlshnshptbl, drop_rename=True)"
   ]
  },
  {
   "cell_type": "code",
   "execution_count": null,
   "metadata": {
    "ExecuteTime": {
     "end_time": "2021-07-07T18:02:14.367642Z",
     "start_time": "2021-07-07T18:02:13.090850Z"
    }
   },
   "outputs": [],
   "source": [
    "q='SELECT * from nibrs_victim_offender_rel'\n",
    "df=table_query(q)\n",
    "df.head()"
   ]
  },
  {
   "cell_type": "code",
   "execution_count": null,
   "metadata": {
    "ExecuteTime": {
     "end_time": "2021-07-07T18:02:14.383149Z",
     "start_time": "2021-07-07T18:02:14.368642Z"
    }
   },
   "outputs": [],
   "source": [
    "stmnt='ALTER TABLE nibrs_victim_offender_rel RENAME to victim_offender_rel'\n",
    "cur.execute(stmnt)"
   ]
  },
  {
   "cell_type": "code",
   "execution_count": null,
   "metadata": {
    "ExecuteTime": {
     "end_time": "2021-07-07T18:02:14.399153Z",
     "start_time": "2021-07-07T18:02:14.384149Z"
    }
   },
   "outputs": [],
   "source": [
    "cur.execute(\"\"\"SELECT name FROM sqlite_master WHERE type='table'\"\"\").fetchall()"
   ]
  },
  {
   "cell_type": "markdown",
   "metadata": {},
   "source": [
    "#### Dropping all reference tables"
   ]
  },
  {
   "cell_type": "code",
   "execution_count": null,
   "metadata": {
    "ExecuteTime": {
     "end_time": "2021-07-07T18:02:14.700998Z",
     "start_time": "2021-07-07T18:02:14.400153Z"
    }
   },
   "outputs": [],
   "source": [
    "table_list_to_drop=['nibrs_bias_list',\n",
    "                    'nibrs_location_type',\n",
    "                    'nibrs_offense_type',\n",
    "                    'nibrs_cleared_except',\n",
    "                    'nibrs_relationship',\n",
    "                    'nibrs_bias_motivation']\n",
    "\n",
    "for table in table_list_to_drop:\n",
    "    string=table\n",
    "    statement='DROP TABLE'+' '+string\n",
    "    cur.execute(statement)\n",
    "cur.execute(\"\"\"SELECT name FROM sqlite_master WHERE type='table'\"\"\").fetchall()    "
   ]
  },
  {
   "cell_type": "markdown",
   "metadata": {},
   "source": [
    "### Combining all tables into one based on offense table"
   ]
  },
  {
   "cell_type": "markdown",
   "metadata": {},
   "source": [
    "#### Incident table"
   ]
  },
  {
   "cell_type": "markdown",
   "metadata": {},
   "source": [
    "> Adding agencies info into the main incident table and dropping the cde_agencies table. Replacing '' in the incident table hour column to '0'."
   ]
  },
  {
   "cell_type": "code",
   "execution_count": null,
   "metadata": {
    "ExecuteTime": {
     "end_time": "2021-07-07T18:02:19.767665Z",
     "start_time": "2021-07-07T18:02:14.734006Z"
    }
   },
   "outputs": [],
   "source": [
    "q='SELECT * from incident_main'\n",
    "df=table_query(q)\n",
    "df.info()"
   ]
  },
  {
   "cell_type": "code",
   "execution_count": null,
   "metadata": {
    "ExecuteTime": {
     "end_time": "2021-07-07T18:02:19.863687Z",
     "start_time": "2021-07-07T18:02:19.768665Z"
    }
   },
   "outputs": [],
   "source": [
    "q='SELECT * from cde_agencies'\n",
    "df=table_query(q)\n",
    "df"
   ]
  },
  {
   "cell_type": "code",
   "execution_count": null,
   "metadata": {
    "ExecuteTime": {
     "end_time": "2021-07-07T18:02:19.975712Z",
     "start_time": "2021-07-07T18:02:19.864687Z"
    }
   },
   "outputs": [],
   "source": [
    "remove_dups('cde_agencies', 'cde_agencies_nodups', conn, drop_rename=True)"
   ]
  },
  {
   "cell_type": "code",
   "execution_count": null,
   "metadata": {
    "ExecuteTime": {
     "end_time": "2021-07-07T18:03:46.272727Z",
     "start_time": "2021-07-07T18:02:19.976712Z"
    }
   },
   "outputs": [],
   "source": [
    "add_update_clmn('incident_main','cde_agencies', 'primary_county', 'primary_county', 'agency_id')\n",
    "\n",
    "add_update_clmn('incident_main','cde_agencies', 'icpsr_zip', 'icpsr_zip',  'agency_id')"
   ]
  },
  {
   "cell_type": "code",
   "execution_count": null,
   "metadata": {
    "ExecuteTime": {
     "end_time": "2021-07-07T18:03:53.288838Z",
     "start_time": "2021-07-07T18:03:46.273727Z"
    }
   },
   "outputs": [],
   "source": [
    "q='SELECT * from incident_main'\n",
    "df=table_query(q)\n",
    "df"
   ]
  },
  {
   "cell_type": "code",
   "execution_count": null,
   "metadata": {
    "ExecuteTime": {
     "end_time": "2021-07-07T18:03:53.368855Z",
     "start_time": "2021-07-07T18:03:53.289838Z"
    }
   },
   "outputs": [],
   "source": [
    "df.incident_hour.isna().sum()"
   ]
  },
  {
   "cell_type": "code",
   "execution_count": null,
   "metadata": {
    "ExecuteTime": {
     "end_time": "2021-07-07T18:04:01.176678Z",
     "start_time": "2021-07-07T18:03:53.369855Z"
    }
   },
   "outputs": [],
   "source": [
    "update_value('incident_main', 'incident_hour', \"''\", '0')"
   ]
  },
  {
   "cell_type": "code",
   "execution_count": null,
   "metadata": {
    "ExecuteTime": {
     "end_time": "2021-07-07T18:04:01.192731Z",
     "start_time": "2021-07-07T18:04:01.177678Z"
    }
   },
   "outputs": [],
   "source": [
    "stmnt=\"DROP TABLE cde_agencies\"\n",
    "cur.execute(stmnt)"
   ]
  },
  {
   "cell_type": "markdown",
   "metadata": {
    "ExecuteTime": {
     "end_time": "2021-07-07T00:36:57.551920Z",
     "start_time": "2021-07-07T00:36:48.804930Z"
    }
   },
   "source": [
    "#### Creating dataframes and saving them to pickle files to finalize working with sqlite tables "
   ]
  },
  {
   "cell_type": "code",
   "execution_count": null,
   "metadata": {
    "ExecuteTime": {
     "end_time": "2021-07-07T18:04:01.208164Z",
     "start_time": "2021-07-07T18:04:01.192731Z"
    }
   },
   "outputs": [],
   "source": [
    "cur.execute(\"\"\"SELECT name FROM sqlite_master WHERE type='table'\"\"\").fetchall()"
   ]
  },
  {
   "cell_type": "code",
   "execution_count": null,
   "metadata": {
    "ExecuteTime": {
     "end_time": "2021-07-07T18:04:10.854059Z",
     "start_time": "2021-07-07T18:04:01.209165Z"
    }
   },
   "outputs": [],
   "source": [
    "q='SELECT * from incident_main'\n",
    "df_incident=table_query(q)\n",
    "with open('data/pickled_dataframes/incident.pickle', 'wb') as f:\n",
    "    pickle.dump(df_incident, f)"
   ]
  },
  {
   "cell_type": "code",
   "execution_count": null,
   "metadata": {
    "ExecuteTime": {
     "end_time": "2021-07-07T18:04:12.068649Z",
     "start_time": "2021-07-07T18:04:10.855061Z"
    }
   },
   "outputs": [],
   "source": [
    "with open('data/pickled_dataframes/incident.pickle', 'rb') as f:\n",
    "    df_incident=pickle.load(f)\n",
    "df_incident.head()"
   ]
  },
  {
   "cell_type": "code",
   "execution_count": null,
   "metadata": {
    "ExecuteTime": {
     "end_time": "2021-07-07T18:04:12.084653Z",
     "start_time": "2021-07-07T18:04:12.069651Z"
    }
   },
   "outputs": [],
   "source": [
    "len(df_incident)"
   ]
  },
  {
   "cell_type": "code",
   "execution_count": null,
   "metadata": {
    "ExecuteTime": {
     "end_time": "2021-07-07T18:04:25.162880Z",
     "start_time": "2021-07-07T18:04:12.085654Z"
    }
   },
   "outputs": [],
   "source": [
    "q='SELECT * from offense_main'\n",
    "df_offense=table_query(q)\n",
    "with open('data/pickled_dataframes/offense.pickle', 'wb') as f:\n",
    "    pickle.dump(df_offense, f)"
   ]
  },
  {
   "cell_type": "code",
   "execution_count": null,
   "metadata": {
    "ExecuteTime": {
     "end_time": "2021-07-07T18:04:26.825257Z",
     "start_time": "2021-07-07T18:04:25.163880Z"
    }
   },
   "outputs": [],
   "source": [
    "with open('data/pickled_dataframes/offense.pickle', 'rb') as f:\n",
    "    df_offence=pickle.load(f)\n",
    "df_offense.head()"
   ]
  },
  {
   "cell_type": "code",
   "execution_count": null,
   "metadata": {
    "ExecuteTime": {
     "end_time": "2021-07-07T18:04:26.841260Z",
     "start_time": "2021-07-07T18:04:26.826257Z"
    }
   },
   "outputs": [],
   "source": [
    "len(df_offense)"
   ]
  },
  {
   "cell_type": "code",
   "execution_count": null,
   "metadata": {
    "ExecuteTime": {
     "end_time": "2021-07-07T18:04:37.653625Z",
     "start_time": "2021-07-07T18:04:26.842260Z"
    }
   },
   "outputs": [],
   "source": [
    "q='SELECT * from offender_main'\n",
    "df_offender=table_query(q)\n",
    "with open('data/pickled_dataframes/offender.pickle', 'wb') as f:\n",
    "    pickle.dump(df_offender, f)"
   ]
  },
  {
   "cell_type": "code",
   "execution_count": null,
   "metadata": {
    "ExecuteTime": {
     "end_time": "2021-07-07T18:04:38.946925Z",
     "start_time": "2021-07-07T18:04:37.654626Z"
    }
   },
   "outputs": [],
   "source": [
    "with open('data/pickled_dataframes/offender.pickle', 'rb') as f:\n",
    "    df_offender=pickle.load(f)\n",
    "df_offender.head()"
   ]
  },
  {
   "cell_type": "code",
   "execution_count": null,
   "metadata": {
    "ExecuteTime": {
     "end_time": "2021-07-07T18:04:38.962431Z",
     "start_time": "2021-07-07T18:04:38.947925Z"
    }
   },
   "outputs": [],
   "source": [
    "len(df_offender)"
   ]
  },
  {
   "cell_type": "code",
   "execution_count": null,
   "metadata": {
    "ExecuteTime": {
     "end_time": "2021-07-07T18:04:54.469673Z",
     "start_time": "2021-07-07T18:04:38.963432Z"
    }
   },
   "outputs": [],
   "source": [
    "q='SELECT * from victim_main'\n",
    "df_victim=table_query(q)\n",
    "with open('data/pickled_dataframes/victim.pickle', 'wb') as f:\n",
    "    pickle.dump(df_victim, f)"
   ]
  },
  {
   "cell_type": "code",
   "execution_count": null,
   "metadata": {
    "ExecuteTime": {
     "end_time": "2021-07-07T18:04:56.692192Z",
     "start_time": "2021-07-07T18:04:54.470674Z"
    }
   },
   "outputs": [],
   "source": [
    "with open('data/pickled_dataframes/victim.pickle', 'rb') as f:\n",
    "    df_victim=pickle.load(f)\n",
    "df_victim.head()"
   ]
  },
  {
   "cell_type": "code",
   "execution_count": null,
   "metadata": {
    "ExecuteTime": {
     "end_time": "2021-07-07T18:04:56.707697Z",
     "start_time": "2021-07-07T18:04:56.693192Z"
    }
   },
   "outputs": [],
   "source": [
    "len(df_victim)"
   ]
  },
  {
   "cell_type": "code",
   "execution_count": null,
   "metadata": {
    "ExecuteTime": {
     "end_time": "2021-07-07T18:04:57.474580Z",
     "start_time": "2021-07-07T18:04:56.708698Z"
    }
   },
   "outputs": [],
   "source": [
    "q='SELECT * from weapon_main'\n",
    "df_weapon=table_query(q)\n",
    "with open('data/pickled_dataframes/weapon.pickle', 'wb') as f:\n",
    "    pickle.dump(df_weapon, f)"
   ]
  },
  {
   "cell_type": "code",
   "execution_count": null,
   "metadata": {
    "ExecuteTime": {
     "end_time": "2021-07-07T18:04:57.569082Z",
     "start_time": "2021-07-07T18:04:57.475582Z"
    }
   },
   "outputs": [],
   "source": [
    "with open('data/pickled_dataframes/weapon.pickle', 'rb') as f:\n",
    "    df_weapon=pickle.load(f)\n",
    "df_weapon.head()"
   ]
  },
  {
   "cell_type": "code",
   "execution_count": null,
   "metadata": {
    "ExecuteTime": {
     "end_time": "2021-07-07T18:04:57.585076Z",
     "start_time": "2021-07-07T18:04:57.570074Z"
    }
   },
   "outputs": [],
   "source": [
    "len(df_weapon)"
   ]
  },
  {
   "cell_type": "code",
   "execution_count": null,
   "metadata": {
    "ExecuteTime": {
     "end_time": "2021-07-07T18:05:02.391155Z",
     "start_time": "2021-07-07T18:04:57.586078Z"
    }
   },
   "outputs": [],
   "source": [
    "q='SELECT * from bias_main'\n",
    "df_bias=table_query(q)\n",
    "with open('data/pickled_dataframes/bias.pickle', 'wb') as f:\n",
    "    pickle.dump(df_bias, f)"
   ]
  },
  {
   "cell_type": "code",
   "execution_count": null,
   "metadata": {
    "ExecuteTime": {
     "end_time": "2021-07-07T18:05:02.966790Z",
     "start_time": "2021-07-07T18:05:02.392156Z"
    }
   },
   "outputs": [],
   "source": [
    "with open('data/pickled_dataframes/bias.pickle', 'rb') as f:\n",
    "    df_bias=pickle.load(f)\n",
    "df_bias.head()"
   ]
  },
  {
   "cell_type": "code",
   "execution_count": null,
   "metadata": {
    "ExecuteTime": {
     "end_time": "2021-07-07T18:05:02.982794Z",
     "start_time": "2021-07-07T18:05:02.967791Z"
    }
   },
   "outputs": [],
   "source": [
    "len(df_bias)"
   ]
  },
  {
   "cell_type": "code",
   "execution_count": null,
   "metadata": {
    "ExecuteTime": {
     "end_time": "2021-07-07T18:05:04.469147Z",
     "start_time": "2021-07-07T18:05:02.983794Z"
    }
   },
   "outputs": [],
   "source": [
    "q='SELECT * from victim_offender_rel'\n",
    "df_rel=table_query(q)\n",
    "with open('data/pickled_dataframes/relationship.pickle', 'wb') as f:\n",
    "    pickle.dump(df_rel, f)"
   ]
  },
  {
   "cell_type": "code",
   "execution_count": null,
   "metadata": {
    "ExecuteTime": {
     "end_time": "2021-07-07T18:05:04.597177Z",
     "start_time": "2021-07-07T18:05:04.470148Z"
    }
   },
   "outputs": [],
   "source": [
    "with open('data/pickled_dataframes/relationship.pickle', 'rb') as f:\n",
    "    df_rel=pickle.load(f)\n",
    "df_rel.head()"
   ]
  },
  {
   "cell_type": "code",
   "execution_count": null,
   "metadata": {
    "ExecuteTime": {
     "end_time": "2021-07-07T18:05:04.613181Z",
     "start_time": "2021-07-07T18:05:04.598177Z"
    }
   },
   "outputs": [],
   "source": [
    "len(df_rel)"
   ]
  },
  {
   "cell_type": "code",
   "execution_count": null,
   "metadata": {
    "ExecuteTime": {
     "end_time": "2021-07-07T18:05:04.645188Z",
     "start_time": "2021-07-07T18:05:04.614181Z"
    }
   },
   "outputs": [],
   "source": [
    "cur.close()\n",
    "conn.commit()\n",
    "conn.close()"
   ]
  },
  {
   "cell_type": "markdown",
   "metadata": {},
   "source": [
    ">The next step is working with the dataframes in [scrub, part 2 notebook](capstone_prj_scrub_part2.ipynb) "
   ]
  },
  {
   "cell_type": "markdown",
   "metadata": {},
   "source": [
    "# EXPLORE"
   ]
  },
  {
   "cell_type": "markdown",
   "metadata": {},
   "source": [
    "# MODEL"
   ]
  },
  {
   "cell_type": "markdown",
   "metadata": {},
   "source": [
    "# iNTERPRET"
   ]
  },
  {
   "cell_type": "code",
   "execution_count": null,
   "metadata": {},
   "outputs": [],
   "source": []
  },
  {
   "cell_type": "markdown",
   "metadata": {},
   "source": [
    "# CONCLUSIONS & RECOMMENDATIONS"
   ]
  },
  {
   "cell_type": "markdown",
   "metadata": {},
   "source": [
    "> Summarize your conclusions and bullet-point your list of recommendations, which are based on your modeling results."
   ]
  },
  {
   "cell_type": "markdown",
   "metadata": {},
   "source": [
    "# TO DO/FUTURE WORK"
   ]
  },
  {
   "cell_type": "markdown",
   "metadata": {},
   "source": [
    "- "
   ]
  },
  {
   "cell_type": "code",
   "execution_count": null,
   "metadata": {},
   "outputs": [],
   "source": []
  }
 ],
 "metadata": {
  "hide_input": false,
  "kernelspec": {
   "display_name": "learn-env",
   "language": "python",
   "name": "learn-env"
  },
  "language_info": {
   "codemirror_mode": {
    "name": "ipython",
    "version": 3
   },
   "file_extension": ".py",
   "mimetype": "text/x-python",
   "name": "python",
   "nbconvert_exporter": "python",
   "pygments_lexer": "ipython3",
   "version": "3.8.5"
  },
  "toc": {
   "base_numbering": 1,
   "nav_menu": {},
   "number_sections": true,
   "sideBar": true,
   "skip_h1_title": false,
   "title_cell": "Table of Contents",
   "title_sidebar": "Contents",
   "toc_cell": false,
   "toc_position": {
    "height": "calc(100% - 180px)",
    "left": "10px",
    "top": "150px",
    "width": "398.5px"
   },
   "toc_section_display": true,
   "toc_window_display": true
  },
  "varInspector": {
   "cols": {
    "lenName": 16,
    "lenType": 16,
    "lenVar": 40
   },
   "kernels_config": {
    "python": {
     "delete_cmd_postfix": "",
     "delete_cmd_prefix": "del ",
     "library": "var_list.py",
     "varRefreshCmd": "print(var_dic_list())"
    },
    "r": {
     "delete_cmd_postfix": ") ",
     "delete_cmd_prefix": "rm(",
     "library": "var_list.r",
     "varRefreshCmd": "cat(var_dic_list()) "
    }
   },
   "types_to_exclude": [
    "module",
    "function",
    "builtin_function_or_method",
    "instance",
    "_Feature"
   ],
   "window_display": false
  }
 },
 "nbformat": 4,
 "nbformat_minor": 2
}
