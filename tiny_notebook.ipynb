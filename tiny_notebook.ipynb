{
 "cells": [
  {
   "cell_type": "code",
   "execution_count": null,
   "metadata": {
    "ExecuteTime": {
     "end_time": "2021-07-13T22:39:39.765497Z",
     "start_time": "2021-07-13T22:39:39.721020Z"
    }
   },
   "outputs": [],
   "source": [
    "# Importing packages\n",
    "import pandas as pd\n",
    "import numpy as np\n",
    "import matplotlib\n",
    "import matplotlib.pyplot as plt\n",
    "import seaborn as sns\n",
    "import itertools\n",
    "import statsmodels\n",
    "import statsmodels.tsa.api as tsa\n",
    "import plotly.express as px\n",
    "import plotly.io as pio\n",
    "import math\n",
    "from math import sqrt\n",
    "import holidays\n",
    "import pmdarima as pmd\n",
    "\n",
    "from statsmodels.tsa.stattools import adfuller, acf, pacf\n",
    "from statsmodels.tsa.seasonal import seasonal_decompose\n",
    "from statsmodels.tsa.arima.model import ARIMA\n",
    "from statsmodels.graphics.tsaplots import plot_acf, plot_pacf\n",
    "from statsmodels.tsa.statespace.sarimax import SARIMAX\n",
    "from sklearn.metrics import mean_squared_error\n",
    "\n",
    "\n",
    "import pickle\n",
    "import gzip\n",
    "import shutil\n",
    "import os\n",
    "\n",
    "import csv\n",
    "from pathlib import Path\n",
    "import subprocess\n",
    "import io\n",
    "from icecream import ic\n",
    "import warnings\n",
    "warnings.filterwarnings(action='ignore', category=FutureWarning)\n",
    "\n",
    "\n",
    "plt.style.use('ggplot')\n",
    "%matplotlib inline"
   ]
  },
  {
   "cell_type": "code",
   "execution_count": null,
   "metadata": {
    "ExecuteTime": {
     "end_time": "2021-07-13T22:39:42.524003Z",
     "start_time": "2021-07-13T22:39:42.484994Z"
    }
   },
   "outputs": [],
   "source": [
    "with open('data/pickled_ts/ts_weekly.pickle', 'rb') as f:\n",
    "    ts_weekly=pickle.load(f)"
   ]
  },
  {
   "cell_type": "code",
   "execution_count": null,
   "metadata": {
    "ExecuteTime": {
     "end_time": "2021-07-13T22:40:34.448107Z",
     "start_time": "2021-07-13T22:40:34.422598Z"
    }
   },
   "outputs": [],
   "source": [
    "ts_weekly_cut=ts_weekly['2016':]"
   ]
  },
  {
   "cell_type": "code",
   "execution_count": null,
   "metadata": {
    "ExecuteTime": {
     "end_time": "2021-07-13T22:41:14.058171Z",
     "start_time": "2021-07-13T22:40:39.830132Z"
    }
   },
   "outputs": [],
   "source": [
    "auto_model = pmd.auto_arima(ts_weekly_cut,\n",
    "                            start_p=4,start_q=0, d=1,\n",
    "                            max_p=5,max_q=1,\n",
    "                            max_P=5,max_Q=1,\n",
    "                            start_P=4, start_Q=0, D=1,\n",
    "                            m=52,\n",
    "                            verbose=2)\n"
   ]
  },
  {
   "cell_type": "code",
   "execution_count": null,
   "metadata": {},
   "outputs": [],
   "source": [
    "# That is all"
   ]
  }
 ],
 "metadata": {
  "hide_input": false,
  "kernelspec": {
   "display_name": "learn-env",
   "language": "python",
   "name": "learn-env"
  },
  "language_info": {
   "codemirror_mode": {
    "name": "ipython",
    "version": 3
   },
   "file_extension": ".py",
   "mimetype": "text/x-python",
   "name": "python",
   "nbconvert_exporter": "python",
   "pygments_lexer": "ipython3",
   "version": "3.8.5"
  },
  "toc": {
   "base_numbering": 1,
   "nav_menu": {},
   "number_sections": true,
   "sideBar": true,
   "skip_h1_title": false,
   "title_cell": "Table of Contents",
   "title_sidebar": "Contents",
   "toc_cell": false,
   "toc_position": {},
   "toc_section_display": true,
   "toc_window_display": true
  }
 },
 "nbformat": 4,
 "nbformat_minor": 4
}
