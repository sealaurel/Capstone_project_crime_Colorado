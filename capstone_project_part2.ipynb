{
 "cells": [
  {
   "cell_type": "markdown",
   "metadata": {},
   "source": [
    "![headline image](images/background5.png)"
   ]
  },
  {
   "cell_type": "markdown",
   "metadata": {},
   "source": [
    "<br><br><center><b><font size=\"6\">Modeling and Forecasting Crime Rate in Colorado </font></b></center>"
   ]
  },
  {
   "cell_type": "markdown",
   "metadata": {},
   "source": [
    "<br><br><span style=\"color:black; font-size:1.5em\">**Data Science Capstone Project, part 2; (pre-processing DataFrames and EDA)**</span><br>\n",
    "* Student name: <b>Elena Kazakova</b>\n",
    "* Student pace: <b>Full-time</b>\n",
    "* Cohort: <b>DS02222021</b>\n",
    "* Scheduled project review date: <span style=\"color:red\"><b>07/26/2021</b></span>\n",
    "* Instructor name: <b>James Irving</b>\n",
    "* Application url: <span style=\"color:red\"><b>TBD</b></span>\n"
   ]
  },
  {
   "cell_type": "markdown",
   "metadata": {},
   "source": [
    "<br><br><left><b><font size=\"5\">TABLE OF CONTENTS </font></b></left><br>"
   ]
  },
  {
   "cell_type": "markdown",
   "metadata": {},
   "source": [
    "\n",
    "- **[Introduction](#INTRODUCTION)<br>**\n",
    "- **[OBTAIN](#OBTAIN)**<br>\n",
    "- **[SCRUB](#SCRUB)**<br>\n",
    "- **[EXPLORE](#EXPLORE)**<br>\n"
   ]
  },
  {
   "cell_type": "markdown",
   "metadata": {},
   "source": [
    "# INTRODUCTION"
   ]
  },
  {
   "cell_type": "markdown",
   "metadata": {},
   "source": [
    "> Explain the point of your project and what question you are trying to answer with your modeling.\n",
    "\n"
   ]
  },
  {
   "cell_type": "markdown",
   "metadata": {},
   "source": [
    "# OBTAIN"
   ]
  },
  {
   "cell_type": "markdown",
   "metadata": {},
   "source": [
    "**If you are running this notebook without restarting the kernel replace '%load_ext autoreload' in imports with '%reload_ext autoreload'**"
   ]
  },
  {
   "cell_type": "markdown",
   "metadata": {},
   "source": [
    "## Imports"
   ]
  },
  {
   "cell_type": "code",
   "execution_count": null,
   "metadata": {
    "ExecuteTime": {
     "end_time": "2021-07-21T19:26:16.195630Z",
     "start_time": "2021-07-21T19:26:14.198263Z"
    }
   },
   "outputs": [],
   "source": [
    "# Importing packages\n",
    "import pandas as pd\n",
    "import numpy as np\n",
    "import matplotlib\n",
    "import matplotlib.pyplot as plt\n",
    "import seaborn as sns\n",
    "import itertools\n",
    "import statsmodels\n",
    "import statsmodels.tsa.api as tsa\n",
    "import plotly.express as px\n",
    "import plotly.io as pio\n",
    "import plotly\n",
    "import math\n",
    "from math import sqrt\n",
    "import holidays\n",
    "import pmdarima as pm\n",
    "\n",
    "from statsmodels.tsa.stattools import adfuller, acf, pacf\n",
    "from statsmodels.tsa.seasonal import seasonal_decompose\n",
    "from statsmodels.tsa.arima.model import ARIMA\n",
    "from statsmodels.graphics.tsaplots import plot_acf, plot_pacf\n",
    "from statsmodels.tsa.statespace.sarimax import SARIMAX\n",
    "from sklearn.metrics import mean_squared_error\n",
    "\n",
    "import pickle\n",
    "#import shutil\n",
    "import os\n",
    "import json\n",
    "\n",
    "# from pathlib import Path\n",
    "# import subprocess\n",
    "# import io\n",
    "\n",
    "import warnings\n",
    "warnings.filterwarnings(action='ignore', category=FutureWarning)\n",
    "\n",
    "from functions_all import *\n",
    "\n",
    "%reload_ext autoreload\n",
    "%autoreload 2\n",
    "%matplotlib inline"
   ]
  },
  {
   "cell_type": "code",
   "execution_count": null,
   "metadata": {
    "ExecuteTime": {
     "end_time": "2021-07-21T19:26:17.487305Z",
     "start_time": "2021-07-21T19:26:16.196630Z"
    },
    "scrolled": true
   },
   "outputs": [],
   "source": [
    "CO_zip_json=json.load(open('data/co_zip.min.json', 'r'))\n",
    "CO_county_json=json.load(open('data/CO_counties_geo.json', 'r'))"
   ]
  },
  {
   "cell_type": "markdown",
   "metadata": {},
   "source": [
    "## Data"
   ]
  },
  {
   "cell_type": "markdown",
   "metadata": {},
   "source": [
    "### Data source and data description"
   ]
  },
  {
   "cell_type": "markdown",
   "metadata": {
    "ExecuteTime": {
     "end_time": "2021-06-29T22:51:09.955934Z",
     "start_time": "2021-06-29T22:51:09.915935Z"
    }
   },
   "source": [
    "Data is from FBI Crime Data Explorer\n",
    "[NIBRS data for Colorado from 2009-2019](https://crime-data-explorer.fr.cloud.gov/pages/downloads)\n",
    "\n",
    "The [data dictionary](data/NIBRS_DataDictionary.pdf) is  and a [record descriptiopn](data/NIBRS_Record_Description.pdf) are available.\n"
   ]
  },
  {
   "cell_type": "markdown",
   "metadata": {
    "ExecuteTime": {
     "end_time": "2021-06-29T22:49:22.256999Z",
     "start_time": "2021-06-29T22:49:22.003934Z"
    }
   },
   "source": [
    "The description of the main and reference tables is in data/README.md file.\n",
    "The agency implemented some changes to the files structure in 2016 and removed the sqlite create and load scripts from the zip directories.\n",
    "Another fact worth mentioning is that files 'nibrs_property_desc.csv' from 2014 and 2015 have duplicated nibrs_property_desc_ids (unique identifier in the nibrs_property_desc table) which complicated the loading of the data."
   ]
  },
  {
   "cell_type": "markdown",
   "metadata": {},
   "source": [
    "The rest of the original data description is in description is in the [notebook](capstone_project_part1.ipynb) with the first part of data pre-processing."
   ]
  },
  {
   "cell_type": "markdown",
   "metadata": {},
   "source": [
    "### Using an already created sqlite database"
   ]
  },
  {
   "cell_type": "markdown",
   "metadata": {},
   "source": [
    "The notebook with database creation is [here](capstone_project_part0.ipynb). The referenced database is in ***data/sqlite/db/production1 db***. It takes 2.5 minutes to run the database creation script."
   ]
  },
  {
   "cell_type": "markdown",
   "metadata": {},
   "source": [
    "# SCRUB"
   ]
  },
  {
   "cell_type": "markdown",
   "metadata": {},
   "source": [
    "## Part I, pre-processing the data in SQL database"
   ]
  },
  {
   "cell_type": "markdown",
   "metadata": {
    "ExecuteTime": {
     "end_time": "2021-07-07T17:53:54.389957Z",
     "start_time": "2021-07-07T17:53:54.374954Z"
    }
   },
   "source": [
    "<br><br><span style=\"color:black; font-size:1.2em\">The first part of the scrubbing process (working with sqlite3 database, production1) is in [this notebook](capstone_prj_scrub_part1.ipynb). It takes about 12 minutes to run the code in part1 notebook. The following code is using dataframes created in part I.</span>"
   ]
  },
  {
   "cell_type": "markdown",
   "metadata": {},
   "source": [
    "In part I the following dataframes have been created and saved in the pickle files:<br>\n",
    "\n",
    "    1. df_incident: data/pickled_dataframes/incident.pickle; main incident DF with date/time of an incident\n",
    "    2. df_offense: data/pickled_dataframes/offense.pickle: main offense DF with offense names and categories\n",
    "    3. df_offender: data/pickled_dataframes/offender.pickle; main offender DF with demographic info\n",
    "    4. df_victim: data/pickled_dataframes/victim.pickle; main victim DF with demographic info\n",
    "    5. df_weapon: data/pickled_dataframes/weapon.pickle; main weapon DF with a weapon category used in an offense\n",
    "    6. df_bias: data/pickled_dataframes/bias.pickle; main bias DF with offense bias motivation\n",
    "    7. df_rel: data/pickled_dataframes/relationship.pickle; main victim-offender relationship DF with relationship category\n",
    "    "
   ]
  },
  {
   "cell_type": "markdown",
   "metadata": {},
   "source": [
    "## Part II, scrubbing the data in DataFrames"
   ]
  },
  {
   "cell_type": "markdown",
   "metadata": {
    "ExecuteTime": {
     "end_time": "2021-07-07T00:36:57.551920Z",
     "start_time": "2021-07-07T00:36:48.804930Z"
    }
   },
   "source": [
    "### Using pickle files to create dataframes"
   ]
  },
  {
   "cell_type": "code",
   "execution_count": null,
   "metadata": {
    "ExecuteTime": {
     "end_time": "2021-07-21T19:26:18.558550Z",
     "start_time": "2021-07-21T19:26:17.490307Z"
    }
   },
   "outputs": [],
   "source": [
    "with open('data/pickled_dataframes/incident.pickle', 'rb') as f:\n",
    "    df_incident=pickle.load(f)\n",
    "df_incident.head()"
   ]
  },
  {
   "cell_type": "code",
   "execution_count": null,
   "metadata": {
    "ExecuteTime": {
     "end_time": "2021-07-21T19:26:18.638620Z",
     "start_time": "2021-07-21T19:26:18.559550Z"
    }
   },
   "outputs": [],
   "source": [
    "len(df_incident)"
   ]
  },
  {
   "cell_type": "code",
   "execution_count": null,
   "metadata": {
    "ExecuteTime": {
     "end_time": "2021-07-21T19:26:20.344516Z",
     "start_time": "2021-07-21T19:26:18.639622Z"
    }
   },
   "outputs": [],
   "source": [
    "with open('data/pickled_dataframes/offense.pickle', 'rb') as f:\n",
    "    df_offense=pickle.load(f)\n",
    "df_offense.head()"
   ]
  },
  {
   "cell_type": "code",
   "execution_count": null,
   "metadata": {
    "ExecuteTime": {
     "end_time": "2021-07-21T19:26:20.423544Z",
     "start_time": "2021-07-21T19:26:20.345517Z"
    }
   },
   "outputs": [],
   "source": [
    "len(df_offense)"
   ]
  },
  {
   "cell_type": "code",
   "execution_count": null,
   "metadata": {
    "ExecuteTime": {
     "end_time": "2021-07-21T19:26:21.730655Z",
     "start_time": "2021-07-21T19:26:20.425544Z"
    }
   },
   "outputs": [],
   "source": [
    "with open('data/pickled_dataframes/offender.pickle', 'rb') as f:\n",
    "    df_offender=pickle.load(f)\n",
    "df_offender.head()"
   ]
  },
  {
   "cell_type": "code",
   "execution_count": null,
   "metadata": {
    "ExecuteTime": {
     "end_time": "2021-07-21T19:26:21.810674Z",
     "start_time": "2021-07-21T19:26:21.731655Z"
    }
   },
   "outputs": [],
   "source": [
    "len(df_offender)"
   ]
  },
  {
   "cell_type": "code",
   "execution_count": null,
   "metadata": {
    "ExecuteTime": {
     "end_time": "2021-07-21T19:26:23.912411Z",
     "start_time": "2021-07-21T19:26:21.811673Z"
    }
   },
   "outputs": [],
   "source": [
    "with open('data/pickled_dataframes/victim.pickle', 'rb') as f:\n",
    "    df_victim=pickle.load(f)\n",
    "df_victim.head()"
   ]
  },
  {
   "cell_type": "code",
   "execution_count": null,
   "metadata": {
    "ExecuteTime": {
     "end_time": "2021-07-21T19:26:24.005684Z",
     "start_time": "2021-07-21T19:26:23.913411Z"
    }
   },
   "outputs": [],
   "source": [
    "len(df_victim)"
   ]
  },
  {
   "cell_type": "code",
   "execution_count": null,
   "metadata": {
    "ExecuteTime": {
     "end_time": "2021-07-21T19:26:24.180724Z",
     "start_time": "2021-07-21T19:26:24.006685Z"
    }
   },
   "outputs": [],
   "source": [
    "with open('data/pickled_dataframes/weapon.pickle', 'rb') as f:\n",
    "    df_weapon=pickle.load(f)\n",
    "df_weapon.head()"
   ]
  },
  {
   "cell_type": "code",
   "execution_count": null,
   "metadata": {
    "ExecuteTime": {
     "end_time": "2021-07-21T19:26:24.260743Z",
     "start_time": "2021-07-21T19:26:24.181724Z"
    }
   },
   "outputs": [],
   "source": [
    "len(df_weapon)"
   ]
  },
  {
   "cell_type": "code",
   "execution_count": null,
   "metadata": {
    "ExecuteTime": {
     "end_time": "2021-07-21T19:26:24.692348Z",
     "start_time": "2021-07-21T19:26:24.261743Z"
    }
   },
   "outputs": [],
   "source": [
    "with open('data/pickled_dataframes/bias.pickle', 'rb') as f:\n",
    "    df_bias=pickle.load(f)\n",
    "df_bias.head()"
   ]
  },
  {
   "cell_type": "code",
   "execution_count": null,
   "metadata": {
    "ExecuteTime": {
     "end_time": "2021-07-21T19:26:24.770869Z",
     "start_time": "2021-07-21T19:26:24.693348Z"
    }
   },
   "outputs": [],
   "source": [
    "len(df_bias)"
   ]
  },
  {
   "cell_type": "code",
   "execution_count": null,
   "metadata": {
    "ExecuteTime": {
     "end_time": "2021-07-21T19:26:24.962912Z",
     "start_time": "2021-07-21T19:26:24.771870Z"
    }
   },
   "outputs": [],
   "source": [
    "with open('data/pickled_dataframes/relationship.pickle', 'rb') as f:\n",
    "    df_rel=pickle.load(f)\n",
    "df_rel.head()"
   ]
  },
  {
   "cell_type": "code",
   "execution_count": null,
   "metadata": {
    "ExecuteTime": {
     "end_time": "2021-07-21T19:26:25.042931Z",
     "start_time": "2021-07-21T19:26:24.963914Z"
    }
   },
   "outputs": [],
   "source": [
    "len(df_rel)"
   ]
  },
  {
   "cell_type": "markdown",
   "metadata": {},
   "source": [
    "<br><br><span style=\"font-size:1.2em;\">The next step is scrubbing the dataframes</span><br><br>\n",
    "\n"
   ]
  },
  {
   "cell_type": "markdown",
   "metadata": {},
   "source": [
    "### Checking for duplicates, missing values and other abnormalities, <u>incident table<u>"
   ]
  },
  {
   "cell_type": "code",
   "execution_count": null,
   "metadata": {
    "ExecuteTime": {
     "end_time": "2021-07-21T19:26:25.122948Z",
     "start_time": "2021-07-21T19:26:25.043932Z"
    }
   },
   "outputs": [],
   "source": [
    "df_incident.info()"
   ]
  },
  {
   "cell_type": "markdown",
   "metadata": {},
   "source": [
    "#### Converting incident_date column to a datetime type"
   ]
  },
  {
   "cell_type": "code",
   "execution_count": null,
   "metadata": {
    "ExecuteTime": {
     "end_time": "2021-07-21T19:26:25.202967Z",
     "start_time": "2021-07-21T19:26:25.123949Z"
    }
   },
   "outputs": [],
   "source": [
    "df_incident.head()"
   ]
  },
  {
   "cell_type": "code",
   "execution_count": null,
   "metadata": {
    "ExecuteTime": {
     "end_time": "2021-07-21T19:26:25.762596Z",
     "start_time": "2021-07-21T19:26:25.203967Z"
    }
   },
   "outputs": [],
   "source": [
    "df_incident['timestamp']=pd.to_datetime(df_incident.incident_date)\n",
    "df_incident.info()"
   ]
  },
  {
   "cell_type": "code",
   "execution_count": null,
   "metadata": {
    "ExecuteTime": {
     "end_time": "2021-07-21T19:26:26.257707Z",
     "start_time": "2021-07-21T19:26:25.763596Z"
    }
   },
   "outputs": [],
   "source": [
    "df_incident.sort_values('timestamp', ascending=True)"
   ]
  },
  {
   "cell_type": "markdown",
   "metadata": {},
   "source": [
    "#### Checking for duplicates and dropping them"
   ]
  },
  {
   "cell_type": "code",
   "execution_count": null,
   "metadata": {
    "ExecuteTime": {
     "end_time": "2021-07-21T19:26:26.657300Z",
     "start_time": "2021-07-21T19:26:26.258707Z"
    }
   },
   "outputs": [],
   "source": [
    "df=df_incident[df_incident.duplicated(subset=['incident_id'],keep=False)].sort_values(by=['incident_id','timestamp'])\n",
    "df"
   ]
  },
  {
   "cell_type": "markdown",
   "metadata": {},
   "source": [
    "<br><br><span style=\"font-size:1.2em;\">**There are 548 duplicate incident_id, they seem to be from different dates, counties, zipcodes. Only the first duplicate will be left in the set. The presence of duplicate incident_ids is most probably a human error when the system got switched to another format in 2016.**</span><br><br>\n"
   ]
  },
  {
   "cell_type": "code",
   "execution_count": null,
   "metadata": {
    "ExecuteTime": {
     "end_time": "2021-07-21T19:26:27.231450Z",
     "start_time": "2021-07-21T19:26:26.660301Z"
    }
   },
   "outputs": [],
   "source": [
    "# Dropping rows with duplicate ids and 2016 timestamp (becase their indices are higher). Removing 'incident_date' column.\n",
    "\n",
    "df_incident=df_incident.drop_duplicates(subset=['incident_id'],keep='last')"
   ]
  },
  {
   "cell_type": "code",
   "execution_count": null,
   "metadata": {
    "ExecuteTime": {
     "end_time": "2021-07-21T19:26:27.439497Z",
     "start_time": "2021-07-21T19:26:27.233451Z"
    }
   },
   "outputs": [],
   "source": [
    "df_incident=df_incident.drop(columns=['incident_date'])\n",
    "df_incident.head()"
   ]
  },
  {
   "cell_type": "markdown",
   "metadata": {},
   "source": [
    "#### Checking for empty strings/null values and updating the rows with new values"
   ]
  },
  {
   "cell_type": "code",
   "execution_count": null,
   "metadata": {
    "ExecuteTime": {
     "end_time": "2021-07-21T19:26:27.935615Z",
     "start_time": "2021-07-21T19:26:27.440498Z"
    }
   },
   "outputs": [],
   "source": [
    "# Cheching for empty strings and null values\n",
    "empty_string_count(df_incident)"
   ]
  },
  {
   "cell_type": "markdown",
   "metadata": {},
   "source": [
    "<br><br><span style=\"font-size:1.2em;\"> There are no NaN values but ''(empty string) values are present in primary_county and icpsr_zipcode fields</span><br><br>\n",
    "\n"
   ]
  },
  {
   "cell_type": "code",
   "execution_count": null,
   "metadata": {
    "ExecuteTime": {
     "end_time": "2021-07-21T19:26:28.158169Z",
     "start_time": "2021-07-21T19:26:27.936616Z"
    }
   },
   "outputs": [],
   "source": [
    "df=df_incident.loc[df_incident['primary_county']=='']\n",
    "df.icpsr_zip.unique()"
   ]
  },
  {
   "cell_type": "markdown",
   "metadata": {},
   "source": [
    "<br><br><span style=\"font-size:1.2em;\"> Due to the fact that all primary_county missing values are associated with 80215 zip code, which belongs to Jefferson county. I am filling in these records primary county with 'Jefferson' string.</span><br><br>\n",
    "\n"
   ]
  },
  {
   "cell_type": "code",
   "execution_count": null,
   "metadata": {
    "ExecuteTime": {
     "end_time": "2021-07-21T19:26:28.445213Z",
     "start_time": "2021-07-21T19:26:28.159169Z"
    }
   },
   "outputs": [],
   "source": [
    "df_incident.loc[df_incident.primary_county == '', 'primary_county'] = 'Jefferson'"
   ]
  },
  {
   "cell_type": "code",
   "execution_count": null,
   "metadata": {
    "ExecuteTime": {
     "end_time": "2021-07-21T19:26:28.652260Z",
     "start_time": "2021-07-21T19:26:28.446214Z"
    }
   },
   "outputs": [],
   "source": [
    "df=df_incident.loc[df_incident['icpsr_zip']=='']\n",
    "df.agency_id.unique()"
   ]
  },
  {
   "cell_type": "markdown",
   "metadata": {},
   "source": [
    "<br><br><span style=\"font-size:1.2em;\">**The missing zip codes belong to the following agencies:**</span>\n",
    "1. agency_id=1982: Fort Lewis College, located in 81301 zip code\n",
    "2. agency_id=23131: South Metro Drug Task Force, located in 80160 zip code\n",
    "3. agency_id=25314: Gypsum Police Department, located in 81637 zip code\n",
    "\n",
    "<br><br><span style=\"font-size:1.2em;\">**The values above will be used to fill in icpsr_zip column values in place of '' values**</span><br><br>\n",
    "\n"
   ]
  },
  {
   "cell_type": "code",
   "execution_count": null,
   "metadata": {
    "ExecuteTime": {
     "end_time": "2021-07-21T19:26:29.418652Z",
     "start_time": "2021-07-21T19:26:28.653260Z"
    }
   },
   "outputs": [],
   "source": [
    "df_incident.loc[((df_incident.icpsr_zip == '')&(df_incident.agency_id==1982)), 'icpsr_zip'] = '81301'\n",
    "\n",
    "df_incident.loc[((df_incident.icpsr_zip == '')&(df_incident.agency_id==23131)), 'icpsr_zip'] = '80160'\n",
    "\n",
    "df_incident.loc[((df_incident.icpsr_zip == '')&(df_incident.agency_id==25314)), 'icpsr_zip'] = '81637'"
   ]
  },
  {
   "cell_type": "code",
   "execution_count": null,
   "metadata": {
    "ExecuteTime": {
     "end_time": "2021-07-21T19:26:29.930273Z",
     "start_time": "2021-07-21T19:26:29.419654Z"
    }
   },
   "outputs": [],
   "source": [
    "empty_string_count(df_incident)"
   ]
  },
  {
   "cell_type": "markdown",
   "metadata": {},
   "source": [
    "### Checking for duplicates, missing values and other abnormalities, <u>offense table<u>"
   ]
  },
  {
   "cell_type": "code",
   "execution_count": null,
   "metadata": {
    "ExecuteTime": {
     "end_time": "2021-07-21T19:26:30.009643Z",
     "start_time": "2021-07-21T19:26:29.931273Z"
    }
   },
   "outputs": [],
   "source": [
    "df_offense.info()"
   ]
  },
  {
   "cell_type": "code",
   "execution_count": null,
   "metadata": {
    "ExecuteTime": {
     "end_time": "2021-07-21T19:26:30.088661Z",
     "start_time": "2021-07-21T19:26:30.010644Z"
    }
   },
   "outputs": [],
   "source": [
    "df_offense.head()"
   ]
  },
  {
   "cell_type": "markdown",
   "metadata": {},
   "source": [
    "#### Checking for duplicates"
   ]
  },
  {
   "cell_type": "code",
   "execution_count": null,
   "metadata": {
    "ExecuteTime": {
     "end_time": "2021-07-21T19:26:30.534764Z",
     "start_time": "2021-07-21T19:26:30.089662Z"
    }
   },
   "outputs": [],
   "source": [
    "df=df_offense[df_offense.duplicated(subset=['offense_id'],keep=False)].sort_values(by='offense_id')\n",
    "df"
   ]
  },
  {
   "cell_type": "markdown",
   "metadata": {},
   "source": [
    "<br><br><span style=\"font-size:1.2em;\"> There are no duplicate offense_ids</span><br><br>\n",
    "\n"
   ]
  },
  {
   "cell_type": "markdown",
   "metadata": {},
   "source": [
    "#### Checking for empty strings/null values and updating the rows with new values"
   ]
  },
  {
   "cell_type": "code",
   "execution_count": null,
   "metadata": {
    "ExecuteTime": {
     "end_time": "2021-07-21T19:26:31.587968Z",
     "start_time": "2021-07-21T19:26:30.535765Z"
    }
   },
   "outputs": [],
   "source": [
    "\n",
    "empty_string_count(df_offense)"
   ]
  },
  {
   "cell_type": "markdown",
   "metadata": {},
   "source": [
    "<br><br><span style=\"font-size:1.2em;\"> There are no rows with empty strings or NaN values</span><br><br>\n",
    "\n"
   ]
  },
  {
   "cell_type": "markdown",
   "metadata": {},
   "source": [
    "###  Checking for duplicates, missing values and other abnormalities, <u>victim table<u>"
   ]
  },
  {
   "cell_type": "code",
   "execution_count": null,
   "metadata": {
    "ExecuteTime": {
     "end_time": "2021-07-21T19:26:31.667908Z",
     "start_time": "2021-07-21T19:26:31.588959Z"
    }
   },
   "outputs": [],
   "source": [
    "df_victim.info()"
   ]
  },
  {
   "cell_type": "code",
   "execution_count": null,
   "metadata": {
    "ExecuteTime": {
     "end_time": "2021-07-21T19:26:31.746936Z",
     "start_time": "2021-07-21T19:26:31.668919Z"
    }
   },
   "outputs": [],
   "source": [
    "df_victim.head()"
   ]
  },
  {
   "cell_type": "markdown",
   "metadata": {},
   "source": [
    "#### Checking for duplicates"
   ]
  },
  {
   "cell_type": "markdown",
   "metadata": {},
   "source": [
    "<br><br><span style=\"font-size:1em;\">**The same person can be a victim in several incidents therefore we are only checking for duplicates with victim_ids AND incident_ids**</span><br><br>\n",
    "\n"
   ]
  },
  {
   "cell_type": "code",
   "execution_count": null,
   "metadata": {
    "ExecuteTime": {
     "end_time": "2021-07-21T19:26:32.738160Z",
     "start_time": "2021-07-21T19:26:31.747937Z"
    }
   },
   "outputs": [],
   "source": [
    "df=df_victim[df_victim.duplicated(subset=['victim_id','incident_id'],keep=False)].sort_values(by='victim_id')\n",
    "df"
   ]
  },
  {
   "cell_type": "markdown",
   "metadata": {},
   "source": [
    "<br><br><span style=\"font-size:1.2em;\">No duplicates found</span><br><br>\n",
    "\n"
   ]
  },
  {
   "cell_type": "markdown",
   "metadata": {},
   "source": [
    "#### Checking for empty strings/null values"
   ]
  },
  {
   "cell_type": "code",
   "execution_count": null,
   "metadata": {
    "ExecuteTime": {
     "end_time": "2021-07-21T19:26:35.016515Z",
     "start_time": "2021-07-21T19:26:32.739159Z"
    }
   },
   "outputs": [],
   "source": [
    "empty_string_count(df_victim)"
   ]
  },
  {
   "cell_type": "markdown",
   "metadata": {},
   "source": [
    "#### Abnormal values, victim table"
   ]
  },
  {
   "cell_type": "markdown",
   "metadata": {},
   "source": [
    "##### race, NaN values"
   ]
  },
  {
   "cell_type": "code",
   "execution_count": null,
   "metadata": {
    "ExecuteTime": {
     "end_time": "2021-07-21T19:26:35.336588Z",
     "start_time": "2021-07-21T19:26:35.017516Z"
    }
   },
   "outputs": [],
   "source": [
    "df=df_victim[df_victim.race.isnull()]\n",
    "df.victim_type.unique()"
   ]
  },
  {
   "cell_type": "markdown",
   "metadata": {},
   "source": [
    "<br><br><span style=\"font-size:1.2em;\">The NAN values in the race column of victims with of types **'Society/Public', 'Business', 'Government', 'Other','Unknown', 'Financial Institution', and 'Religious Organization'** will be replaced with **'NA'** value. Due to the fact that these victim types are the only types of NULL race records, all race NULL values will replaced with 'NA'.</span><br><br>"
   ]
  },
  {
   "cell_type": "code",
   "execution_count": null,
   "metadata": {
    "ExecuteTime": {
     "end_time": "2021-07-21T19:26:35.575867Z",
     "start_time": "2021-07-21T19:26:35.337588Z"
    }
   },
   "outputs": [],
   "source": [
    "df_victim.loc[df_victim.race.isnull(), 'race'] = 'NA'"
   ]
  },
  {
   "cell_type": "markdown",
   "metadata": {},
   "source": [
    "##### ethnicity, NaN values"
   ]
  },
  {
   "cell_type": "code",
   "execution_count": null,
   "metadata": {
    "ExecuteTime": {
     "end_time": "2021-07-21T19:26:35.957938Z",
     "start_time": "2021-07-21T19:26:35.576869Z"
    }
   },
   "outputs": [],
   "source": [
    "df=df_victim[df_victim.ethnicity.isnull()]\n",
    "df.victim_type.unique()"
   ]
  },
  {
   "cell_type": "code",
   "execution_count": null,
   "metadata": {
    "ExecuteTime": {
     "end_time": "2021-07-21T19:26:36.788125Z",
     "start_time": "2021-07-21T19:26:35.958938Z"
    }
   },
   "outputs": [],
   "source": [
    "df=df_victim[((df_victim.ethnicity.isnull()) & (df.victim_type.isin(['Law Enforcement Officer', 'Individual'])))]\n",
    "print('Number of records with empty string in resident_status_code and Individual or \\\n",
    "Law Inforcement victim type: {}'.format(len(df)))\n",
    "df.head()"
   ]
  },
  {
   "cell_type": "markdown",
   "metadata": {},
   "source": [
    "<br><br><span style=\"font-size:1.2em;\">1. The NaN values in the ethnicity column of victims with of types **'Society/Public', 'Business', 'Government', 'Other','Unknown', Financial Institution', and 'Religious Organization'** will be replaced with **'NA'** value<br><br>\n",
    "2. The NaN values in the ethnicity column of victims with of types **'Law Enforcement Officer', 'Individual'** will be replaced with **'Unknown'** value</span><br><br>\n",
    "\n"
   ]
  },
  {
   "cell_type": "code",
   "execution_count": null,
   "metadata": {
    "ExecuteTime": {
     "end_time": "2021-07-21T19:26:37.379761Z",
     "start_time": "2021-07-21T19:26:36.789125Z"
    }
   },
   "outputs": [],
   "source": [
    "df_victim.loc[(df_victim.ethnicity.isnull()\n",
    "              &df_victim.victim_type.isin(['Society/Public','Business', 'Government','Other','Unknown',\n",
    "                                            'Financial Institution','Religious Organization'])), 'ethnicity'] = 'NA'\n",
    "\n",
    "df_victim.loc[(df_victim.ethnicity.isnull()\n",
    "              &df_victim.victim_type.isin(['Law Enforcement Officer', 'Individual'])), 'ethnicity'] = 'Unknown'"
   ]
  },
  {
   "cell_type": "markdown",
   "metadata": {},
   "source": [
    "##### age_group, NaN values"
   ]
  },
  {
   "cell_type": "code",
   "execution_count": null,
   "metadata": {
    "ExecuteTime": {
     "end_time": "2021-07-21T19:26:37.715339Z",
     "start_time": "2021-07-21T19:26:37.380762Z"
    }
   },
   "outputs": [],
   "source": [
    "df=df_victim[df_victim.age_group.isnull()]\n",
    "df.victim_type.unique()"
   ]
  },
  {
   "cell_type": "markdown",
   "metadata": {},
   "source": [
    "<br><br><span style=\"font-size:1.2em;\">The NAN values in the age_group column of victims with of types **'Society/Public', 'Business', 'Government', 'Other','Unknown', 'Financial Institution', and 'Religious Organization'** will be replaced with **'NA'** value. Due to the fact that these victim types are the only types of NULL age_group records, all age_group NULL will replaced with 'NA'.</span><br><br>\n",
    "\n"
   ]
  },
  {
   "cell_type": "code",
   "execution_count": null,
   "metadata": {
    "ExecuteTime": {
     "end_time": "2021-07-21T19:26:37.938896Z",
     "start_time": "2021-07-21T19:26:37.716340Z"
    }
   },
   "outputs": [],
   "source": [
    "df_victim.loc[df_victim.age_group.isnull(), 'age_group'] = 'NA'"
   ]
  },
  {
   "cell_type": "markdown",
   "metadata": {},
   "source": [
    "##### age_num, empty string values"
   ]
  },
  {
   "cell_type": "code",
   "execution_count": null,
   "metadata": {
    "ExecuteTime": {
     "end_time": "2021-07-21T19:26:38.386997Z",
     "start_time": "2021-07-21T19:26:37.939897Z"
    }
   },
   "outputs": [],
   "source": [
    "df=df_victim[df_victim.age_num=='']\n",
    "print('Number of records with empty string in age_num: {}'.format(len(df)))\n",
    "df.victim_type.unique()\n"
   ]
  },
  {
   "cell_type": "code",
   "execution_count": null,
   "metadata": {
    "ExecuteTime": {
     "end_time": "2021-07-21T19:26:39.233188Z",
     "start_time": "2021-07-21T19:26:38.387998Z"
    }
   },
   "outputs": [],
   "source": [
    "df=df_victim[((df_victim.age_num=='') & (df.victim_type.isin(['Law Enforcement Officer', 'Individual'])))]\n",
    "print('Number of records with empty string in age_num and Individual or Law Inforcement victim type: {}'.format(len(df)))"
   ]
  },
  {
   "cell_type": "markdown",
   "metadata": {},
   "source": [
    "<br><br><span style=\"font-size:1.2em;\">1. The empty string values in the age_num column of victims with types **'Society/Public', 'Business', 'Government', 'Other','Unknown', Financial Institution', and 'Religious Organization'** will be replaced with 999.<br>\n",
    "2. The empty string values in the age_num column of victims with types **'Law Enforcement Officer', 'Individual'** AND age_group equal 'Unknown' will be replaced with 999.<br>\n",
    "3. The empty string values in the age_num column of victims with of types **'Law Enforcement Officer', 'Individual'** AND age_group in ('7-364 Days Old','Under 24 Hours','1-6 Days Old') will be replaced with 0.<br>\n",
    "4. The empty string values in the age_num column of victims with of types **'Law Enforcement Officer', 'Individual'** AND age_group 'Over 98 Years Old' will be replaced with 99.</span>"
   ]
  },
  {
   "cell_type": "code",
   "execution_count": null,
   "metadata": {
    "ExecuteTime": {
     "end_time": "2021-07-21T19:26:40.907269Z",
     "start_time": "2021-07-21T19:26:39.234189Z"
    }
   },
   "outputs": [],
   "source": [
    "df_victim.loc[((df_victim.age_num=='')\n",
    "              &df_victim.victim_type.isin(['Society/Public','Business', 'Government','Other','Unknown',\n",
    "                                            'Financial Institution','Religious Organization'])), 'age_num'] = '999'\n",
    "df_victim.loc[((df_victim.age_num=='')\n",
    "              &(df_victim.victim_type.isin(['Law Enforcement Officer', 'Individual']))\n",
    "              &(df_victim.age_group.isin(['7-364 Days Old','Under 24 Hours','1-6 Days Old']))), 'age_num'] = '0'\n",
    "\n",
    "df_victim.loc[((df_victim.age_num=='')\n",
    "              &(df_victim.victim_type.isin(['Law Enforcement Officer', 'Individual']))\n",
    "              &(df_victim.age_group=='Over 98 Years Old')), 'age_num'] = '99'\n",
    "\n",
    "df_victim.loc[((df_victim.age_num=='')\n",
    "              &(df_victim.victim_type.isin(['Law Enforcement Officer', 'Individual']))\n",
    "              &(df_victim.age_group=='Unknown')), 'age_num'] = '999'"
   ]
  },
  {
   "cell_type": "markdown",
   "metadata": {},
   "source": [
    "##### sex_code, empty string values"
   ]
  },
  {
   "cell_type": "code",
   "execution_count": null,
   "metadata": {
    "ExecuteTime": {
     "end_time": "2021-07-21T19:26:41.307360Z",
     "start_time": "2021-07-21T19:26:40.908270Z"
    }
   },
   "outputs": [],
   "source": [
    "df=df_victim[df_victim.sex_code=='']\n",
    "print('Number of records with empty string in sex_code: {}'.format(len(df)))\n",
    "df.victim_type.unique()"
   ]
  },
  {
   "cell_type": "markdown",
   "metadata": {},
   "source": [
    "<br><br><span style=\"font-size:1.2em;\">The empty string values in the sex_code column of victims with of types **'Society/Public', 'Business', 'Government', 'Other','Unknown', Financial Institution', and 'Religious Organization'** will be replaced with **'NA'** value. Due to the fact that these victim types are the only types of sex_code empty string records, all sex_code empty string values will replaced with **'NA'**.</span><br>\n",
    "\n"
   ]
  },
  {
   "cell_type": "code",
   "execution_count": null,
   "metadata": {
    "ExecuteTime": {
     "end_time": "2021-07-21T19:26:41.627431Z",
     "start_time": "2021-07-21T19:26:41.308361Z"
    }
   },
   "outputs": [],
   "source": [
    "df_victim.loc[df_victim.sex_code=='', 'sex_code'] = 'NA'"
   ]
  },
  {
   "cell_type": "markdown",
   "metadata": {},
   "source": [
    "##### resident_status_code, empty string values"
   ]
  },
  {
   "cell_type": "code",
   "execution_count": null,
   "metadata": {
    "ExecuteTime": {
     "end_time": "2021-07-21T19:26:42.057503Z",
     "start_time": "2021-07-21T19:26:41.628434Z"
    }
   },
   "outputs": [],
   "source": [
    "df=df_victim[df_victim.resident_status_code=='']\n",
    "print('Number of records with empty string in resident_status_code: {}'.format(len(df)))\n",
    "df.victim_type.unique()"
   ]
  },
  {
   "cell_type": "code",
   "execution_count": null,
   "metadata": {
    "ExecuteTime": {
     "end_time": "2021-07-21T19:26:42.871687Z",
     "start_time": "2021-07-21T19:26:42.058504Z"
    }
   },
   "outputs": [],
   "source": [
    "df=df_victim[((df_victim.resident_status_code=='') & (df.victim_type.isin(['Law Enforcement Officer', 'Individual'])))]\n",
    "print('Number of records with empty string in resident_status_code and Individual or \\\n",
    "Law Inforcement victim type: {}'.format(len(df)))"
   ]
  },
  {
   "cell_type": "markdown",
   "metadata": {},
   "source": [
    "<br><br><span style=\"font-size:1.2em;\">1. The empty string values in the resident_status_code column of victims with of types **'Society/Public', 'Business', 'Government', 'Other','Unknown', Financial Institution', and 'Religious Organization'** will be replaced with **'NA'** value<br><br>\n",
    "2. The empty string values in the resident_status_code column of victims with of types **'Law Enforcement Officer', 'Individual'** will be replaced with **'Unknown'** value</span><br><br>\n",
    "\n"
   ]
  },
  {
   "cell_type": "code",
   "execution_count": null,
   "metadata": {
    "ExecuteTime": {
     "end_time": "2021-07-21T19:26:43.542517Z",
     "start_time": "2021-07-21T19:26:42.872687Z"
    }
   },
   "outputs": [],
   "source": [
    "df_victim.loc[((df_victim.resident_status_code=='')\n",
    "              &df_victim.victim_type.isin(['Society/Public','Business', 'Government','Other',\n",
    "                                           'Unknown','Financial Institution',\n",
    "                                           'Religious Organization'])), 'resident_status_code'] = 'NA'\n",
    "\n",
    "df_victim.loc[((df_victim.resident_status_code=='')\n",
    "              &(df_victim.victim_type.isin(['Law Enforcement Officer',\n",
    "                                            'Individual']))), 'resident_status_code'] = 'Unknown'"
   ]
  },
  {
   "cell_type": "markdown",
   "metadata": {},
   "source": [
    "##### Renaming the columns"
   ]
  },
  {
   "cell_type": "code",
   "execution_count": null,
   "metadata": {
    "ExecuteTime": {
     "end_time": "2021-07-21T19:26:43.718061Z",
     "start_time": "2021-07-21T19:26:43.543518Z"
    }
   },
   "outputs": [],
   "source": [
    "df_victim=df_victim.rename(columns={'age_num': 'victim_age', 'sex_code': 'victim_sex',\n",
    "                          'resident_status_code': 'victim_resident_status','race': 'victim_race',\n",
    "                         'age_group':'victim_age_group','ethnicity':'victim_ethnicity'})"
   ]
  },
  {
   "cell_type": "code",
   "execution_count": null,
   "metadata": {
    "ExecuteTime": {
     "end_time": "2021-07-21T19:26:45.458950Z",
     "start_time": "2021-07-21T19:26:43.719061Z"
    }
   },
   "outputs": [],
   "source": [
    "empty_string_count(df_victim)"
   ]
  },
  {
   "cell_type": "markdown",
   "metadata": {},
   "source": [
    "###  Checking for duplicates, missing values and other abnormalities, <u>offender table<u>"
   ]
  },
  {
   "cell_type": "code",
   "execution_count": null,
   "metadata": {
    "ExecuteTime": {
     "end_time": "2021-07-21T19:26:45.538473Z",
     "start_time": "2021-07-21T19:26:45.459951Z"
    }
   },
   "outputs": [],
   "source": [
    "df_offender.info()"
   ]
  },
  {
   "cell_type": "code",
   "execution_count": null,
   "metadata": {
    "ExecuteTime": {
     "end_time": "2021-07-21T19:26:45.618491Z",
     "start_time": "2021-07-21T19:26:45.539473Z"
    }
   },
   "outputs": [],
   "source": [
    "df_offender.head()"
   ]
  },
  {
   "cell_type": "markdown",
   "metadata": {},
   "source": [
    "#### Checking for duplicates"
   ]
  },
  {
   "cell_type": "markdown",
   "metadata": {},
   "source": [
    "**The same person can be an offender in several incidents therefore we are only checking for duplicates with offender_ids AND incident_ids**"
   ]
  },
  {
   "cell_type": "code",
   "execution_count": null,
   "metadata": {
    "ExecuteTime": {
     "end_time": "2021-07-21T19:26:46.482209Z",
     "start_time": "2021-07-21T19:26:45.619491Z"
    }
   },
   "outputs": [],
   "source": [
    "df=df_offender[df_offender.duplicated(subset=['offender_id', 'incident_id'],keep=False)].sort_values(by='offender_id')\n",
    "df"
   ]
  },
  {
   "cell_type": "markdown",
   "metadata": {},
   "source": [
    "<br><br><span style=\"font-size:1.2em;\"> No duplicates found</span><br><br>\n",
    "\n"
   ]
  },
  {
   "cell_type": "markdown",
   "metadata": {},
   "source": [
    "#### Checking for empty strings/null values"
   ]
  },
  {
   "cell_type": "code",
   "execution_count": null,
   "metadata": {
    "ExecuteTime": {
     "end_time": "2021-07-21T19:26:48.014077Z",
     "start_time": "2021-07-21T19:26:46.483209Z"
    }
   },
   "outputs": [],
   "source": [
    "empty_string_count(df_offender)"
   ]
  },
  {
   "cell_type": "markdown",
   "metadata": {},
   "source": [
    "#### Abnormal values, offender table"
   ]
  },
  {
   "cell_type": "markdown",
   "metadata": {},
   "source": [
    "##### ethnicity, NaN values"
   ]
  },
  {
   "cell_type": "code",
   "execution_count": null,
   "metadata": {
    "ExecuteTime": {
     "end_time": "2021-07-21T19:26:48.300287Z",
     "start_time": "2021-07-21T19:26:48.015077Z"
    }
   },
   "outputs": [],
   "source": [
    "print('Number of records with NaN values in ethnicity: {}'.format(df_offender['ethnicity'].isnull().sum()))\n",
    "df_offender['ethnicity'].value_counts()"
   ]
  },
  {
   "cell_type": "markdown",
   "metadata": {},
   "source": [
    "<br><br><span style=\"font-size:1.2em;\">The NaN value in the **ethnicity** column of offender table will be replaced with **'Unknown'** value</span><br>\n",
    "\n"
   ]
  },
  {
   "cell_type": "code",
   "execution_count": null,
   "metadata": {
    "ExecuteTime": {
     "end_time": "2021-07-21T19:26:48.508318Z",
     "start_time": "2021-07-21T19:26:48.301289Z"
    }
   },
   "outputs": [],
   "source": [
    "df_offender.loc[df_offender.ethnicity.isnull(), 'ethnicity'] = 'Unknown'"
   ]
  },
  {
   "cell_type": "markdown",
   "metadata": {},
   "source": [
    "##### race, NaN values"
   ]
  },
  {
   "cell_type": "code",
   "execution_count": null,
   "metadata": {
    "ExecuteTime": {
     "end_time": "2021-07-21T19:26:48.890885Z",
     "start_time": "2021-07-21T19:26:48.509320Z"
    }
   },
   "outputs": [],
   "source": [
    "print('Number of records with NaN values in race: {}'.format(df_offender['race'].isnull().sum()))\n",
    "df_offender['race'].value_counts()"
   ]
  },
  {
   "cell_type": "markdown",
   "metadata": {},
   "source": [
    "<br><br><span style=\"font-size:1.2em;\">The NaN value in the **race** column of offender table will be replaced with **Unknown** value</span><br><br>\n",
    "\n"
   ]
  },
  {
   "cell_type": "code",
   "execution_count": null,
   "metadata": {
    "ExecuteTime": {
     "end_time": "2021-07-21T19:26:49.113862Z",
     "start_time": "2021-07-21T19:26:48.891886Z"
    }
   },
   "outputs": [],
   "source": [
    "df_offender.loc[df_offender.race.isnull(), 'race'] = 'Unknown'"
   ]
  },
  {
   "cell_type": "markdown",
   "metadata": {},
   "source": [
    "##### age_group, NaN values"
   ]
  },
  {
   "cell_type": "code",
   "execution_count": null,
   "metadata": {
    "ExecuteTime": {
     "end_time": "2021-07-21T19:26:49.495365Z",
     "start_time": "2021-07-21T19:26:49.114862Z"
    }
   },
   "outputs": [],
   "source": [
    "print('Number of records with NaN values in age_group: {}'.format(df_offender['age_group'].isnull().sum()))\n",
    "df_offender['age_group'].value_counts()"
   ]
  },
  {
   "cell_type": "code",
   "execution_count": null,
   "metadata": {
    "ExecuteTime": {
     "end_time": "2021-07-21T19:26:49.701916Z",
     "start_time": "2021-07-21T19:26:49.496366Z"
    }
   },
   "outputs": [],
   "source": [
    "df_offender.loc[df_offender['age_group'].isnull()]"
   ]
  },
  {
   "cell_type": "markdown",
   "metadata": {},
   "source": [
    "<br><br><span style=\"font-size:1.2em;\">The NaN value in the **age_group** column of offender table will be replaced with **Unknown** value. Spot checking the records did not generate any insights. All those offenders are simply not known, never got identified.</span><br><br>\n",
    "\n"
   ]
  },
  {
   "cell_type": "code",
   "execution_count": null,
   "metadata": {
    "ExecuteTime": {
     "end_time": "2021-07-21T19:26:49.925218Z",
     "start_time": "2021-07-21T19:26:49.702917Z"
    }
   },
   "outputs": [],
   "source": [
    "df_offender.loc[df_offender.age_group.isnull(), 'age_group'] = 'Unknown'"
   ]
  },
  {
   "cell_type": "markdown",
   "metadata": {},
   "source": [
    "##### age_num, empty string values"
   ]
  },
  {
   "cell_type": "code",
   "execution_count": null,
   "metadata": {
    "ExecuteTime": {
     "end_time": "2021-07-21T19:26:50.405327Z",
     "start_time": "2021-07-21T19:26:49.926218Z"
    }
   },
   "outputs": [],
   "source": [
    "df=df_offender[df_offender.age_num=='']\n",
    "print('Number of records with empty string in age_num: {}'.format(len(df)))\n",
    "print('Number of records with NaN values in age_group: {}'.format(df['age_group'].isnull().sum()))\n",
    "df['age_group'].value_counts()"
   ]
  },
  {
   "cell_type": "markdown",
   "metadata": {},
   "source": [
    "<br><br><span style=\"font-size:1.2em;\">1. The empty string in the **age_num** of offender table with age_group values equal **'Over 98 Years Old'** will be replaced with **99** value<br>\n",
    "2. The empty string in the **age_num** of offender table with age_group values equal **'Unknown'** will be replaced with **999** value</span><br>"
   ]
  },
  {
   "cell_type": "code",
   "execution_count": null,
   "metadata": {
    "ExecuteTime": {
     "end_time": "2021-07-21T19:26:51.154728Z",
     "start_time": "2021-07-21T19:26:50.412328Z"
    }
   },
   "outputs": [],
   "source": [
    "df_offender.loc[((df_offender.age_num=='')&(df_offender.age_group=='Over 98 Years Old')), 'age_num'] = '99'\n",
    "\n",
    "df_offender.loc[((df_offender.age_num=='')\n",
    "                 &(df_offender.age_group=='Unknown')), 'age_num'] = '999'"
   ]
  },
  {
   "cell_type": "markdown",
   "metadata": {},
   "source": [
    "##### sex_code, empty string values"
   ]
  },
  {
   "cell_type": "code",
   "execution_count": null,
   "metadata": {
    "ExecuteTime": {
     "end_time": "2021-07-21T19:26:51.473802Z",
     "start_time": "2021-07-21T19:26:51.156730Z"
    }
   },
   "outputs": [],
   "source": [
    "df_offender['sex_code'].value_counts()"
   ]
  },
  {
   "cell_type": "markdown",
   "metadata": {},
   "source": [
    "<br><br><span style=\"font-size:1.2em;\">The empty string value in the **sex_code** column of offender table will be replaced with **'Unknown'** value</span><br>"
   ]
  },
  {
   "cell_type": "code",
   "execution_count": null,
   "metadata": {
    "ExecuteTime": {
     "end_time": "2021-07-21T19:26:51.776852Z",
     "start_time": "2021-07-21T19:26:51.474802Z"
    }
   },
   "outputs": [],
   "source": [
    "df_offender.loc[df_offender.sex_code=='', 'sex_code'] = 'Unknown'"
   ]
  },
  {
   "cell_type": "markdown",
   "metadata": {},
   "source": [
    "##### Renaming the columns"
   ]
  },
  {
   "cell_type": "code",
   "execution_count": null,
   "metadata": {
    "ExecuteTime": {
     "end_time": "2021-07-21T19:26:51.920807Z",
     "start_time": "2021-07-21T19:26:51.777853Z"
    }
   },
   "outputs": [],
   "source": [
    "df_offender=df_offender.rename(columns={'age_num': 'offender_age', 'sex_code': 'offender_sex',\n",
    "                                        'race': 'offender_race', 'age_group':'offender_age_group',\n",
    "                                        'ethnicity':'offender_ethnicity'})"
   ]
  },
  {
   "cell_type": "code",
   "execution_count": null,
   "metadata": {
    "ExecuteTime": {
     "end_time": "2021-07-21T19:26:53.180659Z",
     "start_time": "2021-07-21T19:26:51.921808Z"
    }
   },
   "outputs": [],
   "source": [
    "empty_string_count(df_offender)"
   ]
  },
  {
   "cell_type": "markdown",
   "metadata": {},
   "source": [
    "### Checking for duplicates, missing values and other abnormalities, <u>weapon table<u>"
   ]
  },
  {
   "cell_type": "code",
   "execution_count": null,
   "metadata": {
    "ExecuteTime": {
     "end_time": "2021-07-21T19:26:53.275187Z",
     "start_time": "2021-07-21T19:26:53.181660Z"
    }
   },
   "outputs": [],
   "source": [
    "df_weapon.info()"
   ]
  },
  {
   "cell_type": "code",
   "execution_count": null,
   "metadata": {
    "ExecuteTime": {
     "end_time": "2021-07-21T19:26:53.402504Z",
     "start_time": "2021-07-21T19:26:53.276188Z"
    }
   },
   "outputs": [],
   "source": [
    "empty_string_count(df_weapon)"
   ]
  },
  {
   "cell_type": "code",
   "execution_count": null,
   "metadata": {
    "ExecuteTime": {
     "end_time": "2021-07-21T19:26:53.562540Z",
     "start_time": "2021-07-21T19:26:53.403506Z"
    }
   },
   "outputs": [],
   "source": [
    "# Checking for duplicates in offense_id column\n",
    "df=df_weapon[df_weapon.duplicated(subset=['offense_id'],keep=False)].sort_values(by='offense_id')\n",
    "df"
   ]
  },
  {
   "cell_type": "markdown",
   "metadata": {},
   "source": [
    "<br><br><span style=\"font-size:1.2em;\">There can be several types of weapons used in one offense. For the sake of simplicity I will drop duplicates from the table.</span><br><br>"
   ]
  },
  {
   "cell_type": "code",
   "execution_count": null,
   "metadata": {
    "ExecuteTime": {
     "end_time": "2021-07-21T19:26:53.690501Z",
     "start_time": "2021-07-21T19:26:53.563541Z"
    }
   },
   "outputs": [],
   "source": [
    "df_weapon=df_weapon.drop_duplicates(subset=['offense_id'],keep='last')"
   ]
  },
  {
   "cell_type": "markdown",
   "metadata": {},
   "source": [
    "### Checking for duplicates, missing values and other abnormalities, <u>bias table<u>"
   ]
  },
  {
   "cell_type": "code",
   "execution_count": null,
   "metadata": {
    "ExecuteTime": {
     "end_time": "2021-07-21T19:26:53.768795Z",
     "start_time": "2021-07-21T19:26:53.691502Z"
    }
   },
   "outputs": [],
   "source": [
    "df_bias.info()"
   ]
  },
  {
   "cell_type": "code",
   "execution_count": null,
   "metadata": {
    "ExecuteTime": {
     "end_time": "2021-07-21T19:26:54.086867Z",
     "start_time": "2021-07-21T19:26:53.769796Z"
    }
   },
   "outputs": [],
   "source": [
    "empty_string_count(df_bias)"
   ]
  },
  {
   "cell_type": "code",
   "execution_count": null,
   "metadata": {
    "ExecuteTime": {
     "end_time": "2021-07-21T19:26:54.517468Z",
     "start_time": "2021-07-21T19:26:54.087868Z"
    }
   },
   "outputs": [],
   "source": [
    "# Checking for duplicates in offense_id column\n",
    "df=df_bias[df_bias.duplicated(subset=['offense_id'],keep=False)].sort_values(by='offense_id')\n",
    "df"
   ]
  },
  {
   "cell_type": "markdown",
   "metadata": {},
   "source": [
    "<br><br><span style=\"font-size:1.2em;\"> There can be several types of biases in one offense. The number of duplicates is low. For the sake of simplicity I will drop duplicates from the table.</span><br><br>\n",
    "\n"
   ]
  },
  {
   "cell_type": "code",
   "execution_count": null,
   "metadata": {
    "ExecuteTime": {
     "end_time": "2021-07-21T19:26:54.995092Z",
     "start_time": "2021-07-21T19:26:54.518468Z"
    }
   },
   "outputs": [],
   "source": [
    "df_bias=df_bias.drop_duplicates(subset=['offense_id'],keep='last')"
   ]
  },
  {
   "cell_type": "markdown",
   "metadata": {},
   "source": [
    "### Checking for duplicates, missing values and other abnormalities, <u>relationship table<u>"
   ]
  },
  {
   "cell_type": "code",
   "execution_count": null,
   "metadata": {
    "ExecuteTime": {
     "end_time": "2021-07-21T19:26:55.106622Z",
     "start_time": "2021-07-21T19:26:54.996093Z"
    }
   },
   "outputs": [],
   "source": [
    "df_rel.info()"
   ]
  },
  {
   "cell_type": "code",
   "execution_count": null,
   "metadata": {
    "ExecuteTime": {
     "end_time": "2021-07-21T19:26:55.249943Z",
     "start_time": "2021-07-21T19:26:55.107622Z"
    }
   },
   "outputs": [],
   "source": [
    "empty_string_count(df_rel)"
   ]
  },
  {
   "cell_type": "code",
   "execution_count": null,
   "metadata": {
    "ExecuteTime": {
     "end_time": "2021-07-21T19:26:55.408474Z",
     "start_time": "2021-07-21T19:26:55.250944Z"
    }
   },
   "outputs": [],
   "source": [
    "df_rel['relationship_name'].value_counts()"
   ]
  },
  {
   "cell_type": "code",
   "execution_count": null,
   "metadata": {
    "ExecuteTime": {
     "end_time": "2021-07-21T19:26:55.535503Z",
     "start_time": "2021-07-21T19:26:55.409475Z"
    }
   },
   "outputs": [],
   "source": [
    "# Replacing NULL values in relationship_name to 'Relationship Unknown'\n",
    "df_rel.loc[df_rel.relationship_name.isnull(), 'relationship_name'] = 'Relationship Unknown'"
   ]
  },
  {
   "cell_type": "code",
   "execution_count": null,
   "metadata": {
    "ExecuteTime": {
     "end_time": "2021-07-21T19:26:55.727547Z",
     "start_time": "2021-07-21T19:26:55.536504Z"
    }
   },
   "outputs": [],
   "source": [
    "# Checking for duplicates in offense_id column\n",
    "df=df_rel[df_rel.duplicated(subset=['victim_id','offender_id'],keep=False)].sort_values(by='victim_id')\n",
    "df"
   ]
  },
  {
   "cell_type": "markdown",
   "metadata": {},
   "source": [
    "## Part III, combining the DataFrames"
   ]
  },
  {
   "cell_type": "markdown",
   "metadata": {},
   "source": [
    "### DFs Info"
   ]
  },
  {
   "cell_type": "code",
   "execution_count": null,
   "metadata": {
    "ExecuteTime": {
     "end_time": "2021-07-21T19:26:55.807567Z",
     "start_time": "2021-07-21T19:26:55.728546Z"
    }
   },
   "outputs": [],
   "source": [
    "df_incident.info()"
   ]
  },
  {
   "cell_type": "code",
   "execution_count": null,
   "metadata": {
    "ExecuteTime": {
     "end_time": "2021-07-21T19:26:57.373067Z",
     "start_time": "2021-07-21T19:26:55.808568Z"
    }
   },
   "outputs": [],
   "source": [
    "with open('data/pickled_dataframes/incident_clean.pickle', 'wb') as f:\n",
    "    pickle.dump(df_incident, f)"
   ]
  },
  {
   "cell_type": "code",
   "execution_count": null,
   "metadata": {
    "ExecuteTime": {
     "end_time": "2021-07-21T19:26:57.453036Z",
     "start_time": "2021-07-21T19:26:57.374068Z"
    }
   },
   "outputs": [],
   "source": [
    "df_offense.info()"
   ]
  },
  {
   "cell_type": "code",
   "execution_count": null,
   "metadata": {
    "ExecuteTime": {
     "end_time": "2021-07-21T19:27:01.221565Z",
     "start_time": "2021-07-21T19:26:57.454036Z"
    }
   },
   "outputs": [],
   "source": [
    "with open('data/pickled_dataframes/offense_clean.pickle', 'wb') as f:\n",
    "    pickle.dump(df_offense, f)"
   ]
  },
  {
   "cell_type": "code",
   "execution_count": null,
   "metadata": {
    "ExecuteTime": {
     "end_time": "2021-07-21T19:27:01.301583Z",
     "start_time": "2021-07-21T19:27:01.222566Z"
    }
   },
   "outputs": [],
   "source": [
    "df_offender.info()"
   ]
  },
  {
   "cell_type": "code",
   "execution_count": null,
   "metadata": {
    "ExecuteTime": {
     "end_time": "2021-07-21T19:27:03.599385Z",
     "start_time": "2021-07-21T19:27:01.303583Z"
    }
   },
   "outputs": [],
   "source": [
    "with open('data/pickled_dataframes/offender_clean.pickle', 'wb') as f:\n",
    "    pickle.dump(df_offender, f)"
   ]
  },
  {
   "cell_type": "code",
   "execution_count": null,
   "metadata": {
    "ExecuteTime": {
     "end_time": "2021-07-21T19:27:03.678907Z",
     "start_time": "2021-07-21T19:27:03.600386Z"
    }
   },
   "outputs": [],
   "source": [
    "df_victim.info()"
   ]
  },
  {
   "cell_type": "code",
   "execution_count": null,
   "metadata": {
    "ExecuteTime": {
     "end_time": "2021-07-21T19:27:07.689572Z",
     "start_time": "2021-07-21T19:27:03.679907Z"
    }
   },
   "outputs": [],
   "source": [
    "with open('data/pickled_dataframes/victim_clean.pickle', 'wb') as f:\n",
    "    pickle.dump(df_victim, f)"
   ]
  },
  {
   "cell_type": "code",
   "execution_count": null,
   "metadata": {
    "ExecuteTime": {
     "end_time": "2021-07-21T19:27:07.784105Z",
     "start_time": "2021-07-21T19:27:07.690574Z"
    }
   },
   "outputs": [],
   "source": [
    "df_weapon.info()"
   ]
  },
  {
   "cell_type": "code",
   "execution_count": null,
   "metadata": {
    "ExecuteTime": {
     "end_time": "2021-07-21T19:27:07.943661Z",
     "start_time": "2021-07-21T19:27:07.785105Z"
    }
   },
   "outputs": [],
   "source": [
    "with open('data/pickled_dataframes/weapon_clean.pickle', 'wb') as f:\n",
    "    pickle.dump(df_weapon, f)"
   ]
  },
  {
   "cell_type": "code",
   "execution_count": null,
   "metadata": {
    "ExecuteTime": {
     "end_time": "2021-07-21T19:27:08.071174Z",
     "start_time": "2021-07-21T19:27:07.944662Z"
    }
   },
   "outputs": [],
   "source": [
    "df_weapon.weapon.value_counts()"
   ]
  },
  {
   "cell_type": "code",
   "execution_count": null,
   "metadata": {
    "ExecuteTime": {
     "end_time": "2021-07-21T19:27:08.150364Z",
     "start_time": "2021-07-21T19:27:08.072175Z"
    }
   },
   "outputs": [],
   "source": [
    "df_bias.info()"
   ]
  },
  {
   "cell_type": "code",
   "execution_count": null,
   "metadata": {
    "ExecuteTime": {
     "end_time": "2021-07-21T19:27:08.979376Z",
     "start_time": "2021-07-21T19:27:08.151365Z"
    }
   },
   "outputs": [],
   "source": [
    "with open('data/pickled_dataframes/bias_clean.pickle', 'wb') as f:\n",
    "    pickle.dump(df_bias, f)"
   ]
  },
  {
   "cell_type": "code",
   "execution_count": null,
   "metadata": {
    "ExecuteTime": {
     "end_time": "2021-07-21T19:27:09.074902Z",
     "start_time": "2021-07-21T19:27:08.980377Z"
    }
   },
   "outputs": [],
   "source": [
    "df_rel.info()"
   ]
  },
  {
   "cell_type": "code",
   "execution_count": null,
   "metadata": {
    "ExecuteTime": {
     "end_time": "2021-07-21T19:27:09.314956Z",
     "start_time": "2021-07-21T19:27:09.075903Z"
    }
   },
   "outputs": [],
   "source": [
    "with open('data/pickled_dataframes/rel_clean.pickle', 'wb') as f:\n",
    "    pickle.dump(df_rel, f)"
   ]
  },
  {
   "cell_type": "markdown",
   "metadata": {},
   "source": [
    "<br><br><span style=\"font-size:1.2em;\"><b>1. Offense, incident, bias and weapon DataFrames will be combined into one for the Times-series analysis<br>\n",
    "2. Offender, victim and relationship DataFrames will be set aside for the dashboard.</b></span><br><br>"
   ]
  },
  {
   "cell_type": "markdown",
   "metadata": {},
   "source": [
    "### Combining Incident, Offense, Bias and Weapon DataFrames"
   ]
  },
  {
   "cell_type": "code",
   "execution_count": null,
   "metadata": {
    "ExecuteTime": {
     "end_time": "2021-07-21T19:27:10.737790Z",
     "start_time": "2021-07-21T19:27:09.315957Z"
    }
   },
   "outputs": [],
   "source": [
    "df_full=df_offense.merge(df_incident, how='left', on='incident_id')\n",
    "df_full.info()"
   ]
  },
  {
   "cell_type": "code",
   "execution_count": null,
   "metadata": {
    "ExecuteTime": {
     "end_time": "2021-07-21T19:27:12.332669Z",
     "start_time": "2021-07-21T19:27:10.738780Z"
    }
   },
   "outputs": [],
   "source": [
    "df_full=df_full.merge(df_bias, how='left', on='offense_id')\n",
    "df_full.info()"
   ]
  },
  {
   "cell_type": "code",
   "execution_count": null,
   "metadata": {
    "ExecuteTime": {
     "end_time": "2021-07-21T19:27:13.687502Z",
     "start_time": "2021-07-21T19:27:12.333670Z"
    }
   },
   "outputs": [],
   "source": [
    "df_full=df_full.merge(df_weapon, how='left', on='offense_id')\n",
    "df_full.info()"
   ]
  },
  {
   "cell_type": "code",
   "execution_count": null,
   "metadata": {
    "ExecuteTime": {
     "end_time": "2021-07-21T19:27:16.783327Z",
     "start_time": "2021-07-21T19:27:13.688503Z"
    }
   },
   "outputs": [],
   "source": [
    "empty_string_count(df_full)"
   ]
  },
  {
   "cell_type": "code",
   "execution_count": null,
   "metadata": {
    "ExecuteTime": {
     "end_time": "2021-07-21T19:27:16.974918Z",
     "start_time": "2021-07-21T19:27:16.784274Z"
    }
   },
   "outputs": [],
   "source": [
    "df_full.weapon.unique()"
   ]
  },
  {
   "cell_type": "code",
   "execution_count": null,
   "metadata": {
    "ExecuteTime": {
     "end_time": "2021-07-21T19:27:17.676086Z",
     "start_time": "2021-07-21T19:27:16.975920Z"
    }
   },
   "outputs": [],
   "source": [
    "df=df_full[df_full.weapon.isnull()]\n",
    "df.offense_category_name.unique()"
   ]
  },
  {
   "cell_type": "code",
   "execution_count": null,
   "metadata": {
    "ExecuteTime": {
     "end_time": "2021-07-21T19:27:17.930771Z",
     "start_time": "2021-07-21T19:27:17.677078Z"
    }
   },
   "outputs": [],
   "source": [
    "# Replacing NaN values in weapon column by 'NA'. Offenses associated with weapon NaN values seem\n",
    "# to be offenses with no weapon necessary\n",
    "\n",
    "df_full.loc[df_full.weapon.isnull(), 'weapon'] = 'NA'"
   ]
  },
  {
   "cell_type": "code",
   "execution_count": null,
   "metadata": {
    "ExecuteTime": {
     "end_time": "2021-07-21T19:27:18.009787Z",
     "start_time": "2021-07-21T19:27:17.931773Z"
    }
   },
   "outputs": [],
   "source": [
    "df_full.info()"
   ]
  },
  {
   "cell_type": "code",
   "execution_count": null,
   "metadata": {
    "ExecuteTime": {
     "end_time": "2021-07-21T19:27:23.631229Z",
     "start_time": "2021-07-21T19:27:18.010788Z"
    }
   },
   "outputs": [],
   "source": [
    "with open('data/pickled_dataframes/df_full_clean.pickle', 'wb') as f:\n",
    "    pickle.dump(df_full, f)"
   ]
  },
  {
   "cell_type": "markdown",
   "metadata": {
    "ExecuteTime": {
     "end_time": "2021-07-08T14:05:21.833845Z",
     "start_time": "2021-07-08T14:05:21.611800Z"
    }
   },
   "source": [
    "# EXPLORE"
   ]
  },
  {
   "cell_type": "markdown",
   "metadata": {},
   "source": [
    "## EDA"
   ]
  },
  {
   "cell_type": "markdown",
   "metadata": {},
   "source": [
    "### General information about the data"
   ]
  },
  {
   "cell_type": "code",
   "execution_count": null,
   "metadata": {
    "ExecuteTime": {
     "end_time": "2021-07-21T19:27:23.711262Z",
     "start_time": "2021-07-21T19:27:23.632221Z"
    }
   },
   "outputs": [],
   "source": [
    "print('There are {} records of offenses in Colorado between 2009 and 2019'.format(len(df_full)))"
   ]
  },
  {
   "cell_type": "code",
   "execution_count": null,
   "metadata": {
    "ExecuteTime": {
     "end_time": "2021-07-21T19:27:25.660166Z",
     "start_time": "2021-07-21T19:27:23.712262Z"
    }
   },
   "outputs": [],
   "source": [
    "df_full.nunique()"
   ]
  },
  {
   "cell_type": "markdown",
   "metadata": {},
   "source": [
    "#### Plotting crime rate in different offense categories"
   ]
  },
  {
   "cell_type": "code",
   "execution_count": null,
   "metadata": {
    "ExecuteTime": {
     "end_time": "2021-07-21T19:27:28.374230Z",
     "start_time": "2021-07-21T19:27:25.661166Z"
    }
   },
   "outputs": [],
   "source": [
    "freq='W'\n",
    "\n",
    "df_x = df_full.groupby(['offense_category_name', pd.Grouper(key='timestamp',\n",
    "                                                         freq=freq)])['offense_category_name'].agg(['count']).reset_index()\n",
    "df_x = df_x.sort_values(by=['timestamp', 'count'])\n",
    "df_x"
   ]
  },
  {
   "cell_type": "code",
   "execution_count": null,
   "metadata": {
    "ExecuteTime": {
     "end_time": "2021-07-21T19:27:28.453755Z",
     "start_time": "2021-07-21T19:27:28.375233Z"
    }
   },
   "outputs": [],
   "source": [
    "colors_dark24=px.colors.qualitative.Dark24\n",
    "colors_dark24=colors_dark24[:-1]\n",
    "crime_categories=['Assault Offenses', 'Larceny/Theft Offenses', \n",
    " 'Drug/Narcotic Offenses', 'Fraud Offenses',\n",
    " 'Destruction/Damage/Vandalism of Property', \n",
    " 'Burglary/Breaking & Entering', 'Sex Offenses', \n",
    " 'Arson', 'Motor Vehicle Theft', 'Kidnapping/Abduction',\n",
    " 'Weapon Law Violations', 'Robbery',\n",
    " 'Pornography/Obscene Material', 'Counterfeiting/Forgery', \n",
    " 'Bribery', 'Stolen Property Offenses', 'Prostitution Offenses',\n",
    " 'Homicide Offenses', 'Extortion/Blackmail',\n",
    " 'Embezzlement', 'Gambling Offenses',\n",
    " 'Human Trafficking', 'Animal Cruelty']\n",
    "\n",
    "color_discrete_map_=dict(zip(crime_categories,colors_dark24))"
   ]
  },
  {
   "cell_type": "code",
   "execution_count": null,
   "metadata": {
    "ExecuteTime": {
     "end_time": "2021-07-21T19:27:29.748551Z",
     "start_time": "2021-07-21T19:27:28.454756Z"
    },
    "scrolled": false
   },
   "outputs": [],
   "source": [
    "fig1 = px.line(df_x, x='timestamp', y='count', color='offense_category_name', \n",
    "              color_discrete_map=color_discrete_map_, \n",
    "labels={ \"timestamp\": \"Date\",  \"count\": \"Number of Offenses\", \"offense_category_name\": \"Offense Category\"},\n",
    "      title='Number of Offenses in Different Crime Categories',      \n",
    "template=\"plotly_dark\"\n",
    "             )\n",
    "\n",
    "fig1.update_layout(width=1000,\n",
    "                  height=800)\n",
    "\n",
    "fig1.update_layout(\n",
    "    xaxis=dict(\n",
    "#        rangeselector=dict(\n",
    "#             buttons=list([\n",
    "#                 dict(count=1,\n",
    "#                      step=\"month\",\n",
    "#                      stepmode='backward'),\n",
    "#             ])),\n",
    "        rangeslider=dict(\n",
    "            visible=True\n",
    "        ),\n",
    "    )\n",
    ")\n",
    "fig1.show()"
   ]
  },
  {
   "cell_type": "code",
   "execution_count": null,
   "metadata": {
    "ExecuteTime": {
     "end_time": "2021-07-21T19:27:29.907571Z",
     "start_time": "2021-07-21T19:27:29.749551Z"
    }
   },
   "outputs": [],
   "source": [
    "with open('images/pickled_figs/crime_cat.pickle', 'wb') as f:\n",
    "    pickle.dump(fig1, f)"
   ]
  },
  {
   "cell_type": "markdown",
   "metadata": {},
   "source": [
    "#### Number of Offenses in Weapon Categories"
   ]
  },
  {
   "cell_type": "code",
   "execution_count": null,
   "metadata": {
    "ExecuteTime": {
     "end_time": "2021-07-21T19:27:31.327402Z",
     "start_time": "2021-07-21T19:27:29.908572Z"
    }
   },
   "outputs": [],
   "source": [
    "df_weapon = df_full.groupby(['weapon']).count().sort_values(['offense_id'], ascending=False).reset_index()\n",
    "df_weapon = df_weapon[df_weapon ['weapon'] != 'NA']\n",
    "\n",
    "\n",
    "fig1 = px.bar(df_weapon, x='weapon',  y='offense_id', color='weapon',\n",
    "            labels={\"weapon\": \"Weapon\",  \"offense_id\": \"Number of Offenses\"},\n",
    "            title='Weapons Used in Offenses',\n",
    "template=\"plotly_dark\"\n",
    "             )\n",
    "\n",
    "fig1.update_layout(width=1000,\n",
    "                  height=700,\n",
    "                  bargap=0.05)\n",
    "fig1.show()"
   ]
  },
  {
   "cell_type": "code",
   "execution_count": null,
   "metadata": {
    "ExecuteTime": {
     "end_time": "2021-07-21T19:27:31.422573Z",
     "start_time": "2021-07-21T19:27:31.328402Z"
    }
   },
   "outputs": [],
   "source": [
    "with open('images/pickled_figs/weapons.pickle', 'wb') as f:\n",
    "    pickle.dump(fig1, f)"
   ]
  },
  {
   "cell_type": "markdown",
   "metadata": {},
   "source": [
    "#### Crime rate per zip codes"
   ]
  },
  {
   "cell_type": "code",
   "execution_count": null,
   "metadata": {
    "ExecuteTime": {
     "end_time": "2021-07-21T19:27:32.876909Z",
     "start_time": "2021-07-21T19:27:31.423573Z"
    }
   },
   "outputs": [],
   "source": [
    "df_zip = df_full.groupby(['icpsr_zip']).count().sort_values(['offense_id'], ascending=False).reset_index()\n",
    "\n",
    "\n",
    "fig1 = px.bar(df_zip[:15], x='icpsr_zip',  y='offense_id', color='icpsr_zip',\n",
    "            labels={\"icpsr_zip\": \"Zip Codes\",  \"offense_id\": \"Number of Offenses\"},\n",
    "             title='Zip Codes with the Highest Offense Numbers',\n",
    "template=\"plotly_dark\"\n",
    "             )\n",
    "\n",
    "fig1.update_layout(width=1000,\n",
    "                  height=700,\n",
    "                  bargap=0.05)\n",
    "fig1.show()"
   ]
  },
  {
   "cell_type": "code",
   "execution_count": null,
   "metadata": {
    "ExecuteTime": {
     "end_time": "2021-07-21T19:27:32.971921Z",
     "start_time": "2021-07-21T19:27:32.877909Z"
    }
   },
   "outputs": [],
   "source": [
    "with open('images/pickled_figs/zips.pickle', 'wb') as f:\n",
    "    pickle.dump(fig1, f)"
   ]
  },
  {
   "cell_type": "markdown",
   "metadata": {},
   "source": [
    "#### Crime rate per county"
   ]
  },
  {
   "cell_type": "code",
   "execution_count": null,
   "metadata": {
    "ExecuteTime": {
     "end_time": "2021-07-21T19:27:34.443253Z",
     "start_time": "2021-07-21T19:27:32.972912Z"
    }
   },
   "outputs": [],
   "source": [
    "df_county = df_full.groupby(['primary_county']).count().sort_values(['offense_id'], ascending=False).reset_index()\n",
    "\n",
    "\n",
    "fig1 = px.bar(df_county[:15], y='primary_county',  x='offense_id', color='primary_county',  orientation='h',\n",
    "            labels={\"primary_county\": \"County\",  \"offense_id\": \"Number of Offenses\"},\n",
    "             title='Counties with the Highest Offense Numbers',\n",
    "template=\"plotly_dark\"\n",
    "             )\n",
    "\n",
    "fig1.update_layout(width=1000,\n",
    "                  height=700,\n",
    "                  bargap=0.05)\n",
    "fig1.show()"
   ]
  },
  {
   "cell_type": "code",
   "execution_count": null,
   "metadata": {
    "ExecuteTime": {
     "end_time": "2021-07-21T19:27:34.539273Z",
     "start_time": "2021-07-21T19:27:34.444243Z"
    }
   },
   "outputs": [],
   "source": [
    "with open('images/pickled_figs/counties.pickle', 'wb') as f:\n",
    "    pickle.dump(fig1, f)"
   ]
  },
  {
   "cell_type": "markdown",
   "metadata": {},
   "source": [
    "#### Crime rate over day hours"
   ]
  },
  {
   "cell_type": "code",
   "execution_count": null,
   "metadata": {
    "ExecuteTime": {
     "end_time": "2021-07-21T19:27:35.913631Z",
     "start_time": "2021-07-21T19:27:34.540273Z"
    }
   },
   "outputs": [],
   "source": [
    "df_hour = df_full.groupby(['incident_hour']).count().sort_values(['offense_id'], ascending=False).reset_index()\n",
    "df_hour = df_hour[df_hour ['incident_hour'] != 25]\n",
    "\n",
    "fig1 = px.bar(df_hour, x='incident_hour',  y='offense_id',\n",
    "            labels={\"incident_hour\": \"Hour (24hr format)\",  \"offense_id\": \"Number of Offenses\"},\n",
    "              title='Most Dangerous Hours',\n",
    "template=\"plotly_dark\"\n",
    "             )\n",
    "\n",
    "fig1.update_layout(width=1000,\n",
    "                  height=700,\n",
    "                  bargap=0.05)\n",
    "fig1.show()"
   ]
  },
  {
   "cell_type": "code",
   "execution_count": null,
   "metadata": {
    "ExecuteTime": {
     "end_time": "2021-07-21T19:27:36.009650Z",
     "start_time": "2021-07-21T19:27:35.914622Z"
    }
   },
   "outputs": [],
   "source": [
    "with open('images/pickled_figs/hours.pickle', 'wb') as f:\n",
    "    pickle.dump(fig1, f)"
   ]
  },
  {
   "cell_type": "markdown",
   "metadata": {},
   "source": [
    "#### Geography of crime"
   ]
  },
  {
   "cell_type": "code",
   "execution_count": null,
   "metadata": {
    "ExecuteTime": {
     "end_time": "2021-07-21T19:27:36.104672Z",
     "start_time": "2021-07-21T19:27:36.010642Z"
    },
    "scrolled": false
   },
   "outputs": [],
   "source": [
    "# fig2=map_choropleth_location(df_zip, 'icpsr_zip', 'Zip code', 'offense_id', 'Number of Offenses',\n",
    "#                             CO_zip_json, 'properties.ZCTA5CE10', 'Number of Offenses per Zip Code')"
   ]
  },
  {
   "cell_type": "code",
   "execution_count": null,
   "metadata": {
    "ExecuteTime": {
     "end_time": "2021-07-21T19:27:36.200034Z",
     "start_time": "2021-07-21T19:27:36.105663Z"
    }
   },
   "outputs": [],
   "source": [
    "# with open('images/pickled_figs/zip_map.pickle', 'wb') as f:\n",
    "#     pickle.dump(fig2, f)"
   ]
  },
  {
   "cell_type": "code",
   "execution_count": null,
   "metadata": {
    "ExecuteTime": {
     "end_time": "2021-07-21T19:27:58.270915Z",
     "start_time": "2021-07-21T19:27:36.201034Z"
    }
   },
   "outputs": [],
   "source": [
    "with open('images/pickled_figs/zip_map.pickle', 'rb') as f:\n",
    "    fig2=pickle.load(f)\n",
    "fig2.show()"
   ]
  },
  {
   "cell_type": "code",
   "execution_count": null,
   "metadata": {
    "ExecuteTime": {
     "end_time": "2021-07-21T19:27:58.382464Z",
     "start_time": "2021-07-21T19:27:58.271908Z"
    }
   },
   "outputs": [],
   "source": [
    "# fig2=map_choropleth_location(df_county, 'primary_county', 'County', 'offense_id', 'Number of Offenses',\n",
    "#                             CO_county_json, 'properties.name', 'Number of Offenses per County')"
   ]
  },
  {
   "cell_type": "code",
   "execution_count": null,
   "metadata": {
    "ExecuteTime": {
     "end_time": "2021-07-21T19:27:58.478486Z",
     "start_time": "2021-07-21T19:27:58.383456Z"
    }
   },
   "outputs": [],
   "source": [
    "# with open('images/pickled_figs/county_map.pickle', 'wb') as f:\n",
    "#     pickle.dump(fig2, f)"
   ]
  },
  {
   "cell_type": "code",
   "execution_count": null,
   "metadata": {
    "ExecuteTime": {
     "end_time": "2021-07-21T19:27:59.900797Z",
     "start_time": "2021-07-21T19:27:58.479476Z"
    }
   },
   "outputs": [],
   "source": [
    "with open('images/pickled_figs/county_map.pickle', 'rb') as f:\n",
    "    fig2=pickle.load(f)\n",
    "fig2.show()"
   ]
  },
  {
   "cell_type": "markdown",
   "metadata": {},
   "source": [
    "**It takes ~2 minutes to run this notebook**"
   ]
  },
  {
   "cell_type": "markdown",
   "metadata": {},
   "source": [
    "<br><span style=\"font-size:1.2em;\">General crime rate modeling part modeling is in [part III notebook](capstone_project_part3.ipynb). The reason is to make all notebook manageable.</span><br><br>"
   ]
  }
 ],
 "metadata": {
  "hide_input": false,
  "kernelspec": {
   "display_name": "learn-env",
   "language": "python",
   "name": "learn-env"
  },
  "language_info": {
   "codemirror_mode": {
    "name": "ipython",
    "version": 3
   },
   "file_extension": ".py",
   "mimetype": "text/x-python",
   "name": "python",
   "nbconvert_exporter": "python",
   "pygments_lexer": "ipython3",
   "version": "3.8.5"
  },
  "toc": {
   "base_numbering": 1,
   "nav_menu": {},
   "number_sections": true,
   "sideBar": true,
   "skip_h1_title": false,
   "title_cell": "Table of Contents",
   "title_sidebar": "Contents",
   "toc_cell": false,
   "toc_position": {
    "height": "1016px",
    "left": "341px",
    "top": "110px",
    "width": "429.49px"
   },
   "toc_section_display": true,
   "toc_window_display": true
  },
  "varInspector": {
   "cols": {
    "lenName": 16,
    "lenType": 16,
    "lenVar": 40
   },
   "kernels_config": {
    "python": {
     "delete_cmd_postfix": "",
     "delete_cmd_prefix": "del ",
     "library": "var_list.py",
     "varRefreshCmd": "print(var_dic_list())"
    },
    "r": {
     "delete_cmd_postfix": ") ",
     "delete_cmd_prefix": "rm(",
     "library": "var_list.r",
     "varRefreshCmd": "cat(var_dic_list()) "
    }
   },
   "types_to_exclude": [
    "module",
    "function",
    "builtin_function_or_method",
    "instance",
    "_Feature"
   ],
   "window_display": false
  }
 },
 "nbformat": 4,
 "nbformat_minor": 2
}
