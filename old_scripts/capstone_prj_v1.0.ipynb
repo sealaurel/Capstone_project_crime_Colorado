{
 "cells": [
  {
   "cell_type": "markdown",
   "metadata": {},
   "source": [
    "# Data Science Project"
   ]
  },
  {
   "cell_type": "markdown",
   "metadata": {},
   "source": [
    "* Name: Author Name\n",
    "* Email:\n"
   ]
  },
  {
   "cell_type": "markdown",
   "metadata": {},
   "source": [
    "## TABLE OF CONTENTS "
   ]
  },
  {
   "cell_type": "markdown",
   "metadata": {},
   "source": [
    "\n",
    "- **[Introduction](#INTRODUCTION)<br>**\n",
    "- **[OBTAIN](#OBTAIN)**<br>\n",
    "- **[SCRUB](#SCRUB)**<br>\n",
    "- **[EXPLORE](#EXPLORE)**<br>\n",
    "- **[MODEL](#MODEL)**<br>\n",
    "- **[iNTERPRET](#iNTERPRET)**<br>\n",
    "- **[Conclusions/Recommendations](#CONCLUSIONS-&-RECOMMENDATIONS)<br>**\n",
    "___"
   ]
  },
  {
   "cell_type": "markdown",
   "metadata": {},
   "source": [
    "# INTRODUCTION"
   ]
  },
  {
   "cell_type": "markdown",
   "metadata": {},
   "source": [
    "> Explain the point of your project and what question you are trying to answer with your modeling.\n",
    "\n"
   ]
  },
  {
   "cell_type": "code",
   "execution_count": 1,
   "metadata": {
    "ExecuteTime": {
     "end_time": "2021-07-01T14:49:22.022981Z",
     "start_time": "2021-07-01T14:49:21.063758Z"
    }
   },
   "outputs": [],
   "source": [
    "# Importing packages\n",
    "import pandas as pd\n",
    "from pandasql import sqldf\n",
    "import numpy as np\n",
    "import matplotlib.pyplot as plt\n",
    "import seaborn as sns\n",
    "import gzip\n",
    "import shutil\n",
    "import os\n",
    "import sqlite3\n",
    "import db_to_sqlite\n",
    "from sqlite3 import Error\n",
    "import csv\n",
    "from pathlib import Path\n",
    "import subprocess\n",
    "import io\n",
    "import warnings\n",
    "warnings.filterwarnings(action='ignore', category=FutureWarning)\n",
    "\n",
    "\n",
    "%matplotlib inline"
   ]
  },
  {
   "cell_type": "code",
   "execution_count": 2,
   "metadata": {
    "ExecuteTime": {
     "end_time": "2021-07-01T14:49:22.038984Z",
     "start_time": "2021-07-01T14:49:22.023981Z"
    }
   },
   "outputs": [],
   "source": [
    "# This function is needed to easily display the dataframe from a csv file with all the columns names\n",
    "\n",
    "def display_csvfileDF(file_name, folder):\n",
    "    df = pd.read_csv('data/'+folder+file_name, header=0, encoding='UTF-8')\n",
    "    return df\n",
    "\n",
    "def table_query(q):\n",
    "    df = pd.DataFrame(cur.execute(q))\n",
    "    df.columns = [x[0] for x in cur.description]\n",
    "    return df\n",
    "\n",
    "def import_data_to_tables(db_path_name, list_of_files, replace_dir_name):\n",
    "    db_name = Path(db_path_name).resolve()\n",
    "\n",
    "    for entry in list_of_files:\n",
    "        csv_file = Path(entry).resolve()\n",
    "        result = subprocess.run(['sqlite3',\n",
    "                                 str(db_name),\n",
    "                                 '-cmd',\n",
    "                                 '.mode csv',\n",
    "                                 '.import --skip 1 ' + str(csv_file).replace('\\\\','\\\\\\\\')\n",
    "                                 + ' ' + entry.replace('.csv','').replace(replace_dir_name,'')],\n",
    "                                capture_output=True)\n",
    "    return\n",
    "\n",
    "def create_filelist(dir_name,n=2):\n",
    "    files_incidents=[]\n",
    "    files_incidents = os.listdir(dir_name)\n",
    "    files_incidents=files_incidents[n:]\n",
    "    files_incidents=[dir_name + s for s in files_incidents]\n",
    "    return files_incidents\n",
    "\n",
    "def copy_files(file_list, dir_out, dir_in):\n",
    "    for entry in file_list:\n",
    "        shutil.copyfile(dir_out+entry,dir_in+entry)"
   ]
  },
  {
   "cell_type": "markdown",
   "metadata": {},
   "source": [
    "# OBTAIN"
   ]
  },
  {
   "cell_type": "markdown",
   "metadata": {},
   "source": [
    "## Data"
   ]
  },
  {
   "cell_type": "markdown",
   "metadata": {},
   "source": [
    "### Data source"
   ]
  },
  {
   "cell_type": "markdown",
   "metadata": {
    "ExecuteTime": {
     "end_time": "2021-06-29T22:51:09.955934Z",
     "start_time": "2021-06-29T22:51:09.915935Z"
    }
   },
   "source": [
    "Data is from FBI Crime Data Explorer\n",
    "[NIBRS data for Colorado from 2009-2019](https://crime-data-explorer.fr.cloud.gov/pages/downloads)\n",
    "\n",
    "The [data dictionary](data/NIBRS_DataDictionary.pdf) is  and a [record descriptiopn](data/NIBRS_Record_Description.pdf) are available.\n"
   ]
  },
  {
   "cell_type": "markdown",
   "metadata": {
    "ExecuteTime": {
     "end_time": "2021-06-29T22:49:22.256999Z",
     "start_time": "2021-06-29T22:49:22.003934Z"
    }
   },
   "source": [
    "The description of the main and reference tables is in data/README.md file.\n",
    "The agency implemented some changes to the files structure in 2016 and removed the sqlite create and load scripts from the zip directories.\n",
    "Another fact worth mentioning is that files 'nibrs_property_desc.csv' from 2014 and 2015 have duplicated nibrs_property_desc_ids (unique identifier in the nibrs_property_desc table) which complicated the loading of the data."
   ]
  },
  {
   "cell_type": "markdown",
   "metadata": {},
   "source": [
    "### Using an already created sqlite database"
   ]
  },
  {
   "cell_type": "markdown",
   "metadata": {},
   "source": [
    "The notebook with database creation is "
   ]
  },
  {
   "cell_type": "code",
   "execution_count": 3,
   "metadata": {
    "ExecuteTime": {
     "end_time": "2021-07-01T14:49:22.054988Z",
     "start_time": "2021-07-01T14:49:22.039984Z"
    }
   },
   "outputs": [
    {
     "data": {
      "text/plain": [
       "['agency_participation.csv',\n",
       " 'cde_agencies.csv',\n",
       " 'nibrs_arrestee.csv',\n",
       " 'nibrs_arrestee_weapon.csv',\n",
       " 'nibrs_bias_motivation.csv',\n",
       " 'nibrs_criminal_act.csv',\n",
       " 'nibrs_incident.csv',\n",
       " 'nibrs_month.csv',\n",
       " 'nibrs_offender.csv',\n",
       " 'nibrs_offense.csv',\n",
       " 'nibrs_property.csv',\n",
       " 'nibrs_property_desc.csv',\n",
       " 'nibrs_suspected_drug.csv',\n",
       " 'nibrs_suspect_using.csv',\n",
       " 'nibrs_victim.csv',\n",
       " 'nibrs_victim_circumstances.csv',\n",
       " 'nibrs_victim_injury.csv',\n",
       " 'nibrs_victim_offender_rel.csv',\n",
       " 'nibrs_victim_offense.csv',\n",
       " 'nibrs_weapon.csv']"
      ]
     },
     "execution_count": 3,
     "metadata": {},
     "output_type": "execute_result"
    }
   ],
   "source": [
    "#I created a separate directory with only incident data files as a template for lists of data from 2009-2015\n",
    "\n",
    "list_template_early=os.listdir('data/incidents/template_data/')\n",
    "list_template_early"
   ]
  },
  {
   "cell_type": "code",
   "execution_count": 4,
   "metadata": {
    "ExecuteTime": {
     "end_time": "2021-07-01T14:49:22.070992Z",
     "start_time": "2021-07-01T14:49:22.055988Z"
    }
   },
   "outputs": [
    {
     "data": {
      "text/plain": [
       "['nibrs_arrestee.csv',\n",
       " 'nibrs_arrestee_weapon.csv',\n",
       " 'nibrs_bias_motivation.csv',\n",
       " 'nibrs_criminal_act.csv',\n",
       " 'nibrs_incident.csv',\n",
       " 'nibrs_month.csv',\n",
       " 'nibrs_offender.csv',\n",
       " 'nibrs_offense.csv',\n",
       " 'nibrs_property.csv',\n",
       " 'nibrs_property_desc.csv',\n",
       " 'nibrs_suspected_drug.csv',\n",
       " 'nibrs_suspect_using.csv',\n",
       " 'nibrs_victim.csv',\n",
       " 'nibrs_victim_circumstances.csv',\n",
       " 'nibrs_victim_injury.csv',\n",
       " 'nibrs_victim_offender_rel.csv',\n",
       " 'nibrs_victim_offense.csv',\n",
       " 'nibrs_weapon.csv',\n",
       " 'agencies.csv']"
      ]
     },
     "execution_count": 4,
     "metadata": {},
     "output_type": "execute_result"
    }
   ],
   "source": [
    "# List of incident data fiels from 2016-2019\n",
    "\n",
    "list_template_late=list_template_early[2:]\n",
    "list_template_late.append('agencies.csv')\n",
    "list_template_late"
   ]
  },
  {
   "cell_type": "markdown",
   "metadata": {},
   "source": [
    "> I commented out the following cell to avoid overwriting changes to the directories"
   ]
  },
  {
   "cell_type": "code",
   "execution_count": 5,
   "metadata": {
    "ExecuteTime": {
     "end_time": "2021-07-01T14:49:22.086995Z",
     "start_time": "2021-07-01T14:49:22.071993Z"
    }
   },
   "outputs": [],
   "source": [
    "# copy_files(list_template_early, '/Users/elena/Desktop/FBI_crime_files/CO-2009/', 'data/incidents/2009/')\n",
    "# copy_files(list_template_early, '/Users/elena/Desktop/FBI_crime_files/CO-2010/', 'data/incidents/2010/')\n",
    "# copy_files(list_template_early, '/Users/elena/Desktop/FBI_crime_files/CO-2011/', 'data/incidents/2011/')\n",
    "# copy_files(list_template_early, '/Users/elena/Desktop/FBI_crime_files/CO-2012/', 'data/incidents/2012/')\n",
    "# copy_files(list_template_early, '/Users/elena/Desktop/FBI_crime_files/CO-2013/', 'data/incidents/2013/')\n",
    "# copy_files(list_template_early, '/Users/elena/Desktop/FBI_crime_files/CO-2014/', 'data/incidents/2014/')\n",
    "# copy_files(list_template_early, '/Users/elena/Desktop/FBI_crime_files/CO-2015/', 'data/incidents/2015/')"
   ]
  },
  {
   "cell_type": "code",
   "execution_count": 6,
   "metadata": {
    "ExecuteTime": {
     "end_time": "2021-07-01T14:49:22.102999Z",
     "start_time": "2021-07-01T14:49:22.087995Z"
    }
   },
   "outputs": [],
   "source": [
    "# copy_files(list_template_late, '/Users/elena/Desktop/FBI_crime_files/CO-2016/', 'data/incidents/2016/')\n",
    "# copy_files(list_template_late, '/Users/elena/Desktop/FBI_crime_files/CO-2017/', 'data/incidents/2017/')\n",
    "# copy_files(list_template_late, '/Users/elena/Desktop/FBI_crime_files/CO-2018/', 'data/incidents/2018/')\n",
    "# copy_files(list_template_late, '/Users/elena/Desktop/FBI_crime_files/CO-2019/', 'data/incidents/2019/')"
   ]
  },
  {
   "cell_type": "code",
   "execution_count": 7,
   "metadata": {
    "ExecuteTime": {
     "end_time": "2021-07-01T14:49:22.118182Z",
     "start_time": "2021-07-01T14:49:22.104000Z"
    }
   },
   "outputs": [],
   "source": [
    "# Initiating a cursor\n",
    "conn = sqlite3.connect('data/sqlite/db/test.db')\n",
    "cur = conn.cursor()"
   ]
  },
  {
   "cell_type": "code",
   "execution_count": 8,
   "metadata": {
    "ExecuteTime": {
     "end_time": "2021-07-01T14:49:22.134186Z",
     "start_time": "2021-07-01T14:49:22.120183Z"
    }
   },
   "outputs": [
    {
     "data": {
      "text/plain": [
       "[]"
      ]
     },
     "execution_count": 8,
     "metadata": {},
     "output_type": "execute_result"
    }
   ],
   "source": [
    "cur.execute(\"\"\"SELECT name FROM sqlite_master WHERE type='table'\"\"\").fetchall()"
   ]
  },
  {
   "cell_type": "code",
   "execution_count": 9,
   "metadata": {
    "ExecuteTime": {
     "end_time": "2021-07-01T14:49:22.323835Z",
     "start_time": "2021-07-01T14:49:22.136186Z"
    }
   },
   "outputs": [
    {
     "data": {
      "text/plain": [
       "<sqlite3.Cursor at 0x24912922960>"
      ]
     },
     "execution_count": 9,
     "metadata": {},
     "output_type": "execute_result"
    }
   ],
   "source": [
    "# Creating tables in the database\n",
    "sql_file = open('script_to_create_tables.sql')\n",
    "sql_as_string = sql_file.read()\n",
    "cur.executescript(sql_as_string)\n"
   ]
  },
  {
   "cell_type": "code",
   "execution_count": 10,
   "metadata": {
    "ExecuteTime": {
     "end_time": "2021-07-01T14:49:22.338840Z",
     "start_time": "2021-07-01T14:49:22.324836Z"
    }
   },
   "outputs": [
    {
     "data": {
      "text/plain": [
       "[('agencies',),\n",
       " ('agency_participation',),\n",
       " ('cde_agencies',),\n",
       " ('nibrs_activity_type',),\n",
       " ('nibrs_age',),\n",
       " ('nibrs_arrest_type',),\n",
       " ('nibrs_assignment_type',),\n",
       " ('nibrs_bias_list',),\n",
       " ('nibrs_location_type',),\n",
       " ('nibrs_offense_type',),\n",
       " ('nibrs_prop_desc_type',),\n",
       " ('nibrs_victim_type',),\n",
       " ('nibrs_circumstances',),\n",
       " ('nibrs_cleared_except',),\n",
       " ('nibrs_criminal_act',),\n",
       " ('nibrs_criminal_act_type',),\n",
       " ('nibrs_drug_measure_type',),\n",
       " ('nibrs_ethnicity',),\n",
       " ('nibrs_injury',),\n",
       " ('nibrs_justifiable_force',),\n",
       " ('nibrs_prop_loss_type',),\n",
       " ('nibrs_relationship',),\n",
       " ('nibrs_suspected_drug_type',),\n",
       " ('nibrs_using_list',),\n",
       " ('nibrs_weapon_type',),\n",
       " ('ref_race',),\n",
       " ('ref_state',),\n",
       " ('nibrs_arrestee',),\n",
       " ('nibrs_arrestee_weapon',),\n",
       " ('nibrs_bias_motivation',),\n",
       " ('nibrs_month',),\n",
       " ('nibrs_incident',),\n",
       " ('nibrs_offender',),\n",
       " ('nibrs_offense',),\n",
       " ('nibrs_property',),\n",
       " ('nibrs_property_desc',),\n",
       " ('nibrs_suspect_using',),\n",
       " ('nibrs_suspected_drug',),\n",
       " ('nibrs_victim',),\n",
       " ('nibrs_victim_circumstances',),\n",
       " ('nibrs_victim_injury',),\n",
       " ('nibrs_victim_offender_rel',),\n",
       " ('nibrs_victim_offense',),\n",
       " ('nibrs_weapon',)]"
      ]
     },
     "execution_count": 10,
     "metadata": {},
     "output_type": "execute_result"
    }
   ],
   "source": [
    "cur.execute(\"\"\"SELECT name FROM sqlite_master WHERE type='table'\"\"\").fetchall()"
   ]
  },
  {
   "cell_type": "code",
   "execution_count": 11,
   "metadata": {
    "ExecuteTime": {
     "end_time": "2021-07-01T14:49:22.354843Z",
     "start_time": "2021-07-01T14:49:22.339840Z"
    }
   },
   "outputs": [
    {
     "data": {
      "text/html": [
       "<div>\n",
       "<style scoped>\n",
       "    .dataframe tbody tr th:only-of-type {\n",
       "        vertical-align: middle;\n",
       "    }\n",
       "\n",
       "    .dataframe tbody tr th {\n",
       "        vertical-align: top;\n",
       "    }\n",
       "\n",
       "    .dataframe thead th {\n",
       "        text-align: right;\n",
       "    }\n",
       "</style>\n",
       "<table border=\"1\" class=\"dataframe\">\n",
       "  <thead>\n",
       "    <tr style=\"text-align: right;\">\n",
       "      <th></th>\n",
       "      <th>age_id</th>\n",
       "      <th>age_code</th>\n",
       "      <th>age_name</th>\n",
       "    </tr>\n",
       "  </thead>\n",
       "  <tbody>\n",
       "    <tr>\n",
       "      <th>0</th>\n",
       "      <td>1</td>\n",
       "      <td>NN</td>\n",
       "      <td>Under 24 Hours</td>\n",
       "    </tr>\n",
       "    <tr>\n",
       "      <th>1</th>\n",
       "      <td>2</td>\n",
       "      <td>NB</td>\n",
       "      <td>1-6 Days Old</td>\n",
       "    </tr>\n",
       "    <tr>\n",
       "      <th>2</th>\n",
       "      <td>3</td>\n",
       "      <td>BB</td>\n",
       "      <td>7-364 Days Old</td>\n",
       "    </tr>\n",
       "    <tr>\n",
       "      <th>3</th>\n",
       "      <td>4</td>\n",
       "      <td>00</td>\n",
       "      <td>Unknown</td>\n",
       "    </tr>\n",
       "    <tr>\n",
       "      <th>4</th>\n",
       "      <td>5</td>\n",
       "      <td>AG</td>\n",
       "      <td>Age in Years</td>\n",
       "    </tr>\n",
       "    <tr>\n",
       "      <th>5</th>\n",
       "      <td>6</td>\n",
       "      <td>99</td>\n",
       "      <td>Over 98 Years Old</td>\n",
       "    </tr>\n",
       "  </tbody>\n",
       "</table>\n",
       "</div>"
      ],
      "text/plain": [
       "   age_id age_code           age_name\n",
       "0       1       NN     Under 24 Hours\n",
       "1       2       NB       1-6 Days Old\n",
       "2       3       BB     7-364 Days Old\n",
       "3       4       00            Unknown\n",
       "4       5       AG       Age in Years\n",
       "5       6       99  Over 98 Years Old"
      ]
     },
     "execution_count": 11,
     "metadata": {},
     "output_type": "execute_result"
    }
   ],
   "source": [
    "display_csvfileDF('nibrs_age.csv', 'Ref_tables/')\n"
   ]
  },
  {
   "cell_type": "code",
   "execution_count": 12,
   "metadata": {
    "ExecuteTime": {
     "end_time": "2021-07-01T14:49:22.370846Z",
     "start_time": "2021-07-01T14:49:22.355843Z"
    }
   },
   "outputs": [
    {
     "data": {
      "text/plain": [
       "[]"
      ]
     },
     "execution_count": 12,
     "metadata": {},
     "output_type": "execute_result"
    }
   ],
   "source": [
    "cur.execute(\"\"\"SELECT * FROM nibrs_age\"\"\").fetchall()"
   ]
  },
  {
   "cell_type": "code",
   "execution_count": 13,
   "metadata": {
    "ExecuteTime": {
     "end_time": "2021-07-01T14:49:22.418857Z",
     "start_time": "2021-07-01T14:49:22.371847Z"
    }
   },
   "outputs": [
    {
     "name": "stdout",
     "output_type": "stream",
     "text": [
      "total 56\n",
      "drwxr-xr-x 1 elena 197121    0 Jun 30 14:49 .\n",
      "drwxr-xr-x 1 elena 197121    0 Jun 30 15:02 ..\n",
      "-rw-r--r-- 1 elena 197121  477 Jun 30 14:44 nibrs_activity_type.csv\n",
      "-rw-r--r-- 1 elena 197121  137 Jun 30 14:44 nibrs_age.csv\n",
      "-rw-r--r-- 1 elena 197121  105 Jun 30 14:44 nibrs_arrest_type.csv\n",
      "-rw-r--r-- 1 elena 197121  266 Jun 30 14:44 nibrs_assignment_type.csv\n",
      "-rw-r--r-- 1 elena 197121  993 Jun 30 14:44 nibrs_bias_list.csv\n",
      "-rw-r--r-- 1 elena 197121  556 Jun 30 14:44 nibrs_circumstances.csv\n",
      "-rw-r--r-- 1 elena 197121  217 Jun 30 14:44 nibrs_cleared_except.csv\n",
      "-rw-r--r-- 1 elena 197121  442 Jun 30 14:44 nibrs_criminal_act_type.csv\n",
      "-rw-r--r-- 1 elena 197121  218 Jun 30 14:44 nibrs_drug_measure_type.csv\n",
      "-rw-r--r-- 1 elena 197121  134 Jun 30 14:44 nibrs_ethnicity.csv\n",
      "-rw-r--r-- 1 elena 197121  194 Jun 30 14:44 nibrs_injury.csv\n",
      "-rw-r--r-- 1 elena 197121  436 Jun 30 14:44 nibrs_justifiable_force.csv\n",
      "-rw-r--r-- 1 elena 197121 1238 Jun 30 14:44 nibrs_location_type.csv\n",
      "-rw-r--r-- 1 elena 197121 3811 Jun 30 14:44 nibrs_offense_type.csv\n",
      "-rw-r--r-- 1 elena 197121 1696 Jun 30 14:44 nibrs_prop_desc_type.csv\n",
      "-rw-r--r-- 1 elena 197121  142 Jun 30 14:44 nibrs_prop_loss_type.csv\n",
      "-rw-r--r-- 1 elena 197121  793 Jun 30 14:44 nibrs_relationship.csv\n",
      "-rw-r--r-- 1 elena 197121  354 Jun 30 14:44 nibrs_suspected_drug_type.csv\n",
      "-rw-r--r-- 1 elena 197121  129 Jun 30 14:44 nibrs_using_list.csv\n",
      "-rw-r--r-- 1 elena 197121  214 Jun 30 14:44 nibrs_victim_type.csv\n",
      "-rw-r--r-- 1 elena 197121  717 Jun 30 14:44 nibrs_weapon_type.csv\n",
      "-rw-r--r-- 1 elena 197121  639 Jun 30 14:49 ref_race.csv\n",
      "-rw-r--r-- 1 elena 197121 1883 Jun 30 14:49 ref_state.csv\n"
     ]
    }
   ],
   "source": [
    " #All reference table files are in this directory, the actual incident data files are in all data/incidents, split by years\n",
    "!ls -al data/Ref_tables/"
   ]
  },
  {
   "cell_type": "code",
   "execution_count": 14,
   "metadata": {
    "ExecuteTime": {
     "end_time": "2021-07-01T14:49:22.434861Z",
     "start_time": "2021-07-01T14:49:22.419858Z"
    }
   },
   "outputs": [
    {
     "data": {
      "text/plain": [
       "['data/Ref_tables/nibrs_activity_type.csv',\n",
       " 'data/Ref_tables/nibrs_age.csv',\n",
       " 'data/Ref_tables/nibrs_arrest_type.csv',\n",
       " 'data/Ref_tables/nibrs_assignment_type.csv',\n",
       " 'data/Ref_tables/nibrs_bias_list.csv',\n",
       " 'data/Ref_tables/nibrs_circumstances.csv',\n",
       " 'data/Ref_tables/nibrs_cleared_except.csv',\n",
       " 'data/Ref_tables/nibrs_criminal_act_type.csv',\n",
       " 'data/Ref_tables/nibrs_drug_measure_type.csv',\n",
       " 'data/Ref_tables/nibrs_ethnicity.csv',\n",
       " 'data/Ref_tables/nibrs_injury.csv',\n",
       " 'data/Ref_tables/nibrs_justifiable_force.csv',\n",
       " 'data/Ref_tables/nibrs_location_type.csv',\n",
       " 'data/Ref_tables/nibrs_offense_type.csv',\n",
       " 'data/Ref_tables/nibrs_prop_desc_type.csv',\n",
       " 'data/Ref_tables/nibrs_prop_loss_type.csv',\n",
       " 'data/Ref_tables/nibrs_relationship.csv',\n",
       " 'data/Ref_tables/nibrs_suspected_drug_type.csv',\n",
       " 'data/Ref_tables/nibrs_using_list.csv',\n",
       " 'data/Ref_tables/nibrs_victim_type.csv',\n",
       " 'data/Ref_tables/nibrs_weapon_type.csv',\n",
       " 'data/Ref_tables/ref_race.csv',\n",
       " 'data/Ref_tables/ref_state.csv']"
      ]
     },
     "execution_count": 14,
     "metadata": {},
     "output_type": "execute_result"
    }
   ],
   "source": [
    "# Creating a list of ref table files to import theminto tables\n",
    "files_ref=create_filelist('data/Ref_tables/',n=0)\n",
    "files_ref"
   ]
  },
  {
   "cell_type": "code",
   "execution_count": 15,
   "metadata": {
    "ExecuteTime": {
     "end_time": "2021-07-01T14:49:22.638718Z",
     "start_time": "2021-07-01T14:49:22.435861Z"
    }
   },
   "outputs": [],
   "source": [
    "#importing data into reference tables\n",
    "import_data_to_tables('data/sqlite/db/test.db', files_ref, 'data/Ref_tables/')"
   ]
  },
  {
   "cell_type": "code",
   "execution_count": 16,
   "metadata": {
    "ExecuteTime": {
     "end_time": "2021-07-01T14:49:22.653726Z",
     "start_time": "2021-07-01T14:49:22.639719Z"
    }
   },
   "outputs": [
    {
     "data": {
      "text/html": [
       "<div>\n",
       "<style scoped>\n",
       "    .dataframe tbody tr th:only-of-type {\n",
       "        vertical-align: middle;\n",
       "    }\n",
       "\n",
       "    .dataframe tbody tr th {\n",
       "        vertical-align: top;\n",
       "    }\n",
       "\n",
       "    .dataframe thead th {\n",
       "        text-align: right;\n",
       "    }\n",
       "</style>\n",
       "<table border=\"1\" class=\"dataframe\">\n",
       "  <thead>\n",
       "    <tr style=\"text-align: right;\">\n",
       "      <th></th>\n",
       "      <th>suspect_using_id</th>\n",
       "      <th>suspect_using_code</th>\n",
       "      <th>suspect_using_name</th>\n",
       "    </tr>\n",
       "  </thead>\n",
       "  <tbody>\n",
       "    <tr>\n",
       "      <th>0</th>\n",
       "      <td>1</td>\n",
       "      <td>A</td>\n",
       "      <td>Alcohol</td>\n",
       "    </tr>\n",
       "    <tr>\n",
       "      <th>1</th>\n",
       "      <td>2</td>\n",
       "      <td>C</td>\n",
       "      <td>Computer Equipment</td>\n",
       "    </tr>\n",
       "    <tr>\n",
       "      <th>2</th>\n",
       "      <td>3</td>\n",
       "      <td>D</td>\n",
       "      <td>Drugs/Narcotics</td>\n",
       "    </tr>\n",
       "    <tr>\n",
       "      <th>3</th>\n",
       "      <td>4</td>\n",
       "      <td>N</td>\n",
       "      <td>Not Applicable</td>\n",
       "    </tr>\n",
       "  </tbody>\n",
       "</table>\n",
       "</div>"
      ],
      "text/plain": [
       "   suspect_using_id suspect_using_code  suspect_using_name\n",
       "0                 1                  A             Alcohol\n",
       "1                 2                  C  Computer Equipment\n",
       "2                 3                  D     Drugs/Narcotics\n",
       "3                 4                  N      Not Applicable"
      ]
     },
     "execution_count": 16,
     "metadata": {},
     "output_type": "execute_result"
    }
   ],
   "source": [
    "q='SELECT * FROM nibrs_using_list'\n",
    "df=table_query(q)\n",
    "df"
   ]
  },
  {
   "cell_type": "code",
   "execution_count": 17,
   "metadata": {
    "ExecuteTime": {
     "end_time": "2021-07-01T14:50:05.256929Z",
     "start_time": "2021-07-01T14:49:22.654726Z"
    }
   },
   "outputs": [],
   "source": [
    "# Importing incidents data from 2009-2015 to the database\n",
    "\n",
    "list_inc_2009=create_filelist('data/incidents/2009/', n=0)\n",
    "import_data_to_tables('data/sqlite/db/test.db', list_inc_2009, 'data/incidents/2009/')\n",
    "\n",
    "list_inc_2010=create_filelist('data/incidents/2010/', n=0)\n",
    "import_data_to_tables('data/sqlite/db/test.db', list_inc_2010, 'data/incidents/2010/')\n",
    "\n",
    "list_inc_2011=create_filelist('data/incidents/2011/', n=0)\n",
    "import_data_to_tables('data/sqlite/db/test.db', list_inc_2011, 'data/incidents/2011/')\n",
    "\n",
    "list_inc_2012=create_filelist('data/incidents/2012/', n=0)\n",
    "import_data_to_tables('data/sqlite/db/test.db', list_inc_2012, 'data/incidents/2012/')\n",
    "\n",
    "list_inc_2013=create_filelist('data/incidents/2013/', n=0)\n",
    "import_data_to_tables('data/sqlite/db/test.db', list_inc_2013, 'data/incidents/2013/')\n",
    "\n",
    "list_inc_2014=create_filelist('data/incidents/2014/', n=0)\n",
    "import_data_to_tables('data/sqlite/db/test.db', list_inc_2014, 'data/incidents/2014/')\n",
    "\n",
    "list_inc_2015=create_filelist('data/incidents/2015/', n=0)\n",
    "import_data_to_tables('data/sqlite/db/test.db', list_inc_2015, 'data/incidents/2015/')"
   ]
  },
  {
   "cell_type": "code",
   "execution_count": 18,
   "metadata": {
    "ExecuteTime": {
     "end_time": "2021-07-01T14:50:14.535585Z",
     "start_time": "2021-07-01T14:50:05.257932Z"
    }
   },
   "outputs": [
    {
     "data": {
      "text/plain": [
       "1701394"
      ]
     },
     "execution_count": 18,
     "metadata": {},
     "output_type": "execute_result"
    }
   ],
   "source": [
    "q='SELECT * FROM nibrs_incident'\n",
    "df=table_query(q)\n",
    "len(df)"
   ]
  },
  {
   "cell_type": "markdown",
   "metadata": {},
   "source": [
    "**All 2016-2019 files need to be cleaned up because FBI changed the file format. There is a YEAR column that needs to be removed as well as the legacy columns from the previous years need to be added up. It's a tedious job and it needs to be done once and the files need to be backed up.**\n",
    "\n",
    "In order to clean the tables up the following needs to be done<br>\n",
    "\n",
    "   1. Remove all **DATA_YEAR** columns from each file, it's the first column<br>\n",
    "   \n",
    "   2. Files that do not need any changes beyond **DATA_YEAR** column removal<br>\n",
    "    \n",
    "> nibrs_arrestee_weapon.csv<br>\n",
    "nibrs_bias_motivation.csv<br>\n",
    "nibrs_criminal_act.csv<br>\n",
    "nibrs_property_desc.csv<br>\n",
    "nibrs_suspect_using.csv<br>\n",
    "nibrs_suspected_drug.csv<br>\n",
    "nibrs_victim_circumstances.csv<br>\n",
    "nibrs_victim_injury.csv<br>\n",
    "nibrs_victim_offender_rel.csv<br>\n",
    "nibrs_victim_offense.csv<br>\n",
    "nibrs_weapon.csv<br>\n",
    "\n",
    "    \n",
    "   3. in **nibrs_arestee.csv file**:<br><br>\n",
    "   a. between **ARRESTEE_SEQ_NUM** and **ARREST_DATE** there should be an **arrest_num column**<br>\n",
    "   b. Between **CLEARANCE_IND** and **AGE_RANGE_LOW_NUM** should be a **ff_line_number** column. <br>\n",
    "\n",
    "4.  in **nibrs_incident** file:<br><br>\n",
    "    a.between **NIBRS_MONTH_ID** and **CARGO_THEFT_FLAG** column **incident_number**<br>\n",
    "    b.between **DATA_HOME** and **ORIG_FORMAT** column **ddocname**<br>\n",
    "    c.between **ORIG_FORMAT** and **DID** column\t**ff_line_number**<br><br>\n",
    "\n",
    "5. in **nibrs_month.csv** file:<br><br>\n",
    "    a.between **REPORT_DATE** and **UPDATE_FLAG** add **prepared_date** column<br>\n",
    "    b.between **ORIG_FORMAT** and **DATA_HOME** column **ff_line_number**<br>\n",
    "    c.column **MONTH_PUB_STATUS** removed<br><br>\n",
    "\n",
    "6. in **nibrs_offender.csv** file:<br><br>\n",
    "     a.between **ETHNICITY_ID** and **AGE_RANGE_LOW_NUM** column **ff_line_number**<br><br>\n",
    "     \n",
    "7. in **nibrs_offense.csv** file:<br><br>\n",
    "     a. the last column **ff_line_number** should be added<br><br>\n",
    "   \n",
    "8. in **nibrs_property.csv** file:<br><br>\n",
    "     a. the last column **ff_line_number** should be added<br><br>\n",
    "\n",
    "9. in **nibrs_victim.csv** file:<br><br>\n",
    "     a. between **RESIDENT_STATUS_CODE** and **AGE_RANGE_LOW_NUM** two columns **agency_data_year** and **ff_line_number** (in that order) should be added\n",
    "    \n"
   ]
  },
  {
   "cell_type": "code",
   "execution_count": 19,
   "metadata": {
    "ExecuteTime": {
     "end_time": "2021-07-01T14:50:35.245809Z",
     "start_time": "2021-07-01T14:50:14.536586Z"
    }
   },
   "outputs": [],
   "source": [
    "# Importing cleaned-up files to the tables and chacking numbers along the way\n",
    "\n",
    "list_inc_2016=create_filelist('data/incidents/2016/', n=0)\n",
    "import_data_to_tables('data/sqlite/db/test.db', list_inc_2016, 'data/incidents/2016/')"
   ]
  },
  {
   "cell_type": "code",
   "execution_count": 20,
   "metadata": {
    "ExecuteTime": {
     "end_time": "2021-07-01T14:50:46.008991Z",
     "start_time": "2021-07-01T14:50:35.246810Z"
    }
   },
   "outputs": [
    {
     "data": {
      "text/plain": [
       "1983733"
      ]
     },
     "execution_count": 20,
     "metadata": {},
     "output_type": "execute_result"
    }
   ],
   "source": [
    "q='SELECT * FROM nibrs_incident'\n",
    "df=table_query(q)\n",
    "len(df)"
   ]
  },
  {
   "cell_type": "code",
   "execution_count": 21,
   "metadata": {
    "ExecuteTime": {
     "end_time": "2021-07-01T14:50:52.910813Z",
     "start_time": "2021-07-01T14:50:46.009991Z"
    }
   },
   "outputs": [],
   "source": [
    "list_inc_2017=create_filelist('data/incidents/2017/', n=0)\n",
    "import_data_to_tables('data/sqlite/db/test.db', list_inc_2017, 'data/incidents/2017/')"
   ]
  },
  {
   "cell_type": "code",
   "execution_count": 22,
   "metadata": {
    "ExecuteTime": {
     "end_time": "2021-07-01T14:51:05.238374Z",
     "start_time": "2021-07-01T14:50:52.911815Z"
    }
   },
   "outputs": [
    {
     "data": {
      "text/plain": [
       "2269247"
      ]
     },
     "execution_count": 22,
     "metadata": {},
     "output_type": "execute_result"
    }
   ],
   "source": [
    "q='SELECT * FROM nibrs_incident'\n",
    "df=table_query(q)\n",
    "len(df)"
   ]
  },
  {
   "cell_type": "code",
   "execution_count": 23,
   "metadata": {
    "ExecuteTime": {
     "end_time": "2021-07-01T14:51:12.202087Z",
     "start_time": "2021-07-01T14:51:05.240373Z"
    }
   },
   "outputs": [],
   "source": [
    "list_inc_2018=create_filelist('data/incidents/2018/', n=0)\n",
    "import_data_to_tables('data/sqlite/db/test.db', list_inc_2018, 'data/incidents/2018/')"
   ]
  },
  {
   "cell_type": "code",
   "execution_count": 24,
   "metadata": {
    "ExecuteTime": {
     "end_time": "2021-07-01T14:51:25.981517Z",
     "start_time": "2021-07-01T14:51:12.203089Z"
    }
   },
   "outputs": [
    {
     "data": {
      "text/plain": [
       "2556043"
      ]
     },
     "execution_count": 24,
     "metadata": {},
     "output_type": "execute_result"
    }
   ],
   "source": [
    "q='SELECT * FROM nibrs_incident'\n",
    "df=table_query(q)\n",
    "len(df)"
   ]
  },
  {
   "cell_type": "code",
   "execution_count": 25,
   "metadata": {
    "ExecuteTime": {
     "end_time": "2021-07-01T14:51:32.498612Z",
     "start_time": "2021-07-01T14:51:25.982508Z"
    }
   },
   "outputs": [],
   "source": [
    "list_inc_2019=create_filelist('data/incidents/2019/', n=0)\n",
    "import_data_to_tables('data/sqlite/db/test.db', list_inc_2019, 'data/incidents/2019/')"
   ]
  },
  {
   "cell_type": "code",
   "execution_count": null,
   "metadata": {
    "ExecuteTime": {
     "end_time": "2021-07-01T14:51:47.834828Z",
     "start_time": "2021-07-01T14:51:32.499621Z"
    }
   },
   "outputs": [],
   "source": [
    "q='SELECT * FROM nibrs_incident'\n",
    "df=table_query(q)"
   ]
  },
  {
   "cell_type": "code",
   "execution_count": 31,
   "metadata": {
    "ExecuteTime": {
     "end_time": "2021-07-01T21:39:09.717133Z",
     "start_time": "2021-07-01T21:39:09.703130Z"
    }
   },
   "outputs": [
    {
     "data": {
      "text/html": [
       "<div>\n",
       "<style scoped>\n",
       "    .dataframe tbody tr th:only-of-type {\n",
       "        vertical-align: middle;\n",
       "    }\n",
       "\n",
       "    .dataframe tbody tr th {\n",
       "        vertical-align: top;\n",
       "    }\n",
       "\n",
       "    .dataframe thead th {\n",
       "        text-align: right;\n",
       "    }\n",
       "</style>\n",
       "<table border=\"1\" class=\"dataframe\">\n",
       "  <thead>\n",
       "    <tr style=\"text-align: right;\">\n",
       "      <th></th>\n",
       "      <th>agency_id</th>\n",
       "      <th>incident_id</th>\n",
       "      <th>nibrs_month_id</th>\n",
       "      <th>incident_number</th>\n",
       "      <th>cargo_theft_flag</th>\n",
       "      <th>submission_date</th>\n",
       "      <th>incident_date</th>\n",
       "      <th>report_date_flag</th>\n",
       "      <th>incident_hour</th>\n",
       "      <th>cleared_except_id</th>\n",
       "      <th>cleared_except_date</th>\n",
       "      <th>incident_status</th>\n",
       "      <th>data_home</th>\n",
       "      <th>ddocname</th>\n",
       "      <th>orig_format</th>\n",
       "      <th>ff_line_number</th>\n",
       "      <th>did</th>\n",
       "    </tr>\n",
       "  </thead>\n",
       "  <tbody>\n",
       "    <tr>\n",
       "      <th>0</th>\n",
       "      <td>1971</td>\n",
       "      <td>51264520</td>\n",
       "      <td>4814762</td>\n",
       "      <td>09000019</td>\n",
       "      <td></td>\n",
       "      <td></td>\n",
       "      <td>2009-01-05 00:00:00</td>\n",
       "      <td></td>\n",
       "      <td>22</td>\n",
       "      <td>6</td>\n",
       "      <td></td>\n",
       "      <td>0</td>\n",
       "      <td>C</td>\n",
       "      <td>2009_01_CO0320000_09000019_INC_NIBRS</td>\n",
       "      <td></td>\n",
       "      <td></td>\n",
       "      <td></td>\n",
       "    </tr>\n",
       "    <tr>\n",
       "      <th>1</th>\n",
       "      <td>1971</td>\n",
       "      <td>51264521</td>\n",
       "      <td>4814762</td>\n",
       "      <td>09000053</td>\n",
       "      <td></td>\n",
       "      <td></td>\n",
       "      <td>2009-01-13 00:00:00</td>\n",
       "      <td></td>\n",
       "      <td></td>\n",
       "      <td>6</td>\n",
       "      <td></td>\n",
       "      <td>0</td>\n",
       "      <td>C</td>\n",
       "      <td>2009_01_CO0320000_09000053_INC_NIBRS</td>\n",
       "      <td></td>\n",
       "      <td></td>\n",
       "      <td></td>\n",
       "    </tr>\n",
       "    <tr>\n",
       "      <th>2</th>\n",
       "      <td>1971</td>\n",
       "      <td>51264523</td>\n",
       "      <td>4814762</td>\n",
       "      <td>09000082</td>\n",
       "      <td></td>\n",
       "      <td></td>\n",
       "      <td>2009-01-17 00:00:00</td>\n",
       "      <td></td>\n",
       "      <td>19</td>\n",
       "      <td>6</td>\n",
       "      <td></td>\n",
       "      <td>0</td>\n",
       "      <td>C</td>\n",
       "      <td>2009_01_CO0320000_09000082_INC_NIBRS</td>\n",
       "      <td></td>\n",
       "      <td></td>\n",
       "      <td></td>\n",
       "    </tr>\n",
       "    <tr>\n",
       "      <th>3</th>\n",
       "      <td>1971</td>\n",
       "      <td>51264524</td>\n",
       "      <td>4814762</td>\n",
       "      <td>09000092</td>\n",
       "      <td></td>\n",
       "      <td></td>\n",
       "      <td>2009-01-20 00:00:00</td>\n",
       "      <td>R</td>\n",
       "      <td></td>\n",
       "      <td>6</td>\n",
       "      <td></td>\n",
       "      <td>0</td>\n",
       "      <td>C</td>\n",
       "      <td>2009_01_CO0320000_09000092_INC_NIBRS</td>\n",
       "      <td></td>\n",
       "      <td></td>\n",
       "      <td></td>\n",
       "    </tr>\n",
       "    <tr>\n",
       "      <th>4</th>\n",
       "      <td>1971</td>\n",
       "      <td>51264525</td>\n",
       "      <td>4814762</td>\n",
       "      <td>09000097</td>\n",
       "      <td></td>\n",
       "      <td></td>\n",
       "      <td>2009-01-21 00:00:00</td>\n",
       "      <td></td>\n",
       "      <td></td>\n",
       "      <td>6</td>\n",
       "      <td></td>\n",
       "      <td>0</td>\n",
       "      <td>C</td>\n",
       "      <td>2009_01_CO0320000_09000097_INC_NIBRS</td>\n",
       "      <td></td>\n",
       "      <td></td>\n",
       "      <td></td>\n",
       "    </tr>\n",
       "  </tbody>\n",
       "</table>\n",
       "</div>"
      ],
      "text/plain": [
       "   agency_id  incident_id  nibrs_month_id incident_number cargo_theft_flag  \\\n",
       "0       1971     51264520         4814762        09000019                    \n",
       "1       1971     51264521         4814762        09000053                    \n",
       "2       1971     51264523         4814762        09000082                    \n",
       "3       1971     51264524         4814762        09000092                    \n",
       "4       1971     51264525         4814762        09000097                    \n",
       "\n",
       "  submission_date        incident_date report_date_flag incident_hour  \\\n",
       "0                  2009-01-05 00:00:00                             22   \n",
       "1                  2009-01-13 00:00:00                                  \n",
       "2                  2009-01-17 00:00:00                             19   \n",
       "3                  2009-01-20 00:00:00                R                 \n",
       "4                  2009-01-21 00:00:00                                  \n",
       "\n",
       "   cleared_except_id cleared_except_date  incident_status data_home  \\\n",
       "0                  6                                    0         C   \n",
       "1                  6                                    0         C   \n",
       "2                  6                                    0         C   \n",
       "3                  6                                    0         C   \n",
       "4                  6                                    0         C   \n",
       "\n",
       "                               ddocname orig_format ff_line_number did  \n",
       "0  2009_01_CO0320000_09000019_INC_NIBRS                                 \n",
       "1  2009_01_CO0320000_09000053_INC_NIBRS                                 \n",
       "2  2009_01_CO0320000_09000082_INC_NIBRS                                 \n",
       "3  2009_01_CO0320000_09000092_INC_NIBRS                                 \n",
       "4  2009_01_CO0320000_09000097_INC_NIBRS                                 "
      ]
     },
     "execution_count": 31,
     "metadata": {},
     "output_type": "execute_result"
    }
   ],
   "source": [
    "df.head()"
   ]
  },
  {
   "cell_type": "code",
   "execution_count": 28,
   "metadata": {
    "ExecuteTime": {
     "end_time": "2021-07-01T14:51:47.866348Z",
     "start_time": "2021-07-01T14:51:47.851346Z"
    }
   },
   "outputs": [],
   "source": [
    "#cur.close()\n",
    "\n",
    "#conn.close()\n",
    "\n",
    "#!rm data/sqlite/db/test.db"
   ]
  },
  {
   "cell_type": "markdown",
   "metadata": {
    "heading_collapsed": true
   },
   "source": [
    "# SCRUB"
   ]
  },
  {
   "cell_type": "markdown",
   "metadata": {},
   "source": [
    "# EXPLORE"
   ]
  },
  {
   "cell_type": "markdown",
   "metadata": {},
   "source": [
    "# MODEL"
   ]
  },
  {
   "cell_type": "code",
   "execution_count": null,
   "metadata": {},
   "outputs": [],
   "source": []
  },
  {
   "cell_type": "markdown",
   "metadata": {},
   "source": [
    "# iNTERPRET"
   ]
  },
  {
   "cell_type": "code",
   "execution_count": null,
   "metadata": {},
   "outputs": [],
   "source": []
  },
  {
   "cell_type": "markdown",
   "metadata": {},
   "source": [
    "# CONCLUSIONS & RECOMMENDATIONS"
   ]
  },
  {
   "cell_type": "markdown",
   "metadata": {},
   "source": [
    "> Summarize your conclusions and bullet-point your list of recommendations, which are based on your modeling results."
   ]
  },
  {
   "cell_type": "markdown",
   "metadata": {},
   "source": [
    "# TO DO/FUTURE WORK"
   ]
  },
  {
   "cell_type": "markdown",
   "metadata": {},
   "source": [
    "- "
   ]
  },
  {
   "cell_type": "code",
   "execution_count": null,
   "metadata": {},
   "outputs": [],
   "source": []
  }
 ],
 "metadata": {
  "hide_input": false,
  "kernelspec": {
   "display_name": "learn-env",
   "language": "python",
   "name": "learn-env"
  },
  "language_info": {
   "codemirror_mode": {
    "name": "ipython",
    "version": 3
   },
   "file_extension": ".py",
   "mimetype": "text/x-python",
   "name": "python",
   "nbconvert_exporter": "python",
   "pygments_lexer": "ipython3",
   "version": "3.8.5"
  },
  "toc": {
   "base_numbering": 1,
   "nav_menu": {},
   "number_sections": false,
   "sideBar": true,
   "skip_h1_title": false,
   "title_cell": "Table of Contents",
   "title_sidebar": "Contents",
   "toc_cell": false,
   "toc_position": {},
   "toc_section_display": true,
   "toc_window_display": true
  },
  "varInspector": {
   "cols": {
    "lenName": 16,
    "lenType": 16,
    "lenVar": 40
   },
   "kernels_config": {
    "python": {
     "delete_cmd_postfix": "",
     "delete_cmd_prefix": "del ",
     "library": "var_list.py",
     "varRefreshCmd": "print(var_dic_list())"
    },
    "r": {
     "delete_cmd_postfix": ") ",
     "delete_cmd_prefix": "rm(",
     "library": "var_list.r",
     "varRefreshCmd": "cat(var_dic_list()) "
    }
   },
   "types_to_exclude": [
    "module",
    "function",
    "builtin_function_or_method",
    "instance",
    "_Feature"
   ],
   "window_display": false
  }
 },
 "nbformat": 4,
 "nbformat_minor": 2
}
