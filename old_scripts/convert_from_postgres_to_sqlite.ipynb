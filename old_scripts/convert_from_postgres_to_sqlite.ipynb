{
 "cells": [
  {
   "cell_type": "code",
   "execution_count": null,
   "metadata": {},
   "outputs": [],
   "source": [
    "import sys\n",
    "import psycopg2\n",
    "import sqlite3\n",
    "\n",
    "# create a sqlite db\n",
    "sqliteConnection = sqlite3.connect(\"olai.db\")\n",
    "sqliteCursor = sqliteConnection.cursor()\n",
    "# ref: http://hakanu.net/sql/2015/08/25/sqlite-unicode-string-problem/\n",
    "sqliteConnection.text_factory = lambda x: unicode(x, 'utf-8', 'ignore')\n",
    "\n",
    "# connect to postgresql\n",
    "pgConnectString = \"host='localhost' dbname='postgres' user='postgres' password=''\"\n",
    "pgConnection=psycopg2.connect(pgConnectString)\n",
    "pgCursor = pgConnection.cursor()\n",
    "\n",
    "# select from the table\n",
    "pgCursor.execute(\"SELECT * from entry\")\n",
    "rows = pgCursor.fetchall()\n",
    "\n",
    "# loop and insert into sqlite\n",
    "for row in rows:\n",
    "    sqliteCursor.execute(\"INSERT INTO ENTRY (id, title ) VALUES (:id, :title)\", {\"id\": row[0], \"title\": row[1]})\n",
    "    sqliteConnection.commit()\n",
    "\n",
    "# close all connections\n",
    "sqliteConnection.close()\n",
    "pgConnection.close()"
   ]
  }
 ],
 "metadata": {
  "hide_input": false,
  "kernelspec": {
   "display_name": "learn-env",
   "language": "python",
   "name": "learn-env"
  },
  "language_info": {
   "codemirror_mode": {
    "name": "ipython",
    "version": 3
   },
   "file_extension": ".py",
   "mimetype": "text/x-python",
   "name": "python",
   "nbconvert_exporter": "python",
   "pygments_lexer": "ipython3",
   "version": "3.8.5"
  },
  "toc": {
   "base_numbering": 1,
   "nav_menu": {},
   "number_sections": true,
   "sideBar": true,
   "skip_h1_title": false,
   "title_cell": "Table of Contents",
   "title_sidebar": "Contents",
   "toc_cell": false,
   "toc_position": {},
   "toc_section_display": true,
   "toc_window_display": true
  }
 },
 "nbformat": 4,
 "nbformat_minor": 4
}
